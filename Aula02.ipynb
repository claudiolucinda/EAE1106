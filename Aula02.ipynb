{
 "cells": [
  {
   "cell_type": "markdown",
   "id": "eac49fd1",
   "metadata": {},
   "source": [
    "<br>\n",
    "<p style=\"text-align: center;\"><font size=6><b>EAE1106 - Métodos Computacionais para Economistas</b></font></p>\n",
    "\n",
    "<p style=\"text-align: center;\"> Departamento de Economia | Faculdade de Economia, Administração, Contabilidade e Atuaria <br> Universidade de São Paulo <br><br></p>\n",
    "    \n",
    "<p style=\"text-align: center;\"><font size=4>Prof. Danilo Souza e Prof. Claudio Lucinda</font> <br>\n",
    "    <a href=\"https://www.danilosouza.com/teaching/eae1106\">danilosouza.com/teaching/eae1106</a><br><br></p>\n",
    "    <a href=\"https://github.com/claudiolucinda/EAE1106\">github.com/claudiolucinda/EAE1106</a><br><br></p>\n",
    "\n",
    "\n",
    "<p style=\"text-align: center;\">2º semestre de 2022</p>\n",
    "<hr>\n"
   ]
  },
  {
   "cell_type": "markdown",
   "id": "140b5f62",
   "metadata": {},
   "source": [
    "<font size=6><b>Aula 02</b></font>\n",
    "<br><br>\n",
    "\n",
    "Nesta aula, vamos abordar os seguintes temas:\n",
    "\n",
    "* Instalando o Python: Python puro X distribuição Anaconda\n",
    "* Anaconda e suas nuances\n",
    "* Instalando pacotes através do Anaconda Prompt\n",
    "* Spyder e Jupyter\n",
    "* Construindo nosso primeiro programa\n",
    "\n",
    "<br>\n",
    "\n",
    "Formalmente, seguiremos a ordem abaixo:"
   ]
  },
  {
   "cell_type": "markdown",
   "id": "e213193d",
   "metadata": {
    "toc": true
   },
   "source": [
    "<h1>Plano de aula<span class=\"tocSkip\"></span></h1>\n",
    "<div class=\"toc\"><ul class=\"toc-item\"><li><span><a href=\"#Como-instalar-o-Python?\" data-toc-modified-id=\"Como-instalar-o-Python?-1\"><span class=\"toc-item-num\">1&nbsp;&nbsp;</span>Como instalar o Python?</a></span><ul class=\"toc-item\"><li><span><a href=\"#Instalando-o-Anaconda\" data-toc-modified-id=\"Instalando-o-Anaconda-1.1\"><span class=\"toc-item-num\">1.1&nbsp;&nbsp;</span>Instalando o Anaconda</a></span></li><li><span><a href=\"#Anaconda-e-suas-particularidades\" data-toc-modified-id=\"Anaconda-e-suas-particularidades-1.2\"><span class=\"toc-item-num\">1.2&nbsp;&nbsp;</span>Anaconda e suas particularidades</a></span></li></ul></li><li><span><a href=\"#Instalando-pacotes\" data-toc-modified-id=\"Instalando-pacotes-2\"><span class=\"toc-item-num\">2&nbsp;&nbsp;</span>Instalando pacotes</a></span></li><li><span><a href=\"#Spyder-e-Jupyter\" data-toc-modified-id=\"Spyder-e-Jupyter-3\"><span class=\"toc-item-num\">3&nbsp;&nbsp;</span>Spyder e Jupyter</a></span><ul class=\"toc-item\"><li><span><a href=\"#Instalando-o-nbextensions\" data-toc-modified-id=\"Instalando-o-nbextensions-3.1\"><span class=\"toc-item-num\">3.1&nbsp;&nbsp;</span>Instalando o nbextensions</a></span></li></ul></li><li><span><a href=\"#Construindo-nosso-primeiro-programa\" data-toc-modified-id=\"Construindo-nosso-primeiro-programa-4\"><span class=\"toc-item-num\">4&nbsp;&nbsp;</span>Construindo nosso primeiro programa</a></span><ul class=\"toc-item\"><li><span><a href=\"#Operadores-aritméticos\" data-toc-modified-id=\"Operadores-aritméticos-4.1\"><span class=\"toc-item-num\">4.1&nbsp;&nbsp;</span>Operadores aritméticos</a></span></li><li><span><a href=\"#Instruções-de-atribuição\" data-toc-modified-id=\"Instruções-de-atribuição-4.2\"><span class=\"toc-item-num\">4.2&nbsp;&nbsp;</span>Instruções de atribuição</a></span></li><li><span><a href=\"#Nomes-de-variáveis\" data-toc-modified-id=\"Nomes-de-variáveis-4.3\"><span class=\"toc-item-num\">4.3&nbsp;&nbsp;</span>Nomes de variáveis</a></span></li><li><span><a href=\"#Expressões-e-instruções\" data-toc-modified-id=\"Expressões-e-instruções-4.4\"><span class=\"toc-item-num\">4.4&nbsp;&nbsp;</span>Expressões e instruções</a></span></li><li><span><a href=\"#Linguagens-formais-e-naturais\" data-toc-modified-id=\"Linguagens-formais-e-naturais-4.5\"><span class=\"toc-item-num\">4.5&nbsp;&nbsp;</span>Linguagens formais e naturais</a></span></li></ul></li><li><span><a href=\"#Um-pouco-mais-sobre-a-importância-do-StackOverflow\" data-toc-modified-id=\"Um-pouco-mais-sobre-a-importância-do-StackOverflow-5\"><span class=\"toc-item-num\">5&nbsp;&nbsp;</span>Um pouco mais sobre a importância do StackOverflow</a></span></li><li><span><a href=\"#Exercícios\" data-toc-modified-id=\"Exercícios-6\"><span class=\"toc-item-num\">6&nbsp;&nbsp;</span>Exercícios</a></span></li></ul></div>"
   ]
  },
  {
   "cell_type": "markdown",
   "id": "bf554e99",
   "metadata": {},
   "source": [
    "***"
   ]
  },
  {
   "cell_type": "markdown",
   "id": "de4efd76-bf86-4036-b882-352ab99a9380",
   "metadata": {},
   "source": [
    "# Como instalar o Python?\n",
    "\n",
    "Existe mais de uma forma de instalar o Python no seu sistema e ainda mais formas de interagir com a linguagem. Você pode baixar o Python _puro_ (https://www.python.org/downloads/) e instalá-lo diretamente em sua máquina, porém, essa distribuição vem com poucos pacotes já instalados e instalá-los um a um requer paciência. Além disso, a instalação do Python puro pode demandar algumas alterações em configurações do sistema via prompt de comando do Windows, por exemplo, para que seja possível dialogar com a linguagem.\n",
    "\n",
    "<br>\n",
    "<img src=\"https://drive.google.com/uc?export=view&id=1-dx45us00zIDMoZpTmx94a40Qx5TF9Q_\" style=\"width: 500px; max-width: 100%; height: auto\"/>\n",
    "<br><br>\n",
    "\n",
    "Uma forma mais simples de instalar o Python em seu computador é através da distribuição Anaconda (https://www.anaconda.com/distribution/). Além de ser gratuita e conter vários dos pacotes que iremos utilizar, ela nos fornece diversas ferramentas que facilitam nossa interação com a linguagem. É hoje uma das distribuições do Python mais populares no mundo! **Recomendo fortemente utilizar esse caminho**.\n",
    "\n",
    "_O passo a passo a seguir foi feito para o sistema Windows 10. Embora o caminho seja parecido, podem haver algumas divergências em relação ao passo a passo para sistemas Linux e MacOS._\n",
    "\n",
    "<br>\n",
    "\n",
    "## Instalando o Anaconda\n",
    "***\n",
    "\n",
    "1. Baixar e instalar o Anaconda é fácil. O primeiro passo é descobrir se seu sistema Windows é 32-Bit ou 64-Bit. Para tal basta clicar com o botão direito em _Meu Computador_ em sua área de trabalho e acessar a opção _Propriedades_. Uma tela como essa deve aparecer:\n",
    "\n",
    "<br>\n",
    "<img src=\"https://drive.google.com/uc?export=view&id=1-nEFrfegn3nlN_y6Praarhi6RqV9lRfB\" style=\"width: 800px; max-width: 100%; height: auto; border: 3px solid black\"/>\n",
    "<br>\n",
    "\n",
    "Note que na parte _Tipo de Sistema_ aparece justamente o tipo do seu sistema Windows, se 32-Bit ou 64-bit.\n",
    "\n",
    "<br>\n",
    "<img src=\"https://drive.google.com/uc?export=view&id=1-h8umAP9hOzadRewE0u1qP3TaNtElEpI\" style=\"width: 800px; max-width: 100%; height: auto; border: 3px solid black\"/>\n",
    "<br>\n",
    "\n",
    "2. Uma vez definido o tipo de sistema com o qual estamos trabalhando, basta acessar a aba de downloads no site do Anaconda (https://www.anaconda.com/products/distribution/), ir até o fim da barra de rolagem da página e selecionar a opção _32-Bit Graphical Installer_ ou _64-Bit Graphical Installer_ do Python 3.9 para baixar o arquivo executável necessário para a instalação.\n",
    "\n",
    "\n",
    "<br>\n",
    "<img src=\"https://drive.google.com/uc?export=view&id=1-q2got-nkE8_dFNgYIHDzdyP_9t6qXZW\" style=\"width: 800px; max-width: 100%; height: auto; border: 3px solid black\"/>\n",
    "<br>\n",
    "\n",
    "\n",
    "3. Depois de baixado, basta clicar duas vezes sobre o arquivo e ir acompanhando o instalador, mantendo sempre as opções padrão e escolhendo a opção de instalar para todos os usuários do computador, o que requer acesso de administrador.\n",
    "\n",
    "<br>\n",
    "<img src=\"https://drive.google.com/uc?export=view&id=10ANYE_1RgI0thPMCMhbZmRAbHYMxuoWZ\" style=\"width: 400px; max-width: 100%; height: auto; border: 3px solid black\"/>\n",
    "<br>\n",
    "\n",
    "4. Pronto, o Anaconda está instalado e os principais pacotes e programas que utilizaremos também!\n",
    "<br><br>\n",
    "\n",
    "## Anaconda e suas particularidades\n",
    "\n",
    "Como dito acima, anaconda é uma distribuição do Python para computação científica (e.g, ciência de dados e aprendizado de máquina), que visa simplificar o gerenciamento e a implantação de pacotes. As versões de pacotes no Anaconda são gerenciadas pelo sistema de gerenciamento de pacotes _conda_. Através do _conda_ é possível criar ambientes e instalar pacotes distintos de forma a evitar incompatibilidades entre versões de pacotes já instalados. \n",
    "\n",
    "Além disso, o anaconda traz consigo o Anaconda Navigator, um ambiente _user-friendly_ para a gestão de pacotes e aplicativos necessários para a utilização do Python sem que seja preciso ter qualquer conhecimento acerca da utilização correta de terminais (e.g, _prompt de comando_ do Windows). Ao abrir o Anaconda Navigator no Windows, você deve ver algo assim\n",
    "\n",
    "<br>\n",
    "<img src=\"https://drive.google.com/uc?export=view&id=10Df5EQhk-5QfHHe6l1VfiWVYoLIk3qd-\" style=\"width: 800px; max-width: 100%; height: auto; border: 3px solid black\"/>\n",
    "<br>\n",
    "\n",
    "É possível instalar pacotes e fazer muito mais coisa diretamente pelo Anaconda Navigator. Para os que tiverem interesse em saber um pouco mais, esse [vídeo](https://anaconda.cloud/getting-started-with-anaconda-distribution?src=share) é um bom começo."
   ]
  },
  {
   "cell_type": "markdown",
   "id": "f2700d0d",
   "metadata": {},
   "source": [
    "# Instalando pacotes\n",
    "\n",
    "Para instalar novos pacotes para o Python precisamos fazê-lo via prompt de comando. O Anaconda nos fornece um prompt de comando próprio, o __Anaconda Prompt__ que facilita a instalação desses pacotes através dos comandos `conda` ou `pip`. Vamos instalar como exemplo o pacote [`tqdm`](https://github.com/tqdm/tqdm#installation), que nos permite criar barras de progresso em atividades repetidas.\n",
    "\n",
    "1. Abra o __Anaconda prompt__.\n",
    "2. Veja se o pacote já não está instalado: digite `conda list`. \n",
    "3. Você pode utilizar 2 comandos distintos para instalar o pacote: `conda install tqdm` ou `pip install tqdm`.\n",
    "\n",
    "Note também que alguns dos principais pacotes sobre os quais falarei ao longo do curso, _NumPy, SciPy, Matplotlib e Pandas_, já vem instalados com o Anaconda, o que não é verdade no Python puro. Mais do que mostrar o que temos instalado na nossa máquina local, o comando `conda list` nos mostra as versões de cada uma das bibliotecas disponíveis e qual o ambiente utilizado em sua instalação.\n",
    "\n",
    "<br>\n",
    "\n",
    "**Diferença entre _conda_ e _pip_**: falar mais sobre a diferença entre esses dois comandos populares para instalação de pacotes vai um pouco além do escopo desse curso. De forma bastante resumida, podemos dizer que o `pip` é um gerenciador de pacotes que nos permite instalar qualquer biblioteca escrita em Python e disponível no _Python Package Index_ (PyPI), o principal repositório de pacotes para a linguagem. O `conda`, no entanto, é mais do que um simples gerenciador de pacotes já que é possível fazer diferentes instalações em diferentes ambientes de modo a reduzir problemas de incompatibilidade entre versões. Além disso, através do `conda` podemos instalar pacotes escritos em outras linguagens também, como R e C++. Por outro lado, é possível que você demore mais e tenha problemas para instalar alguns pacotes utilizando o `conda`. Aos que quiserem saber um pouco mais sobre a diferença entre esses dois métodos para instalação, esses links ([1](https://www.anaconda.com/blog/understanding-conda-and-pip) e [2](https://pythonspeed.com/articles/conda-vs-pip/)) podem ser um bom começo."
   ]
  },
  {
   "cell_type": "markdown",
   "id": "ecd35213",
   "metadata": {},
   "source": [
    "# Spyder e Jupyter\n",
    "\n",
    "Alguns dos pacotes mais utilizados no Python hoje em dia, como _Pandas_ e _Matplotlib_, já vem instalados com o Anaconda, o que não é verdade na distribuição pura do Python. Além disso, alguns dos programas mais utilizados para interagir com a linguagem, como o _Spyder_ e o _Jupyter Notebook_ também. Tanto o _Spyder_ quanto o _Jupyter_ são ótimas IDEs para trabalhar com o Python, embora cada um tenha suas particularidades.\n",
    "\n",
    "Existem vários comparativos entre essas duas formas (e tantas outras) de trabalhar com o Python ([1](https://ritza.co/articles/pycharm-vs-spyder-vs-jupyter-vs-visual-studio-vs-anaconda-vs-intellij/), [2](https://www.datacamp.com/tutorial/data-science-python-ide) e [3](https://www.kaggle.com/getting-started/271133)), mas no nosso caso talvez seja mais produtivo se formos direto para ambos os programas!"
   ]
  },
  {
   "cell_type": "markdown",
   "id": "4c53f352",
   "metadata": {},
   "source": [
    "## Instalando o nbextensions\n",
    "\n",
    "Acabamos de ver que uma das diferenças mais relevantes para nós, iniciantes na linguagem, ao usar o _Spyder_ ou o _Jupyter_ é a dificuldade, no segundo caso, de fazer uma gestão mais direta das variáveis criadas e da memória utilizada por cada uma delas. É possível, no entanto, superar essa dificuldade através de uma biblioteca que pode ser bastante útil para nós, o `nbextensions` (documentação [aqui](https://jupyter-contrib-nbextensions.readthedocs.io/en/latest/install.html) e [aqui](https://github.com/Jupyter-contrib/jupyter_nbextensions_configurator)).\n",
    "\n",
    "Vamos primeiro instalar essa biblioteca e mais uma outra biblioteca auxiliar que nos permitirá ter um controle maior sobre as extensões. Rode os comandos abaixo no _Anaconda Prompt_\n",
    "\n",
    "1. `pip install jupyter_contrib_nbextensions` \n",
    "2. `pip install jupyter_nbextensions_configurator`\n",
    "3. (se não aparecer) `jupyter contrib nbextension install --user`\n",
    "4. (se não aparecer) `jupyter nbextension enable varInspector/main`\n",
    "\n",
    "Note que uma nova aba _Nbextensions_ foi criada na \"Home Page\" do Jupyter Notebook. Ali é possível ativar e desativar as extensões que possam ser interessante ao nosso propósito. Agora já podemos brincar um pouco com tudo que ela pode nos fornecer!"
   ]
  },
  {
   "cell_type": "markdown",
   "id": "e2663028",
   "metadata": {},
   "source": [
    "# Construindo nosso primeiro programa"
   ]
  },
  {
   "cell_type": "markdown",
   "id": "8f33868c-0cf5-4986-943d-84bbcf08a9e9",
   "metadata": {},
   "source": [
    "Tradicionalmente, o primeiro programa que se escreve em uma nova linguagem chama-se “Hello, World!”, porque tudo o que faz é exibir as palavras “Hello, World!” na tela. No Python, ele se parece com isto:"
   ]
  },
  {
   "cell_type": "code",
   "execution_count": 1,
   "id": "8e05d771-19e4-4668-9dd0-e04a7027cc16",
   "metadata": {},
   "outputs": [
    {
     "name": "stdout",
     "output_type": "stream",
     "text": [
      "Hello, World!\n"
     ]
    }
   ],
   "source": [
    "print('Hello, World!')"
   ]
  },
  {
   "cell_type": "markdown",
   "id": "1522d142-5ff8-4be3-bcdc-989ee794d219",
   "metadata": {},
   "source": [
    "Este é um exemplo de uma instrução print (instrução de impressão), embora na realidade ela não imprima nada em papel. Ela exibe um resultado na tela. As aspas apenas marcam o começo e o fim do texto a ser exibido; elas não aparecem no resultado. Os parênteses indicam que o print é uma função. No Python 2, a instrução print é ligeiramente diferente; ela não é uma função, portanto não usa parênteses.\n",
    "\n",
    "\n",
    "## Operadores aritméticos\n",
    "\n",
    "Depois do “Hello, World”, o próximo passo é a aritmética. O Python tem operadores, que são símbolos especiais representando operações de computação, como adição e multiplicação. Os operadores +, - e \\* executam a adição, a subtração e a multiplicação, Finalmente, o operador \\*\\* executa a exponenciação; isto é, eleva um número a uma potência, como nos seguintes exemplos:"
   ]
  },
  {
   "cell_type": "code",
   "execution_count": 2,
   "id": "a0fbd36f-1747-4c3d-a8db-3e5564d35493",
   "metadata": {},
   "outputs": [
    {
     "data": {
      "text/plain": [
       "42"
      ]
     },
     "execution_count": 2,
     "metadata": {},
     "output_type": "execute_result"
    }
   ],
   "source": [
    "40 + 2"
   ]
  },
  {
   "cell_type": "code",
   "execution_count": 3,
   "id": "aedca6a2-4fb7-4cb1-b9f8-35dbed1eb07f",
   "metadata": {},
   "outputs": [
    {
     "data": {
      "text/plain": [
       "42"
      ]
     },
     "execution_count": 3,
     "metadata": {},
     "output_type": "execute_result"
    }
   ],
   "source": [
    "43 - 1"
   ]
  },
  {
   "cell_type": "code",
   "execution_count": 4,
   "id": "cea4e2c8-341c-43a1-be34-a18b4e9629f0",
   "metadata": {},
   "outputs": [
    {
     "data": {
      "text/plain": [
       "42"
      ]
     },
     "execution_count": 4,
     "metadata": {},
     "output_type": "execute_result"
    }
   ],
   "source": [
    "6 * 7"
   ]
  },
  {
   "cell_type": "code",
   "execution_count": 5,
   "id": "a097d5a9-4f6f-4a9e-ac04-05c58c8345d8",
   "metadata": {},
   "outputs": [
    {
     "data": {
      "text/plain": [
       "42.0"
      ]
     },
     "execution_count": 5,
     "metadata": {},
     "output_type": "execute_result"
    }
   ],
   "source": [
    "84 / 2"
   ]
  },
  {
   "cell_type": "code",
   "execution_count": 6,
   "id": "72bcf322-cca6-4641-8f98-a13939997587",
   "metadata": {},
   "outputs": [
    {
     "data": {
      "text/plain": [
       "42"
      ]
     },
     "execution_count": 6,
     "metadata": {},
     "output_type": "execute_result"
    }
   ],
   "source": [
    "6 ** 2 + 6"
   ]
  },
  {
   "cell_type": "markdown",
   "id": "924f7268-d64b-415a-a960-a9a9c6f63ce6",
   "metadata": {},
   "source": [
    "Em algumas outras linguagens, o ^ é usado para a exponenciação, mas no Python é um operador bitwise, chamado XOR. Se não tiver familiaridade com operadores bitwise, o resultado o surpreenderá. Não abordaremos operadores bitwise neste curso, mas você pode ler sobre eles em http://wiki.python.org/moin/BitwiseOperators."
   ]
  },
  {
   "cell_type": "code",
   "execution_count": 7,
   "id": "fb6044f3-34f5-4866-b4c0-14b9f3807f76",
   "metadata": {},
   "outputs": [
    {
     "data": {
      "text/plain": [
       "4"
      ]
     },
     "execution_count": 7,
     "metadata": {},
     "output_type": "execute_result"
    }
   ],
   "source": [
    "6 ^ 2"
   ]
  },
  {
   "cell_type": "markdown",
   "id": "09119d69-24fc-470b-a00b-d50e65d11389",
   "metadata": {},
   "source": [
    "Um valor é uma das coisas básicas com as quais um programa trabalha, como uma letra ou um número. Alguns valores que vimos até agora foram 2, 42.0 e 'Hello, World!'.\n",
    "\n",
    "Esses valores pertencem a tipos diferentes: 2 é um número inteiro, 42.0 é um número de ponto flutuante e 'Hello, World!' é uma string, assim chamada porque as letras que contém estão em uma sequência em cadeia.\n",
    "\n",
    "Se não tiver certeza sobre qual é o tipo de certo valor, o interpretador pode dizer isso a você:"
   ]
  },
  {
   "cell_type": "code",
   "execution_count": 8,
   "id": "f0a9663d-6694-42b5-a9a6-7b0f45d0b063",
   "metadata": {},
   "outputs": [
    {
     "data": {
      "text/plain": [
       "int"
      ]
     },
     "execution_count": 8,
     "metadata": {},
     "output_type": "execute_result"
    }
   ],
   "source": [
    "type(2)"
   ]
  },
  {
   "cell_type": "code",
   "execution_count": 9,
   "id": "17f117cc-65a2-4f42-8f73-367ad0df85ec",
   "metadata": {},
   "outputs": [
    {
     "data": {
      "text/plain": [
       "float"
      ]
     },
     "execution_count": 9,
     "metadata": {},
     "output_type": "execute_result"
    }
   ],
   "source": [
    "type(42.0)"
   ]
  },
  {
   "cell_type": "code",
   "execution_count": 10,
   "id": "83f5b778-c834-4d8e-af2c-4eb0a7e756b0",
   "metadata": {},
   "outputs": [
    {
     "data": {
      "text/plain": [
       "str"
      ]
     },
     "execution_count": 10,
     "metadata": {},
     "output_type": "execute_result"
    }
   ],
   "source": [
    "type('Hello World')"
   ]
  },
  {
   "cell_type": "markdown",
   "id": "92841d26-43a4-42ee-9722-aac75eb74dfb",
   "metadata": {},
   "source": [
    "Nesses resultados, a palavra \"class\" \\(classe\\) é usada no sentido de categoria; um tipo é uma categoria de valores. Como se poderia esperar, números inteiros pertencem ao tipo _int_, strings pertencem ao tipo _str_ e os números de ponto flutuante pertencem ao tipo _float_.\n",
    "\n",
    "E valores como '2' e '42.0'? Parecem números, mas estão entre aspas como se fossem strings:"
   ]
  },
  {
   "cell_type": "code",
   "execution_count": 11,
   "id": "6a3c929f-3d9c-47ae-bc1a-5f7c0df64234",
   "metadata": {},
   "outputs": [
    {
     "data": {
      "text/plain": [
       "str"
      ]
     },
     "execution_count": 11,
     "metadata": {},
     "output_type": "execute_result"
    }
   ],
   "source": [
    "type('2')"
   ]
  },
  {
   "cell_type": "markdown",
   "id": "feeacf6d-6508-4c98-9a7a-8d8400af57ed",
   "metadata": {},
   "source": [
    "Um dos recursos mais eficientes de uma linguagem de programação é a capacidade de manipular variáveis. Uma variável é um nome que se refere a um valor.\n",
    "\n",
    "## Instruções de atribuição\n",
    "\n",
    "Uma instrução de atribuição cria uma nova variável e dá um valor a ela:"
   ]
  },
  {
   "cell_type": "code",
   "execution_count": 6,
   "id": "f15ef54a-d051-4c25-9310-f8fd20e6cf5a",
   "metadata": {},
   "outputs": [],
   "source": [
    "message = 'And now for something completely different'\n",
    "n = 17\n",
    "pi = 3.141592653589793"
   ]
  },
  {
   "cell_type": "markdown",
   "id": "f03272c7-58e6-446d-a428-a7a7eaf73e8a",
   "metadata": {},
   "source": [
    "Esse exemplo faz três atribuições. A primeira atribui uma string a uma nova variável chamada message; a segunda dá o número inteiro 17 a n; a terceira atribui o valor (aproximado) de $\\pi$ a pi. Uma forma comum de representar variáveis por escrito é colocar o nome com uma flecha apontando para o seu valor. Este tipo de número é chamado de diagrama de estado porque mostra o estado no qual cada uma das variáveis está (pense nele como o estado de espírito da variável). \n",
    "\n",
    "## Nomes de variáveis\n",
    "\n",
    "Os programadores geralmente escolhem nomes significativos para as suas variáveis – eles documentam o uso da variável. Nomes de variáveis podem ser tão longos quanto você queira. Podem conter tanto letras como números, mas não podem começar com um número. É legal usar letras maiúsculas, mas a convenção é usar apenas letras minúsculas para nomes de variáveis. O caractere de sublinhar (\\_) pode aparecer em um nome. Muitas vezes é usado em nomes com várias palavras, como _your\\_name_ ou _airspeed\\_of\\_unladen\\_swallow_.\n",
    "\n",
    "Se você der um nome ilegal a uma variável, recebe um erro de sintaxe:"
   ]
  },
  {
   "cell_type": "code",
   "execution_count": 13,
   "id": "c97d8903-9ed3-468c-9b92-3584465c67c7",
   "metadata": {},
   "outputs": [
    {
     "ename": "SyntaxError",
     "evalue": "invalid syntax (3381618747.py, line 1)",
     "output_type": "error",
     "traceback": [
      "\u001b[1;36m  Input \u001b[1;32mIn [13]\u001b[1;36m\u001b[0m\n\u001b[1;33m    76trombones = 'big parade'\u001b[0m\n\u001b[1;37m      ^\u001b[0m\n\u001b[1;31mSyntaxError\u001b[0m\u001b[1;31m:\u001b[0m invalid syntax\n"
     ]
    }
   ],
   "source": [
    "76trombones = 'big parade'"
   ]
  },
  {
   "cell_type": "code",
   "execution_count": 14,
   "id": "764a6087-cae5-414a-ac19-c30c27a26083",
   "metadata": {},
   "outputs": [
    {
     "ename": "FileNotFoundError",
     "evalue": "[Errno 2] No such file or directory: '@ = 1000000'",
     "output_type": "error",
     "traceback": [
      "\u001b[1;31m---------------------------------------------------------------------------\u001b[0m",
      "\u001b[1;31mFileNotFoundError\u001b[0m                         Traceback (most recent call last)",
      "Input \u001b[1;32mIn [14]\u001b[0m, in \u001b[0;36m<cell line: 1>\u001b[1;34m()\u001b[0m\n\u001b[1;32m----> 1\u001b[0m \u001b[43mget_ipython\u001b[49m\u001b[43m(\u001b[49m\u001b[43m)\u001b[49m\u001b[38;5;241;43m.\u001b[39;49m\u001b[43mrun_line_magic\u001b[49m\u001b[43m(\u001b[49m\u001b[38;5;124;43m'\u001b[39;49m\u001b[38;5;124;43mmore\u001b[39;49m\u001b[38;5;124;43m'\u001b[39;49m\u001b[43m,\u001b[49m\u001b[43m \u001b[49m\u001b[38;5;124;43m'\u001b[39;49m\u001b[38;5;124;43m@ = 1000000\u001b[39;49m\u001b[38;5;124;43m'\u001b[39;49m\u001b[43m)\u001b[49m\n",
      "File \u001b[1;32mC:\\ProgramData\\Anaconda3\\lib\\site-packages\\IPython\\core\\interactiveshell.py:2294\u001b[0m, in \u001b[0;36mInteractiveShell.run_line_magic\u001b[1;34m(self, magic_name, line, _stack_depth)\u001b[0m\n\u001b[0;32m   2292\u001b[0m     kwargs[\u001b[38;5;124m'\u001b[39m\u001b[38;5;124mlocal_ns\u001b[39m\u001b[38;5;124m'\u001b[39m] \u001b[38;5;241m=\u001b[39m \u001b[38;5;28mself\u001b[39m\u001b[38;5;241m.\u001b[39mget_local_scope(stack_depth)\n\u001b[0;32m   2293\u001b[0m \u001b[38;5;28;01mwith\u001b[39;00m \u001b[38;5;28mself\u001b[39m\u001b[38;5;241m.\u001b[39mbuiltin_trap:\n\u001b[1;32m-> 2294\u001b[0m     result \u001b[38;5;241m=\u001b[39m fn(\u001b[38;5;241m*\u001b[39margs, \u001b[38;5;241m*\u001b[39m\u001b[38;5;241m*\u001b[39mkwargs)\n\u001b[0;32m   2295\u001b[0m \u001b[38;5;28;01mreturn\u001b[39;00m result\n",
      "File \u001b[1;32mC:\\ProgramData\\Anaconda3\\lib\\site-packages\\ipykernel\\zmqshell.py:338\u001b[0m, in \u001b[0;36mKernelMagics.less\u001b[1;34m(self, arg_s)\u001b[0m\n\u001b[0;32m    336\u001b[0m     cont \u001b[38;5;241m=\u001b[39m \u001b[38;5;28mself\u001b[39m\u001b[38;5;241m.\u001b[39mshell\u001b[38;5;241m.\u001b[39mpycolorize(openpy\u001b[38;5;241m.\u001b[39mread_py_file(arg_s, skip_encoding_cookie\u001b[38;5;241m=\u001b[39m\u001b[38;5;28;01mFalse\u001b[39;00m))\n\u001b[0;32m    337\u001b[0m \u001b[38;5;28;01melse\u001b[39;00m:\n\u001b[1;32m--> 338\u001b[0m     cont \u001b[38;5;241m=\u001b[39m \u001b[38;5;28;43mopen\u001b[39;49m\u001b[43m(\u001b[49m\u001b[43marg_s\u001b[49m\u001b[43m)\u001b[49m\u001b[38;5;241m.\u001b[39mread()\n\u001b[0;32m    339\u001b[0m page\u001b[38;5;241m.\u001b[39mpage(cont)\n",
      "\u001b[1;31mFileNotFoundError\u001b[0m: [Errno 2] No such file or directory: '@ = 1000000'"
     ]
    }
   ],
   "source": [
    "more@ = 1000000"
   ]
  },
  {
   "cell_type": "code",
   "execution_count": 7,
   "id": "3e8d38d2-e1fc-429e-aaa0-e7589226f491",
   "metadata": {},
   "outputs": [
    {
     "ename": "SyntaxError",
     "evalue": "invalid syntax (3803549429.py, line 1)",
     "output_type": "error",
     "traceback": [
      "\u001b[1;36m  Input \u001b[1;32mIn [7]\u001b[1;36m\u001b[0m\n\u001b[1;33m    class = 'Advanced Theoretical Zymurgy'\u001b[0m\n\u001b[1;37m          ^\u001b[0m\n\u001b[1;31mSyntaxError\u001b[0m\u001b[1;31m:\u001b[0m invalid syntax\n"
     ]
    }
   ],
   "source": [
    "class = 'Advanced Theoretical Zymurgy'"
   ]
  },
  {
   "cell_type": "markdown",
   "id": "ce566b1b-94c2-496f-bb51-7e3f20cc082c",
   "metadata": {},
   "source": [
    "`76trombones` é ilegal porque começa com um número. `more@` é ilegal porque contém um caractere ilegal, o `@`. Mas o que há de errado com `class`?\n",
    "\n",
    "A questão é que class é uma das palavras-chave do Python. O interpretador usa palavras-chave para reconhecer a estrutura do programa e elas não podem ser usadas como nomes de variável. O Python 3 tem estas palavras-chave:\n",
    "\n",
    "```\n",
    "and         del         from        None        True\n",
    "as          elif        global      nonlocal    try\n",
    "assert      else        if          not         while\n",
    "break       except      import      or          with\n",
    "class       False       in          pass        yield\n",
    "continue    finally     is          raise\n",
    "def         for         lambda      return\n",
    "```\n",
    "\n",
    "Você não precisa memorizar essa lista. Na maior parte dos ambientes de desenvolvimento, as palavras-chave são exibidas em uma cor diferente; se você tentar usar uma como nome de variável, vai perceber.\n",
    "\n",
    "## Expressões e instruções\n",
    "\n",
    "Uma expressão é uma combinação de valores, variáveis e operadores. Um valor por si mesmo é considerado uma expressão, assim como uma variável, portanto as expressões seguintes são todas legais:"
   ]
  },
  {
   "cell_type": "code",
   "execution_count": 16,
   "id": "6062d72f-35db-419d-83e3-537d0a70ff7e",
   "metadata": {},
   "outputs": [
    {
     "data": {
      "text/plain": [
       "17"
      ]
     },
     "execution_count": 16,
     "metadata": {},
     "output_type": "execute_result"
    }
   ],
   "source": [
    "n"
   ]
  },
  {
   "cell_type": "code",
   "execution_count": 17,
   "id": "06f996c1-53b7-47b7-8bad-978bce65fbb0",
   "metadata": {},
   "outputs": [
    {
     "data": {
      "text/plain": [
       "42"
      ]
     },
     "execution_count": 17,
     "metadata": {},
     "output_type": "execute_result"
    }
   ],
   "source": [
    "n + 25"
   ]
  },
  {
   "cell_type": "markdown",
   "id": "d97abb51-d856-4e2e-bad7-d04375e10112",
   "metadata": {},
   "source": [
    "Quando você digita uma expressão no prompt, o interpretador a avalia, ou seja, ele encontra o valor da expressão. Neste exemplo, o n tem o valor 17 e n + 25 tem o valor 42.\n",
    "\n",
    "Uma instrução é uma unidade de código que tem um efeito, como criar uma variável ou exibir um valor.\n",
    "\n",
    "```python\n",
    ">>> n = 17\n",
    ">>> print(n)\n",
    "```\n",
    "\n",
    "A primeira linha é uma instrução de atribuição que dá um valor a n. A segunda linha é uma instrução de exibição que exibe o valor de n. Quando você digita uma instrução, o interpretador a executa, o que significa que ele faz o que a instrução diz. Em geral, instruções não têm valores."
   ]
  },
  {
   "cell_type": "markdown",
   "id": "f79b039a-eb15-4c27-8229-f22d39e5f345",
   "metadata": {},
   "source": [
    "## Linguagens formais e naturais\n",
    "\n",
    "As linguagens naturais são os idiomas que as pessoas falam, como inglês, espanhol e francês. Elas não foram criadas pelas pessoas (embora as pessoas tentem impor certa ordem a elas); desenvolveram-se naturalmente. As linguagens formais são linguagens criadas pelas pessoas para aplicações específicas. Por exemplo, a notação que os matemáticos usam é uma linguagem formal especialmente boa para denotar relações entre números e símbolos. Os químicos usam uma linguagem formal para representar a estrutura química de moléculas. E o mais importante:\n",
    "\n",
    "**As linguagens de programação são idiomas formais criados para expressar operações de computação.**\n",
    "\n",
    "As linguagens formais geralmente têm regras de sintaxe estritas que governam a estrutura de declarações. Por exemplo, na matemática a declaração $3 + 3 = $6 tem uma sintaxe correta, mas não $3 + = 3\\$6$. Na química, H2O é uma fórmula sintaticamente correta, mas 2Zz não é. As regras de sintaxe vêm em duas categorias relativas a símbolos e estrutura. Os símbolos são os elementos básicos da linguagem, como palavras, números e elementos químicos. Um dos problemas com $3 + = 3\\$6$ é que o '\\$' não é um símbolo legítimo na matemática (pelo menos até onde eu sei). De forma similar, 2Zz não é legítimo porque não há nenhum elemento com a abreviatura Zz.\n",
    "\n",
    "O segundo tipo de regra de sintaxe refere-se ao modo no qual os símbolos são combinados. A equação 3 + = 3 não é legítima porque, embora + e = sejam símbolos legítimos, não se pode ter um na sequência do outro. De forma similar, em uma fórmula química o subscrito vem depois do nome de elemento, não antes.\n",
    "\n",
    "Esta é um@ frase bem estruturada em portuguê\\$, mas com s\\*mbolos inválidos.\n",
    "\n",
    "Ao ler uma frase em português ou uma declaração em uma linguagem formal, é preciso compreender a estrutura (embora em uma linguagem natural você faça isto de forma subconsciente). Este processo é chamado de análise. Embora as linguagens formais e naturais tenham muitas características em comum – símbolos, estrutura e sintaxe – há algumas diferenças:\n",
    "\n",
    "1. **Ambiguidade**: as linguagens naturais são cheias de ambiguidade e as pessoas lidam com isso usando pistas contextuais e outras informações. As linguagens formais são criadas para ser quase ou completamente inequívocas, ou seja, qualquer afirmação tem exatamente um significado, independentemente do contexto\n",
    "\n",
    "2. **Redundância**: para compensar a ambiguidade e reduzir equívocos, as linguagens naturais usam muita redundância. Por causa disso, muitas vezes são verborrágicas. As linguagens formais são menos redundantes e mais concisas.\n",
    "\n",
    "3. **Literalidade**: as linguagens naturais são cheias de expressões e metáforas. Se eu digo \"caiu a ficha\", provavelmente não há ficha nenhuma na história, nem nada que tenha caído (esta é uma expressão para dizer que alguém entendeu algo depois de certo período de confusão). As linguagens formais têm significados exatamente iguais ao que expressam.\n",
    "\n",
    "Como todos nós crescemos falando linguagens naturais, às vezes é difícil se ajustar a linguagens formais. As linguagens formais são mais densas que as naturais, então exigem mais tempo para a leitura. Além disso, a estrutura é importante, então nem sempre é melhor ler de cima para baixo e da esquerda para a direita. Em vez disso, aprenda a analisar o programa primeiro, identificando os símbolos e interpretando a estrutura. E os detalhes fazem diferença. Pequenos erros em ortografia e pontuação, que podem não importar tanto nas linguagens naturais, podem fazer uma grande diferença em uma língua formal."
   ]
  },
  {
   "cell_type": "markdown",
   "id": "41665a67",
   "metadata": {},
   "source": [
    "# Um pouco mais sobre a importância do StackOverflow"
   ]
  },
  {
   "cell_type": "markdown",
   "id": "2d0ab3d0-623b-4231-a916-fc633724a49f",
   "metadata": {},
   "source": [
    "[Stack Overflow](https://stackoverflow.com/) é um site de perguntas e respostas, um fórum, para programadores profissionais e entusiastas. É o site principal da Stack Exchange Network. Foi criado em 2008 por Jeff Atwood e Joel Spolsky.Ele apresenta perguntas e respostas sobre uma ampla gama de tópicos em programação de computadores. Ele foi criado para ser uma alternativa mais aberta aos sites anteriores de perguntas e respostas, como o Experts-Exchange. O Stack Overflow foi vendido para a Prosus, um conglomerado de internet para consumidores com sede na Holanda, em 2 de junho de 2021 por US$ 1,8 bilhão.\n",
    "\n",
    "O site serve como uma plataforma para os usuários fazerem e responderem perguntas e, por meio de associação e participação ativa, votarem em perguntas e respostas semelhantes ao Reddit e editarem perguntas e respostas de maneira semelhante a um wiki. Os usuários do Stack Overflow podem ganhar pontos de reputação e \"emblemas\"; por exemplo, uma pessoa recebe 10 pontos de reputação por receber um voto \"para cima\" em uma pergunta ou resposta a uma pergunta, e pode receber medalhas por suas valiosas contribuições, o que representa uma gamificação do tradicional Q&A local na internet. Os usuários desbloqueiam novos privilégios com um aumento na reputação, como a capacidade de votar, comentar e até editar as postagens de outras pessoas.\n",
    "\n",
    "Em março de 2021, o Stack Overflow tinha mais de 14 milhões de usuários registrados e recebeu mais de 21 milhões de perguntas e 31 milhões de respostas. Esse fórum, juntamente com outros sites de perguntas e respostas de programação semelhantes, substituíram globalmente principalmente os livros de programação para referência de programação do dia-a-dia nos anos 2000, e hoje são uma parte importante da programação de computadores. Vocês lembram do nosso gráfico de participação de algumas das principais linguagens no total de perguntas do StackOverflow? Qual linguagem está em 1º lugar desde o fim de 2018?"
   ]
  },
  {
   "cell_type": "markdown",
   "id": "4fa48b59-97c8-4ce8-88d1-11a52f440518",
   "metadata": {},
   "source": [
    "# Exercícios\n",
    "\n",
    "1) Inicialize o interpretador do Python e use-o como uma calculadora. Responda as seguintes perguntas:\n",
    "\n",
    "    a) Quantos segundos há em 42 minutos e 42 segundos?\n",
    "    b) Quantas milhas há em 10 quilômetros? Dica: uma milha equivale a 1,61 quilômetro.\n",
    "    c) Se você correr 10 quilômetros em 42 minutos e 42 segundos, qual é o seu passo médio (tempo por milha em minutos e segundos)? Qual é a sua velocidade média em milhas por hora?\n",
    "\n",
    "2) Crie uma conta no StackOverflow e monte seu perfil."
   ]
  }
 ],
 "metadata": {
  "kernelspec": {
   "display_name": "Python 3 (ipykernel)",
   "language": "python",
   "name": "python3"
  },
  "language_info": {
   "codemirror_mode": {
    "name": "ipython",
    "version": 3
   },
   "file_extension": ".py",
   "mimetype": "text/x-python",
   "name": "python",
   "nbconvert_exporter": "python",
   "pygments_lexer": "ipython3",
   "version": "3.9.12"
  },
  "toc": {
   "base_numbering": 1,
   "nav_menu": {},
   "number_sections": true,
   "sideBar": true,
   "skip_h1_title": false,
   "title_cell": "Plano de aula",
   "title_sidebar": "Contents",
   "toc_cell": true,
   "toc_position": {
    "height": "calc(100% - 180px)",
    "left": "10px",
    "top": "150px",
    "width": "307.2px"
   },
   "toc_section_display": true,
   "toc_window_display": true
  },
  "varInspector": {
   "cols": {
    "lenName": 16,
    "lenType": 16,
    "lenVar": 40
   },
   "kernels_config": {
    "python": {
     "delete_cmd_postfix": "",
     "delete_cmd_prefix": "del ",
     "library": "var_list.py",
     "varRefreshCmd": "print(var_dic_list())"
    },
    "r": {
     "delete_cmd_postfix": ") ",
     "delete_cmd_prefix": "rm(",
     "library": "var_list.r",
     "varRefreshCmd": "cat(var_dic_list()) "
    }
   },
   "oldHeight": 265.844,
   "position": {
    "height": "287.844px",
    "left": "1028px",
    "right": "20px",
    "top": "141px",
    "width": "270px"
   },
   "types_to_exclude": [
    "module",
    "function",
    "builtin_function_or_method",
    "instance",
    "_Feature"
   ],
   "varInspector_section_display": "block",
   "window_display": false
  }
 },
 "nbformat": 4,
 "nbformat_minor": 5
}
