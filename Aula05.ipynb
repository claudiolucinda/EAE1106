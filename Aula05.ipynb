{
 "cells": [
  {
   "cell_type": "markdown",
   "id": "eac49fd1",
   "metadata": {},
   "source": [
    "<br>\n",
    "<p style=\"text-align: center;\"><font size=6><b>EAE1106 - Métodos Computacionais para Economistas</b></font></p>\n",
    "\n",
    "<p style=\"text-align: center;\"> Departamento de Economia | Faculdade de Economia, Administração, Contabilidade e Atuaria <br> Universidade de São Paulo <br><br></p>\n",
    "    \n",
    "<p style=\"text-align: center;\"><font size=4>Prof. Danilo Souza e Prof. Claudio Lucinda</font> <br>\n",
    "    <a href=\"https://www.danilosouza.com/teaching/eae1106\">danilosouza.com/teaching/eae1106</a> | <a href=\"https://github.com/claudiolucinda/EAE1106\">github.com/claudiolucinda/EAE1106</a>\n",
    "    <br><br>\n",
    "</p>\n",
    "\n",
    "\n",
    "<p style=\"text-align: center;\">2º semestre de 2022</p>\n",
    "<hr>"
   ]
  },
  {
   "cell_type": "markdown",
   "id": "140b5f62",
   "metadata": {},
   "source": [
    "<font size=6><b>Aula 05 </b></font>\n",
    "<br><br>\n",
    "\n",
    "Hoje falaremos basicamente de várias formas de fazer a repetição de uma sequência de instruções de código sem precisar usar o ctrl+C e ctrl+V. Formalmente, falaremos de controle de fluxo, iteração e recursão. Para tal seguiremos o seguinte plano:"
   ]
  },
  {
   "cell_type": "markdown",
   "id": "e213193d",
   "metadata": {
    "toc": true
   },
   "source": [
    "<h1>Plano de aula<span class=\"tocSkip\"></span></h1>\n",
    "<div class=\"toc\"><ul class=\"toc-item\"><li><span><a href=\"#Repetição-simples-e-a-instrução-for\" data-toc-modified-id=\"Repetição-simples-e-a-instrução-for-1\"><span class=\"toc-item-num\">1&nbsp;&nbsp;</span>Repetição simples e a instrução <em>for</em></a></span><ul class=\"toc-item\"><li><span><a href=\"#ADENDO:-Importando-bibliotecas-de-comandos-e-conjuntos-de-funções\" data-toc-modified-id=\"ADENDO:-Importando-bibliotecas-de-comandos-e-conjuntos-de-funções-1.1\"><span class=\"toc-item-num\">1.1&nbsp;&nbsp;</span>ADENDO: Importando bibliotecas de comandos e conjuntos de funções</a></span></li><li><span><a href=\"#for-loop-e-instruções-condicionais\" data-toc-modified-id=\"for-loop-e-instruções-condicionais-1.2\"><span class=\"toc-item-num\">1.2&nbsp;&nbsp;</span><em>for</em> loop e instruções condicionais</a></span></li><li><span><a href=\"#Exercício-de-fixação\" data-toc-modified-id=\"Exercício-de-fixação-1.3\"><span class=\"toc-item-num\">1.3&nbsp;&nbsp;</span>Exercício de fixação</a></span></li><li><span><a href=\"#Usando-enumerate-e-zip\" data-toc-modified-id=\"Usando-enumerate-e-zip-1.4\"><span class=\"toc-item-num\">1.4&nbsp;&nbsp;</span>Usando <em>enumerate</em> e <em>zip</em></a></span></li><li><span><a href=\"#For-e-list-comprehensions\" data-toc-modified-id=\"For-e-list-comprehensions-1.5\"><span class=\"toc-item-num\">1.5&nbsp;&nbsp;</span><em>For</em> e <em>list comprehensions</em></a></span></li></ul></li><li><span><a href=\"#Reatribuição-e-atualização-de-variáveis\" data-toc-modified-id=\"Reatribuição-e-atualização-de-variáveis-2\"><span class=\"toc-item-num\">2&nbsp;&nbsp;</span>Reatribuição e atualização de variáveis</a></span></li><li><span><a href=\"#Repetição-condicional-e-a-instrução-while\" data-toc-modified-id=\"Repetição-condicional-e-a-instrução-while-3\"><span class=\"toc-item-num\">3&nbsp;&nbsp;</span>Repetição condicional e a instrução <em>while</em></a></span><ul class=\"toc-item\"><li><span><a href=\"#Formas-de-Interromper-um-Loop\" data-toc-modified-id=\"Formas-de-Interromper-um-Loop-3.1\"><span class=\"toc-item-num\">3.1&nbsp;&nbsp;</span>Formas de Interromper um Loop</a></span></li></ul></li><li><span><a href=\"#Aplicação:-Teorema-Central-do-Limite\" data-toc-modified-id=\"Aplicação:-Teorema-Central-do-Limite-4\"><span class=\"toc-item-num\">4&nbsp;&nbsp;</span>Aplicação: Teorema Central do Limite</a></span></li></ul></div>"
   ]
  },
  {
   "cell_type": "markdown",
   "id": "bf554e99",
   "metadata": {},
   "source": [
    "***"
   ]
  },
  {
   "cell_type": "markdown",
   "id": "fb79dea9",
   "metadata": {},
   "source": [
    "# Repetição simples e a instrução _for_\n",
    "\n",
    "Os computadores muitas vezes são usados para automatizar tarefas repetitivas. A repetição de tarefas idênticas ou semelhantes sem cometer erros é algo que os computadores fazem muito bem e as pessoas não. Em um programa de computador, a repetição também é chamada de iteração.\n",
    "\n",
    "De maneira um pouco mais formal, iteração significa executar o mesmo bloco de código repetidamente, potencialmente muitas vezes. Uma estrutura de programação que implementa a iteração é chamada de _loop_. A forma mais simples de iteração é a chamada _iteração definida_, em que o número de vezes que o bloco designado será executado é especificado explicitamente no momento em que o _loop_ é iniciado.\n",
    "\n",
    "Para atingir o objetivo proposto pela _iteração definida_ utilizaremos no Python a instrução `for`. Um loop `for` tem duas partes: um cabeçalho especificando a iteração, que termina em dois pontos, e um corpo **identado** que é executado uma vez por iteração. O corpo pode conter qualquer número de instruções, mas o Python só reconhecerá como parte do corpo o código que estiver identado em relação ao cabeçalho.\n",
    "\n",
    "No Python o `for` tem a cara abaixo\n",
    "\n",
    "```python\n",
    "for <elemento> in <objeto>:\n",
    "    <instruções>\n",
    "```\n",
    "\n",
    "Note que `<objeto>` em geral se refere à uma sequência, seja ela uma lista, uma tupla, um string ou qualquer outro objeto pelo qual seja possível percorrer. Para cada `<elemento>` dentro da sequência `<objeto>` o conjunto de instruções em `<instruções>`será executado. Após percorrer todos os elementos pertencentes à sequência `<objeto>`, o Python para a execução do _loop_.\n",
    "\n",
    "Antes de partir para os exemplos, porém, vamos dar um passo atrás e falar mais sobre algo que apenas citamos algumas aulas atrás que é a importação de bibliotecas de comando e de conjuntos de funções que não estão contidas nas funções e operações nativas do Python. "
   ]
  },
  {
   "cell_type": "markdown",
   "id": "0b312120",
   "metadata": {},
   "source": [
    "## ADENDO: Importando bibliotecas de comandos e conjuntos de funções\n",
    "\n",
    "Sempre que quisermos trazer algo \"de fora\",  devemos carregar as bibliotecas específicas, seja por completo ou apenas um subconjunto de suas funções. Fazemos isso por meio do comando ``import``. Vamos utilizar como exemplo a biblioteca `NumPy`, uma das principais bibliotecas de comando do Python em se tratando de operações algébricas e matriciais.\n",
    "\n",
    "Dedicaremos uma aula inteira para trabalhar com o `NumPy` daqui algumas semanas, mas por hora trabalharemos apenas com as funções geradoras de números aleatórios, em especial a função geradora de números aleatórios distribuídos de acordo com uma Distribuição Uniforme padrão (vocês devem se lembrar das características dessa distribuição das aulas de estatística, mas caso ainda restem dúvidas sempre existe o [Wikipedia](https://pt.wikipedia.org/wiki/Distribui%C3%A7%C3%A3o_uniforme)).\n",
    "\n",
    "Há 3 formas de trabalhar com essa função específica, contida no `NumPy`: \n",
    "\n",
    "<br>\n",
    "\n",
    "1. Podemos importar a biblioteca inteira\n",
    "\n",
    "```python\n",
    "import numpy\n",
    "```\n",
    "\n",
    "2. Podemos importar a biblioteca inteira mas dando-lhe um \"apelido\"\n",
    "\n",
    "```python\n",
    "import numpy as np\n",
    "```\n",
    "\n",
    "3. Podemos importar apenas a função que nos interessa nesse caso\n",
    "\n",
    "```python\n",
    "from numpy.random import uniform\n",
    "```\n",
    "\n",
    "<br>\n",
    "\n",
    "Qual a diferença entre esses métodos? No Python, sempre que formos utilizar uma função de algum pacote \"de fora\" é preciso dizer ao Python de onde que essa função está vindo. Se quisermos usar a função `uniform()` através do 1º método, por exemplo, é preciso chamá-la utilizando o nome do pacote, nesse caso `numpy.random.uniform()`. O 2º método encurta esse nome de tal forma que é possível chamar a mesma função usando `np.random.uniform()`. Por fim, no 3º caso basta chamar a função diretamente, isto é, `uniform()`. \n",
    "\n",
    "Mas se o 3º caso é mais direto, porque não usá-lo sempre? Por duas razões bem simples: (i) usar a sintaxe dos 2 primeiros casos torna o código mais compreensível e depurável, já que no caso de algum problema de execução sabemos onde procurar a resposta, e (ii) é comum pacotes distintos usarem o mesmo nome para funções que fazem operações distintas, o que pode gerar problemas de incompatibilidade e/ou de executarmos algo diferente daquilo que gostaríamos de executar. \n",
    "\n",
    "Na maioria das vezes, acabamos utilizando o 2º método, já que isso permite reduzir linhas desnecessárias de código ao mesmo tempo que facilita a replicabilidade e a atividade de depuração do código.\n",
    "\n",
    "Voltemos então ao nosso exercício de gerar números aleatórios uniformemente distribuídos:"
   ]
  },
  {
   "cell_type": "code",
   "execution_count": 1,
   "id": "62845cbb",
   "metadata": {},
   "outputs": [],
   "source": [
    "import numpy as np"
   ]
  },
  {
   "cell_type": "markdown",
   "id": "fcc45257",
   "metadata": {},
   "source": [
    "Imagine agora que estejamos interessados em criar um `for` loop que printa 10 números aleatórios sorteados de uma distribuição uniforme que vai de 0 a 1. Utilizando o objeto `range()` e a lógica de listas:"
   ]
  },
  {
   "cell_type": "code",
   "execution_count": 6,
   "id": "a20996aa",
   "metadata": {},
   "outputs": [
    {
     "name": "stdout",
     "output_type": "stream",
     "text": [
      "range(0, 10)\n"
     ]
    }
   ],
   "source": [
    "print(range(0,10))"
   ]
  },
  {
   "cell_type": "code",
   "execution_count": 7,
   "id": "12bee91c",
   "metadata": {},
   "outputs": [
    {
     "name": "stdout",
     "output_type": "stream",
     "text": [
      "[0, 1, 2, 3, 4, 5, 6, 7, 8, 9]\n"
     ]
    }
   ],
   "source": [
    "print(list(range(0,10)))"
   ]
  },
  {
   "cell_type": "code",
   "execution_count": 9,
   "id": "400972e4",
   "metadata": {},
   "outputs": [
    {
     "name": "stdout",
     "output_type": "stream",
     "text": [
      "0.8768445993777283\n",
      "0.5486882637045417\n",
      "0.9904893303266578\n",
      "0.12670117615168286\n",
      "0.37124163164153845\n",
      "0.13834819724032\n",
      "0.28903927949635644\n",
      "0.7560895945497633\n",
      "0.09845089769310078\n",
      "0.9111981222844421\n"
     ]
    }
   ],
   "source": [
    "for i in list(range(0,10)):\n",
    "    \n",
    "    u = np.random.uniform()\n",
    "    print(u)"
   ]
  },
  {
   "cell_type": "markdown",
   "id": "c6744202",
   "metadata": {},
   "source": [
    "No _loop_ acima não utilizamos o elemento `i` em nenhum momento, de modo que a lista nos serviu apenas para ditar o número de vezes que gostaríamos de rodar o bloco de instruções abaixo do cabeçalho, no caso 10. Podemos ir um pouco além."
   ]
  },
  {
   "cell_type": "code",
   "execution_count": 10,
   "id": "2f1ba931",
   "metadata": {},
   "outputs": [
    {
     "name": "stdout",
     "output_type": "stream",
     "text": [
      "Essa é a iteração 1 e o número sorteado foi: 0.01\n",
      "Essa é a iteração 2 e o número sorteado foi: 0.87\n",
      "Essa é a iteração 3 e o número sorteado foi: 0.56\n",
      "Essa é a iteração 4 e o número sorteado foi: 0.87\n",
      "Essa é a iteração 5 e o número sorteado foi: 0.45\n",
      "Essa é a iteração 6 e o número sorteado foi: 0.84\n",
      "Essa é a iteração 7 e o número sorteado foi: 0.08\n",
      "Essa é a iteração 8 e o número sorteado foi: 0.10\n",
      "Essa é a iteração 9 e o número sorteado foi: 0.90\n",
      "Essa é a iteração 10 e o número sorteado foi: 0.04\n"
     ]
    }
   ],
   "source": [
    "for i in list(range(0,10)):\n",
    "    \n",
    "    u = np.random.uniform()\n",
    "    print('Essa é a iteração '+str(i+1)+' e o número sorteado foi: {:.2f}'.format(u)) "
   ]
  },
  {
   "cell_type": "markdown",
   "id": "116d9fc1",
   "metadata": {},
   "source": [
    "Note que nesse caso utilizamos tanto o elemento _iterável_ `i`, quanto o resultado de cada sorteio individual `u`. \n",
    "\n",
    "Como dito anterioremente, o loop `for` funciona com qualquer sequência ou objeto pelo qual seja possível percorrer. Podemos trabalhar, inclusive, com strings e listas como nos exemplos abaixo:"
   ]
  },
  {
   "cell_type": "code",
   "execution_count": 3,
   "id": "c5c31664",
   "metadata": {},
   "outputs": [
    {
     "name": "stdout",
     "output_type": "stream",
     "text": [
      "B\n",
      "o\n",
      "r\n",
      "a\n",
      " \n",
      "B\n",
      "i\n",
      "l\n",
      "l\n"
     ]
    }
   ],
   "source": [
    "str1 = 'Bora Bill'\n",
    "\n",
    "for c in str1:\n",
    "    print(c)"
   ]
  },
  {
   "cell_type": "code",
   "execution_count": 2,
   "id": "c64ffcf1",
   "metadata": {},
   "outputs": [
    {
     "name": "stdout",
     "output_type": "stream",
     "text": [
      "Minha terra tem palmeiras\n",
      "onde canta o sabiá\n",
      "seno A cosseno B\n",
      "seno B cosseno A\n"
     ]
    }
   ],
   "source": [
    "lista1 = ['Minha terra tem palmeiras','onde canta o sabiá','seno A cosseno B','seno B cosseno A']\n",
    "\n",
    "for f in lista1:\n",
    "    print(f)"
   ]
  },
  {
   "cell_type": "markdown",
   "id": "dc0f4be9",
   "metadata": {},
   "source": [
    "## _for_ loop e instruções condicionais\n",
    "\n",
    "Podemos utilizar instruções condicionais dentro de um loop `for` também. Mais do que isso, é possível utilizar esse tipo de instrução para interromper a repetição do código, mesmo antes do Python percorrer todos os elementos da sequência alvo."
   ]
  },
  {
   "cell_type": "code",
   "execution_count": 4,
   "id": "e2fb3794",
   "metadata": {},
   "outputs": [
    {
     "name": "stdout",
     "output_type": "stream",
     "text": [
      "foo\n"
     ]
    }
   ],
   "source": [
    "for i in ['foo','bar','baz','qux']:\n",
    "    \n",
    "    if 'b' in i:\n",
    "        break\n",
    "    print(i)"
   ]
  },
  {
   "cell_type": "markdown",
   "id": "d5fcf5d7",
   "metadata": {},
   "source": [
    "Note que no caso acima, o segundo elemento da lista `['foo','bar','baz','qux']` contém a letra 'b' mas o primeiro não. A instrução `if`, portanto, retorna `False` na primeira iteração e `True` na segunda. No momento em que ela retorna `True` o código identado `break` é executado e o loop para aí! Dessa forma, o único termo que a instrução print vai imprimir será o primeiro da lista, isto é, 'foo'."
   ]
  },
  {
   "cell_type": "markdown",
   "id": "ab46cc64",
   "metadata": {},
   "source": [
    "## Exercício de fixação\n",
    "\n",
    "<br>\n",
    "\n",
    "O último teorema de _Fermat_ diz que não há nenhum número inteiro positivo _a,b,c_ tal que \n",
    "\n",
    "$$ a^n + b^n = c^n $$\n",
    "\n",
    "para quaisquer valores de n maiores do que 2.\n",
    "\n",
    "Use o que você aprendeu com condicionais, operações aritméticas e instruções print para testar se o teorema se mantém, dada a lista de números inteiros abaixo. Note que ao fim de cada iteração, o programa deve exibir \"Holy smokers, Fermat was wrong\" caso o teorema não valha e \"No, he was right indeed\" caso você não tenha refutado um gênio dos tempos modernos."
   ]
  },
  {
   "cell_type": "code",
   "execution_count": null,
   "id": "05c6bae9",
   "metadata": {},
   "outputs": [],
   "source": []
  },
  {
   "cell_type": "markdown",
   "id": "e9689825",
   "metadata": {},
   "source": [
    "## Usando _enumerate_ e _zip_\n",
    "\n",
    "Às vezes pode ser útil, dentro de um loop `for`, ter uma variável que muda em cada iteração do loop que possibilite fazer um controle mais direto sobre qual iteração está sendo executada em determinado momento. Em vez de criar e incrementar uma variável você mesmo, você pode usar a função nativa `enumerate()` para obter um contador e o valor do objeto iterável ao mesmo tempo! Para deixar claro como funciona a sintaxe nesse caso, vamos trabalhar em cima de uma lista de strings."
   ]
  },
  {
   "cell_type": "code",
   "execution_count": 10,
   "id": "5a5448c8",
   "metadata": {},
   "outputs": [
    {
     "name": "stdout",
     "output_type": "stream",
     "text": [
      "Bora\n",
      "Bill\n",
      "Para\n",
      "quem\n",
      "não\n",
      "conhece\n",
      "esse\n",
      "é\n",
      "o\n",
      "meme\n",
      "do\n",
      "momento\n"
     ]
    }
   ],
   "source": [
    "str1 = 'Bora Bill! Para quem não conhece, esse é o meme do momento.'\n",
    "\n",
    "# Algumas linhas de código adicionais para excluir pontuação e transformar o string em uma lista de palavras\n",
    "str1 = str1.replace('.','')\n",
    "str1 = str1.replace(',','')\n",
    "str1 = str1.replace('!','')\n",
    "lista1 = str1.split()\n",
    "\n",
    "for c in lista1:\n",
    "    print(c)"
   ]
  },
  {
   "cell_type": "markdown",
   "id": "531671fd",
   "metadata": {},
   "source": [
    "Utilizando o `enumerate()` podemos, em uma mesma linha de código, printar não apenas cada string individual da lista, mas também a posição desse string dentro da lista!"
   ]
  },
  {
   "cell_type": "code",
   "execution_count": 12,
   "id": "4567ed75",
   "metadata": {},
   "outputs": [
    {
     "name": "stdout",
     "output_type": "stream",
     "text": [
      "Elemento 0 = Bora\n",
      "Elemento 1 = Bill\n",
      "Elemento 2 = Para\n",
      "Elemento 3 = quem\n",
      "Elemento 4 = não\n",
      "Elemento 5 = conhece\n",
      "Elemento 6 = esse\n",
      "Elemento 7 = é\n",
      "Elemento 8 = o\n",
      "Elemento 9 = meme\n",
      "Elemento 10 = do\n",
      "Elemento 11 = momento\n"
     ]
    }
   ],
   "source": [
    "for count,value in enumerate(lista1):\n",
    "    \n",
    "    print('Elemento '+str(count)+' = '+value)"
   ]
  },
  {
   "cell_type": "markdown",
   "id": "412ffe73",
   "metadata": {},
   "source": [
    "Uma outra forma de criar esses mesmos resultados seria utilizando a função nativa `zip()`. Essa função nos permite iterar ao longo de duas ou mais sequências ao mesmo tempo, contanto que as sequências possuam o mesmo comprimento."
   ]
  },
  {
   "cell_type": "code",
   "execution_count": 14,
   "id": "96473460",
   "metadata": {},
   "outputs": [
    {
     "name": "stdout",
     "output_type": "stream",
     "text": [
      "['Bora', 'Bill', 'Para', 'quem', 'não', 'conhece', 'esse', 'é', 'o', 'meme', 'do', 'momento']\n"
     ]
    }
   ],
   "source": [
    "print(lista1)"
   ]
  },
  {
   "cell_type": "code",
   "execution_count": 16,
   "id": "d36ced5e",
   "metadata": {},
   "outputs": [
    {
     "name": "stdout",
     "output_type": "stream",
     "text": [
      "[0, 1, 2, 3, 4, 5, 6, 7, 8, 9, 10, 11]\n"
     ]
    }
   ],
   "source": [
    "lista2 = list(range(0,len(lista1)))\n",
    "print(lista2)"
   ]
  },
  {
   "cell_type": "code",
   "execution_count": 17,
   "id": "189c613b",
   "metadata": {},
   "outputs": [
    {
     "data": {
      "text/plain": [
       "True"
      ]
     },
     "execution_count": 17,
     "metadata": {},
     "output_type": "execute_result"
    }
   ],
   "source": [
    "len(lista1) == len(lista2)"
   ]
  },
  {
   "cell_type": "code",
   "execution_count": 18,
   "id": "1234cfca",
   "metadata": {},
   "outputs": [
    {
     "name": "stdout",
     "output_type": "stream",
     "text": [
      "Elemento 0 = Bora\n",
      "Elemento 1 = Bill\n",
      "Elemento 2 = Para\n",
      "Elemento 3 = quem\n",
      "Elemento 4 = não\n",
      "Elemento 5 = conhece\n",
      "Elemento 6 = esse\n",
      "Elemento 7 = é\n",
      "Elemento 8 = o\n",
      "Elemento 9 = meme\n",
      "Elemento 10 = do\n",
      "Elemento 11 = momento\n"
     ]
    }
   ],
   "source": [
    "for count,value in zip(lista2, lista1):\n",
    "    \n",
    "    print('Elemento '+str(count)+' = '+value)"
   ]
  },
  {
   "cell_type": "markdown",
   "id": "890e5823",
   "metadata": {},
   "source": [
    "Embora tenhamos utilizado a função `zip()` para chegar ao mesmo resultado de `enumerate()`, seu escopo de ação é muito mais geral já que nos permite percorrer dois objetos distintos ao mesmo tempo, sejam quais forem esses objetos. A única obrigatoriedade é que esses objetos tenham o mesmo tamanho, nada mais!"
   ]
  },
  {
   "cell_type": "code",
   "execution_count": 19,
   "id": "b016e929",
   "metadata": {},
   "outputs": [
    {
     "name": "stdout",
     "output_type": "stream",
     "text": [
      "Nesse curso, a turma 2022201 é de responsabilidade do professor Danilo Souza\n",
      "Nesse curso, a turma 2022202 é de responsabilidade do professor Claudio Lucinda\n",
      "Nesse curso, a turma 2022221 é de responsabilidade do professor Claudio Lucinda\n"
     ]
    }
   ],
   "source": [
    "professores = ['Danilo Souza','Claudio Lucinda','Claudio Lucinda']\n",
    "turmas = ['2022201','2022202','2022221']\n",
    "\n",
    "for p,t in zip(professores,turmas):\n",
    "    \n",
    "    print('Nesse curso, a turma '+t+' é de responsabilidade do professor '+p)"
   ]
  },
  {
   "cell_type": "markdown",
   "id": "d6b10755",
   "metadata": {},
   "source": [
    "## _For_ e _list comprehensions_\n",
    "\n",
    "_List comprehensions_ é uma das várias formas que o Python nos oferece para de criar, alterar e manipular listas. Sua sintaxe é bastante concisa e nos permite olhar para um exerício de iteração através de algo parecido com uma fórmula. \n",
    "\n",
    "Imagine que estejamos interessados em criar uma lista que contenha a parte inteira da raiz quadrada de todo número de uma outra lista original. Usualmente faríamos isso utilizando um loop `for`:"
   ]
  },
  {
   "cell_type": "code",
   "execution_count": 22,
   "id": "516e7e86",
   "metadata": {},
   "outputs": [
    {
     "name": "stdout",
     "output_type": "stream",
     "text": [
      "[1, 2, 3, 4, 5, 6, 7, 8, 9, 10, 11, 12, 13, 14, 15]\n"
     ]
    }
   ],
   "source": [
    "lista1 = [1,4,9,16,25,36,49,64,81,100,121,144,169,196,225]\n",
    "lista2 = []\n",
    "\n",
    "for x in lista1:\n",
    "    lista2.append(int(x**0.5))\n",
    "    \n",
    "print(lista2)"
   ]
  },
  {
   "cell_type": "markdown",
   "id": "d8f3e1fa",
   "metadata": {},
   "source": [
    "Alternativamente, podemos utilizar _list comprehensions_ através da seguinte sintaxe:"
   ]
  },
  {
   "cell_type": "code",
   "execution_count": 23,
   "id": "28a38ff2",
   "metadata": {},
   "outputs": [
    {
     "name": "stdout",
     "output_type": "stream",
     "text": [
      "[1, 2, 3, 4, 5, 6, 7, 8, 9, 10, 11, 12, 13, 14, 15]\n"
     ]
    }
   ],
   "source": [
    "lista2 = [int(x**0.5) for x in lista1] \n",
    "\n",
    "print(lista2)"
   ]
  },
  {
   "cell_type": "markdown",
   "id": "c967dfb8",
   "metadata": {},
   "source": [
    "Em termos práticos isso funciona como se fosse um loop definido dentro de uma única linha de código. Mas porque aprender as duas formas? Será que alguma delas é mais eficiente? Vamos fazer um teste para esse exercicío da raiz quadrada, porém para uma lista maior. Utilizaremos também a função `time` do pacote `time` para calcular o tempo utilizado por cada um dos métodos."
   ]
  },
  {
   "cell_type": "code",
   "execution_count": 26,
   "id": "7ad6e29d",
   "metadata": {},
   "outputs": [],
   "source": [
    "import time \n",
    "lista1 = list(range(1,1000000))\n",
    "\n",
    "# list comprehension\n",
    "start_comp = time.time()\n",
    "\n",
    "list_comp  = [int(x**0.5) for x in lista1]\n",
    "\n",
    "end_comp   = time.time()\n",
    "\n",
    "\n",
    "# loop\n",
    "start_loop = time.time()\n",
    "\n",
    "list_loop = []\n",
    "for x in lista1:\n",
    "    list_loop.append(int(x**0.5))  \n",
    "    \n",
    "end_loop   = time.time()\n",
    "\n",
    "ratio = (start_loop - end_loop) / (start_comp - end_comp)"
   ]
  },
  {
   "cell_type": "markdown",
   "id": "6e1880b7",
   "metadata": {},
   "source": [
    "Qual abordagem será que levou menos tempo?"
   ]
  },
  {
   "cell_type": "code",
   "execution_count": 27,
   "id": "0085b595",
   "metadata": {},
   "outputs": [
    {
     "name": "stdout",
     "output_type": "stream",
     "text": [
      "Tempo necessário para a realização dos cálculos utilizando list comprehensions: 0.6483 segundos\n",
      "Tempo necessário para a realização dos cálculos utilizando loop: 0.8926 segundos\n",
      "\n",
      "A abordagem de loop demorou 37.7% mais tempo! Dê uma chance para list comprehensions ;)\n"
     ]
    }
   ],
   "source": [
    "print('Tempo necessário para a realização dos cálculos utilizando list comprehensions: {:.4f} segundos'.format(end_comp - start_comp))\n",
    "print('Tempo necessário para a realização dos cálculos utilizando loop: {:.4f} segundos'.format(end_loop - start_loop))\n",
    "print('\\nA abordagem de loop demorou {:.1%} mais tempo! Dê uma chance para list comprehensions ;)'.format(ratio - 1))"
   ]
  },
  {
   "cell_type": "markdown",
   "id": "f645a03b",
   "metadata": {},
   "source": [
    "# Reatribuição e atualização de variáveis\n",
    "\n",
    "Pode ser que você já tenha descoberto que é permitido fazer mais de uma atribuição para a mesma variável. Uma nova atribuição faz uma variável existente referir-se a um novo valor (e deixar de referir-se ao valor anterior)."
   ]
  },
  {
   "cell_type": "code",
   "execution_count": 1,
   "id": "f8b039c8",
   "metadata": {},
   "outputs": [
    {
     "name": "stdout",
     "output_type": "stream",
     "text": [
      "5\n"
     ]
    }
   ],
   "source": [
    "x = 5\n",
    "print(x)"
   ]
  },
  {
   "cell_type": "code",
   "execution_count": 2,
   "id": "aaf3f396",
   "metadata": {},
   "outputs": [
    {
     "name": "stdout",
     "output_type": "stream",
     "text": [
      "7\n"
     ]
    }
   ],
   "source": [
    "x = 7\n",
    "print(7)"
   ]
  },
  {
   "cell_type": "markdown",
   "id": "ef510c73",
   "metadata": {},
   "source": [
    "A primeira vez que exibimos x, seu valor é 5. Na segunda vez, seu valor é 7.\n",
    "\n",
    "Neste ponto quero tratar de uma fonte comum de confusão. Como o Python usa o sinal de igual (=) para atribuição, é tentador interpretar uma afirmação como `a = b` como uma proposição matemática de igualdade, isto é, a declaração de que a e b são iguais. Mas esta é uma interpretação equivocada.\n",
    "\n",
    "Em primeiro lugar, a igualdade é uma relação simétrica e a atribuição não é. Por exemplo, na matemática, se `a=7` então `7=a`. Mas no Python, a instrução `a = 7` é legal e `7 = a` não é. Além disso, na matemática, uma proposição de igualdade é verdadeira ou falsa para sempre. Se `a=b` agora, então `a` sempre será igual a `b`. No Python, uma instrução de atribuição pode tornar duas variáveis iguais, mas elas não precisam se manter assim:"
   ]
  },
  {
   "cell_type": "code",
   "execution_count": 8,
   "id": "5951a8fa",
   "metadata": {},
   "outputs": [
    {
     "name": "stdout",
     "output_type": "stream",
     "text": [
      "Valor de a: 5\n",
      "Valor de b: 5\n",
      "\n",
      "Valor de a: 3\n",
      "Valor de b: 5\n"
     ]
    }
   ],
   "source": [
    "a = 5\n",
    "b = a # a e b agora são iguais\n",
    "\n",
    "print('Valor de a: '+str(a)+'\\nValor de b: '+str(b))\n",
    "\n",
    "a = 3 # a e b não são mais iguais\n",
    "\n",
    "print('\\nValor de a: '+str(a)+'\\nValor de b: '+str(b))"
   ]
  },
  {
   "cell_type": "markdown",
   "id": "12eef3d4",
   "metadata": {},
   "source": [
    "Quando redefinimos o valor de `a` para 3, não mudamos o valor de `b`, de modo que as variáveis deixam de ser iguais. A reatribuição de variáveis muitas vezes é útil, mas você deve usá-la com prudência. Se os valores das variáveis mudarem frequentemente, isso pode dificultar a leitura e depuração do código."
   ]
  },
  {
   "cell_type": "markdown",
   "id": "78a80812",
   "metadata": {},
   "source": [
    "# Repetição condicional e a instrução _while_"
   ]
  },
  {
   "cell_type": "markdown",
   "id": "59911d40",
   "metadata": {},
   "source": [
    "Em programação existem dois tipos de iteração, indefinidas e definidas:\n",
    "\n",
    "* Com **iteração definida**, o número de vezes que o bloco designado será executado é especificado explicitamente no momento em que o loop é iniciado. É o exemplo do `for` loop com o qual trabalhamos anteriormente.\n",
    "\n",
    "* Com **iteração indefinida**, o número de vezes que o loop é executado não é especificado explicitamente com antecedência. Em vez disso, o bloco designado é executado repetidamente enquanto alguma condição for atendida.\n",
    "\n",
    "Para interação indefinida, a construção típica do Python é o `while`. A forma mais simples desse loop `while` é a seguinte:\n",
    "\n",
    "```python\n",
    "while <expr>:\n",
    "    <instruções>\n",
    "```\n",
    "\n",
    "Em que `instruções` representam uma ou mais linhas de código a serem executadas. Da mesma forma que nas outras estruturas, a **indentação** determina quais linhas vão ser executadas.\n",
    "\n",
    "A expressão de controle, `<expr>`, normalmente envolve uma ou mais variáveis que são inicializadas antes de iniciar o loop e depois modificadas em algum lugar no corpo do loop. **Você precisa dessa expressão bem pensada, porque é ela que vai determinar o momento em que o loop para**\n",
    "\n",
    "Quando um loop `while` é encontrado, `<expr>`é avaliado primeiro no contexto booleano. Se for verdadeiro, o corpo do loop é executado. Em seguida `<expr>`, é verificado novamente e, se ainda for verdadeiro, o corpo é executado novamente. Isso continua até `<expr>` se tornar falso, momento em que a execução do programa prossegue para a primeira instrução além do corpo do loop. **Dentro de `<instruções>` você precisa ter algo que modifique algum elemento de `<expr>`. Senão ou o loop não vai rodar ou vai rodar para sempre.** Uma das formas de interromper **à força** a execução de um loop é por meio das teclas `Ctrl+C`.\n",
    "\n",
    "\n",
    "Considere o caso abaixo:"
   ]
  },
  {
   "cell_type": "code",
   "execution_count": 11,
   "id": "efbfd556",
   "metadata": {},
   "outputs": [
    {
     "name": "stdout",
     "output_type": "stream",
     "text": [
      "4\n",
      "3\n",
      "2\n",
      "1\n",
      "0\n",
      "\n",
      "À partir de agora as instruções foram do loop seram executadas.\n"
     ]
    }
   ],
   "source": [
    "n = 5\n",
    "\n",
    "while n > 0:\n",
    "    n = n-1\n",
    "    print(n)\n",
    "    \n",
    "print('\\nÀ partir de agora as instruções foram do loop seram executadas.')"
   ]
  },
  {
   "cell_type": "markdown",
   "id": "cfa4064b",
   "metadata": {},
   "source": [
    "Veja o que está acontecendo neste exemplo:\n",
    "\n",
    "O valor inicial de `n` é 5. A expressão no cabeçalho da instrução `while` na linha 2 é `n > 0`, o que é `True`, então o corpo do loop é executado. Dentro do corpo do loop redefinimos o valor de `n` para que seja igual ao valor anterior de `n` menos 1, e então o novo valor de `n` é impresso.\n",
    "\n",
    "Quando o corpo do loop termina, a execução do programa retorna ao topo do loop na linha 2 e a expressão é avaliada novamente. Ainda é verdade, então o corpo é executado novamente e 3 é impresso. Isso continua até `n` se tornar 0. Nesse ponto, quando a expressão é testada, ela é falsa (0 não é maior do que 0) e o loop termina. A execução é retomada na primeira instrução após o corpo do loop, no caso a instrução print. Observe que a expressão de controle do loop `while` é testada primeiro, antes que qualquer outra coisa aconteça.\n",
    "\n",
    "A seguir temos um loop while que usa uma lista:"
   ]
  },
  {
   "cell_type": "code",
   "execution_count": 14,
   "id": "e38b59ff",
   "metadata": {},
   "outputs": [
    {
     "name": "stdout",
     "output_type": "stream",
     "text": [
      "['foo', 'bar', 'baz']\n",
      "['foo', 'bar']\n",
      "['foo']\n",
      "[]\n"
     ]
    }
   ],
   "source": [
    "a = ['foo', 'bar', 'baz']\n",
    "print(a)\n",
    "\n",
    "while a:\n",
    "    \n",
    "    a.pop(-1)\n",
    "    print(a)"
   ]
  },
  {
   "cell_type": "markdown",
   "id": "26fa6744",
   "metadata": {},
   "source": [
    "Quando uma lista é avaliada em contexto booleano, ela é verdadeira se tiver elementos nela e falsa se estiver vazia. Neste exemplo, `a` é verdadeiro desde que tenha elementos nele. Quando todos os itens forem removidos com o método `.pop()` e a lista estiver vazia, `a` será falsa e o loop terminará."
   ]
  },
  {
   "cell_type": "markdown",
   "id": "b59df499",
   "metadata": {},
   "source": [
    "## Formas de Interromper um Loop\n",
    "\n",
    "Em cada exemplo que você viu até agora, todo o corpo do loop `while` é executado em cada iteração. Python fornece duas palavras-chave que encerram uma iteração de loop prematuramente:\n",
    "\n",
    "* A instrução Python `break` imediatamente encerra um loop inteiramente. Já vimos como ela funciona no caso do `for` loop e instruções condicionais. \n",
    "\n",
    "* A instrução `continue`, por outro lado, encerra imediatamente a iteração do loop atual. A execução salta para o topo do loop e a expressão de controle é reavaliada para determinar se o loop será executado novamente ou terminará.\n",
    "\n",
    "Um exemplo de `break`:"
   ]
  },
  {
   "cell_type": "code",
   "execution_count": 16,
   "id": "bae89194",
   "metadata": {},
   "outputs": [
    {
     "name": "stdout",
     "output_type": "stream",
     "text": [
      "5\n",
      "4\n",
      "3\n",
      "Loop ended.\n"
     ]
    }
   ],
   "source": [
    "n = 5\n",
    "print(n)\n",
    "\n",
    "while n > 0:\n",
    "    n = n - 1\n",
    "    if n == 2:\n",
    "        break\n",
    "    print(n)\n",
    "    \n",
    "print('Loop ended.')"
   ]
  },
  {
   "cell_type": "markdown",
   "id": "7b2c3b43",
   "metadata": {},
   "source": [
    "Um exemplo de `continue`:"
   ]
  },
  {
   "cell_type": "code",
   "execution_count": 17,
   "id": "2ea385f9",
   "metadata": {},
   "outputs": [
    {
     "name": "stdout",
     "output_type": "stream",
     "text": [
      "4\n",
      "3\n",
      "1\n",
      "0\n",
      "Loop ended.\n"
     ]
    }
   ],
   "source": [
    "n = 5\n",
    "\n",
    "while n > 0:\n",
    "    n = n - 1\n",
    "    if n == 2:\n",
    "        continue\n",
    "    print(n)\n",
    "print('Loop ended.')"
   ]
  },
  {
   "cell_type": "markdown",
   "id": "109499cb",
   "metadata": {},
   "source": [
    "# Aplicação: Teorema Central do Limite\n",
    "\n",
    "Obs: esse exercício é o mais complexo que fizemos até agora. Nele utilizamos grande parte dos conceitos que estudamos até aqui nesse curso, desde listas a loops e também a importação de bibliotecas de comandos. Você pode pular essa parte se quiser, mas aconselho que aos poucos você tente replicá-lo, de forma a entender todas suas etapas com o tempo.\n",
    "\n",
    "\n",
    "<br>\n",
    "\n",
    "O **Teorema Central do Limite** é um resultado super importante em estatística e com aplicações nas mais diversas áreas. Em sua formulação mais simples, o teorema diz que:\n",
    "\n",
    "<div class=\"alert alert-block alert-success\">  \n",
    "<b>A distribuição da média amostral da variável aleatória $X$ aproxima-se cada vez mais de uma distribuição normal conforme aumenta o tamanho da amostra, independentemente da distribuição original de X.</b>   \n",
    "</div>\n",
    "\n",
    "Suponha que estejamos amostrando de uma variável aleatória X com média finita e igual a $\\mu$ e desvio padrão finito e igual a $\\sigma$. Então média e desvio padrão da distribuição amostral são representados por: \n",
    "\n",
    "$$\\mu_{\\bar{X}}=\\mu$$\n",
    "\n",
    "$$\\sigma_{\\bar{X}}=\\frac{\\sigma}{\\sqrt{N}}$$\n",
    "\n",
    "Vamos apresentar uma implementação desse Teorema usando Python, em várias partes. A primeira parte mostra como tirar 10 números aleatórios entre -40 e 40, usando o `NumPy`. Mais uma vez utilizaremos a função `uniform()` já que elas sorteia números reais com igual probabilidade dentro de um intervalo especificado."
   ]
  },
  {
   "cell_type": "code",
   "execution_count": 40,
   "id": "848105e3",
   "metadata": {},
   "outputs": [
    {
     "name": "stdout",
     "output_type": "stream",
     "text": [
      "[-24.59551832  20.2340732  -39.41448245 -13.73951171  33.40850781\n",
      "   7.06938663  28.41522271   8.37376419  25.8062522   30.35868187]\n"
     ]
    }
   ],
   "source": [
    "import numpy as np\n",
    "\n",
    "x = np.random.uniform(-40, 40, 10)\n",
    "print(x)"
   ]
  },
  {
   "cell_type": "markdown",
   "id": "6062d367",
   "metadata": {},
   "source": [
    "Note que se sorteamos 10 números novamente, o resultado será diferente"
   ]
  },
  {
   "cell_type": "code",
   "execution_count": 41,
   "id": "22d070dd",
   "metadata": {},
   "outputs": [
    {
     "name": "stdout",
     "output_type": "stream",
     "text": [
      "[-14.32109004 -30.16361828  17.70426753  -4.77223305 -29.86114327\n",
      "   7.18589185 -37.11453483 -23.98543069  23.06409517 -39.0322592 ]\n"
     ]
    }
   ],
   "source": [
    "x = np.random.uniform(-40, 40, 10)\n",
    "print(x)"
   ]
  },
  {
   "cell_type": "markdown",
   "id": "55020852",
   "metadata": {},
   "source": [
    "Para tornar o nosso exemplo mais previsível, vamos usar uma função dentro do `NumPy` que faz com o que o sorteio dos números parta do mesmo lugar e, portanto, o resultado seja o mesmo. "
   ]
  },
  {
   "cell_type": "code",
   "execution_count": 42,
   "id": "aed5f55e",
   "metadata": {},
   "outputs": [
    {
     "name": "stdout",
     "output_type": "stream",
     "text": [
      "[ -6.63823962  17.62595948 -39.99085001 -15.81339419 -28.25952873\n",
      " -32.61291242 -25.09918309 -12.35514184  -8.25860206   3.10533872]\n"
     ]
    }
   ],
   "source": [
    "np.random.seed(1)\n",
    "\n",
    "x = np.random.uniform(-40, 40, 10)\n",
    "print(x)"
   ]
  },
  {
   "cell_type": "code",
   "execution_count": 43,
   "id": "03212c19",
   "metadata": {},
   "outputs": [
    {
     "name": "stdout",
     "output_type": "stream",
     "text": [
      "[ -6.63823962  17.62595948 -39.99085001 -15.81339419 -28.25952873\n",
      " -32.61291242 -25.09918309 -12.35514184  -8.25860206   3.10533872]\n"
     ]
    }
   ],
   "source": [
    "np.random.seed(1)\n",
    "\n",
    "x = np.random.uniform(-40, 40, 10)\n",
    "print(x)"
   ]
  },
  {
   "cell_type": "markdown",
   "id": "cd8f8ad6",
   "metadata": {},
   "source": [
    "Feito o sorteio de números aleatórios, o próximo passo é tirar a média desse conjunto de números:"
   ]
  },
  {
   "cell_type": "code",
   "execution_count": 44,
   "id": "b0c9e8cb",
   "metadata": {},
   "outputs": [
    {
     "data": {
      "text/plain": [
       "-14.829655377323416"
      ]
     },
     "execution_count": 44,
     "metadata": {},
     "output_type": "execute_result"
    }
   ],
   "source": [
    "np.mean(x)"
   ]
  },
  {
   "cell_type": "markdown",
   "id": "e2ec5b3d",
   "metadata": {},
   "source": [
    "Como vocês podem notar, a média não deu igual a zero, embora a média da distribuição uniforme com números inteiros que vai de -40 a 40 seja igual a 0. E aí surge a mágica do Teorema Central do Limite. Ainda que uma amostra não tenha a média igual à média populacional, a **média das médias** vai convergindo para zero à medida em que extraímos novas amostras e calculamos novas médias.\n",
    "\n",
    "Agora vou fazer isso em um loop, sorteando 50 números aleatórios por amostra e primeiro com 10 amostras:"
   ]
  },
  {
   "cell_type": "code",
   "execution_count": 45,
   "id": "cfa22b22",
   "metadata": {},
   "outputs": [
    {
     "name": "stdout",
     "output_type": "stream",
     "text": [
      "[-2.64, 0.38, -2.3, -0.13, 3.95, 4.81, 1.16, 0.46, -2.02, 2.95]\n"
     ]
    },
    {
     "data": {
      "text/plain": [
       "0.6619999999999999"
      ]
     },
     "execution_count": 45,
     "metadata": {},
     "output_type": "execute_result"
    }
   ],
   "source": [
    "# number of sample\n",
    "n = 10 \n",
    "means = [] \n",
    "\n",
    "np.random.seed(1)\n",
    "\n",
    "for j in list(range(0,n)):\n",
    "    \n",
    "    lista_sorteio = np.random.uniform(-40, 40, 50)\n",
    "    x = np.mean(lista_sorteio)\n",
    "    means.append(x)\n",
    "\n",
    "means = [np.round(elem,2) for elem in means]\n",
    "print(means)\n",
    "np.mean(means)"
   ]
  },
  {
   "cell_type": "markdown",
   "id": "0566e34c",
   "metadata": {},
   "source": [
    "Agora com 100 amostras"
   ]
  },
  {
   "cell_type": "code",
   "execution_count": 46,
   "id": "4ac4633f",
   "metadata": {},
   "outputs": [
    {
     "name": "stdout",
     "output_type": "stream",
     "text": [
      "[-2.64, 0.38, -2.3, -0.13, 3.95, 4.81, 1.16, 0.46, -2.02, 2.95, -2.02, -1.95, -1.69, 1.3, 2.67, 1.64, -2.17, 0.71, -3.31, -0.82, -1.1, 2.47, -0.34, 1.6, 0.52, -0.78, 2.61, 2.68, 0.98, -2.24, -4.57, 5.56, 2.17, 3.94, 4.72, 3.43, 2.47, 2.82, 1.24, 0.82, 0.28, -7.24, 0.77, -5.73, 0.17, 5.3, 3.94, -8.14, -4.17, -2.82, -1.41, -7.05, 1.03, 1.15, 2.35, -2.7, -3.12, 0.67, -1.7, -0.95, 3.93, 1.95, 2.65, -2.48, -5.42, 4.43, 1.88, -0.04, -1.46, 1.04, -1.54, -2.82, -2.62, -3.85, -0.56, 1.08, 8.73, 5.43, 1.0, -3.13, -1.05, 3.14, -5.01, -1.15, -4.29, 5.22, -5.29, 1.37, -8.62, -7.99, -3.2, 3.04, 0.36, 3.64, 3.93, 6.98, -1.4, -3.84, 0.81, 7.0]\n"
     ]
    },
    {
     "data": {
      "text/plain": [
       "0.024600000000000007"
      ]
     },
     "execution_count": 46,
     "metadata": {},
     "output_type": "execute_result"
    }
   ],
   "source": [
    "# number of sample\n",
    "n = 100 \n",
    "means = [] \n",
    "\n",
    "np.random.seed(1)\n",
    "\n",
    "for j in list(range(0,n)):\n",
    "    \n",
    "    lista_sorteio = np.random.uniform(-40, 40, 50)\n",
    "    x = np.mean(lista_sorteio)\n",
    "    means.append(x)\n",
    "\n",
    "means = [np.round(elem,2) for elem in means]\n",
    "print(means)\n",
    "np.mean(means)"
   ]
  },
  {
   "cell_type": "markdown",
   "id": "e0e6a560",
   "metadata": {},
   "source": [
    "Vamos deixar essa tentativa de aproximar a média das médias de $\\mu$ mais automatizada:"
   ]
  },
  {
   "cell_type": "code",
   "execution_count": 48,
   "id": "8dc4fdb5",
   "metadata": {},
   "outputs": [],
   "source": [
    "expoentes = [1,2,3,4,5,6,7,8,9,10]\n",
    "N = [2**exp for exp in expoentes]\n",
    "\n",
    "means = [] \n",
    "\n",
    "np.random.seed(1)\n",
    "for n in N:\n",
    "    \n",
    "    means_atual = [] \n",
    "    for j in list(range(0,n)):\n",
    "        \n",
    "        lista_sorteio = np.random.uniform(-40, 40, 100)\n",
    "        x = np.mean(lista_sorteio)\n",
    "        means_atual.append(x)\n",
    "        \n",
    "    means.append(np.mean(means_atual))"
   ]
  },
  {
   "cell_type": "code",
   "execution_count": 53,
   "id": "7d4f61cf",
   "metadata": {},
   "outputs": [
    {
     "name": "stdout",
     "output_type": "stream",
     "text": [
      "-1.17\n",
      "0.92\n",
      "0.37\n",
      "-0.25\n",
      "0.31\n",
      "-0.32\n",
      "0.23\n",
      "-0.15\n",
      "-0.06\n",
      "0.03\n"
     ]
    }
   ],
   "source": [
    "for m in means:\n",
    "    \n",
    "    print(np.round(m,2))"
   ]
  },
  {
   "cell_type": "markdown",
   "id": "9c8372dc",
   "metadata": {},
   "source": [
    "Olha só a converência aí, minha gente!\n",
    "\n",
    "Note que até aqui a gente só mostrou que a **média das médias converge para a média populacional**. O Teorema, no entanto, é mais completo do que isso. Ele diz que a distribuição da média amostral é uma Normal e, além disso, possui aquelas características em relação à distribuição original. Ainda precisamos de mais algumas aulas para ir além e olhar essas outrs questões do Teorema, mas logo logo chegamos lá."
   ]
  }
 ],
 "metadata": {
  "kernelspec": {
   "display_name": "Python 3 (ipykernel)",
   "language": "python",
   "name": "python3"
  },
  "language_info": {
   "codemirror_mode": {
    "name": "ipython",
    "version": 3
   },
   "file_extension": ".py",
   "mimetype": "text/x-python",
   "name": "python",
   "nbconvert_exporter": "python",
   "pygments_lexer": "ipython3",
   "version": "3.9.12"
  },
  "toc": {
   "base_numbering": 1,
   "nav_menu": {},
   "number_sections": true,
   "sideBar": true,
   "skip_h1_title": false,
   "title_cell": "Plano de aula",
   "title_sidebar": "Contents",
   "toc_cell": true,
   "toc_position": {
    "height": "calc(100% - 180px)",
    "left": "10px",
    "top": "150px",
    "width": "333.6px"
   },
   "toc_section_display": true,
   "toc_window_display": true
  },
  "varInspector": {
   "cols": {
    "lenName": 16,
    "lenType": 16,
    "lenVar": 40
   },
   "kernels_config": {
    "python": {
     "delete_cmd_postfix": "",
     "delete_cmd_prefix": "del ",
     "library": "var_list.py",
     "varRefreshCmd": "print(var_dic_list())"
    },
    "r": {
     "delete_cmd_postfix": ") ",
     "delete_cmd_prefix": "rm(",
     "library": "var_list.r",
     "varRefreshCmd": "cat(var_dic_list()) "
    }
   },
   "oldHeight": 122.85,
   "position": {
    "height": "40px",
    "left": "1266px",
    "right": "20px",
    "top": "120px",
    "width": "250px"
   },
   "types_to_exclude": [
    "module",
    "function",
    "builtin_function_or_method",
    "instance",
    "_Feature"
   ],
   "varInspector_section_display": "none",
   "window_display": true
  }
 },
 "nbformat": 4,
 "nbformat_minor": 5
}
