{
 "cells": [
  {
   "cell_type": "markdown",
   "id": "eac49fd1",
   "metadata": {},
   "source": [
    "<br>\n",
    "<p style=\"text-align: center;\"><font size=6><b>EAE1106 - Métodos Computacionais para Economistas</b></font></p>\n",
    "\n",
    "<p style=\"text-align: center;\"> Departamento de Economia | Faculdade de Economia, Administração, Contabilidade e Atuaria <br> Universidade de São Paulo <br><br></p>\n",
    "    \n",
    "<p style=\"text-align: center;\"><font size=4>Prof. Danilo Souza e Prof. Claudio Lucinda</font> <br>\n",
    "    <a href=\"https://www.danilosouza.com/teaching/eae1106\">danilosouza.com/teaching/eae1106</a> | <a href=\"https://github.com/claudiolucinda/EAE1106\">github.com/claudiolucinda/EAE1106</a>\n",
    "    <br><br>\n",
    "</p>\n",
    "\n",
    "\n",
    "<p style=\"text-align: center;\">2º semestre de 2022</p>\n",
    "<hr>"
   ]
  },
  {
   "cell_type": "markdown",
   "id": "140b5f62",
   "metadata": {},
   "source": [
    "<font size=6><b>Aula 06 </b></font>\n",
    "<br><br>\n",
    "\n",
    "Nas próximas duas aulas discutiremos um tema muito relevante para todo e qualquer programador ou usuário da lógica de programação: **Funções**."
   ]
  },
  {
   "cell_type": "markdown",
   "id": "e213193d",
   "metadata": {
    "toc": true
   },
   "source": [
    "<h1>Plano de aula<span class=\"tocSkip\"></span></h1>\n",
    "<div class=\"toc\"><ul class=\"toc-item\"><li><span><a href=\"#O-que-é-uma-função?\" data-toc-modified-id=\"O-que-é-uma-função?-1\"><span class=\"toc-item-num\">1&nbsp;&nbsp;</span>O que é uma função?</a></span></li><li><span><a href=\"#Nossa-primeira-função\" data-toc-modified-id=\"Nossa-primeira-função-2\"><span class=\"toc-item-num\">2&nbsp;&nbsp;</span>Nossa primeira função</a></span></li><li><span><a href=\"#Argumentos-de-uma-função\" data-toc-modified-id=\"Argumentos-de-uma-função-3\"><span class=\"toc-item-num\">3&nbsp;&nbsp;</span>Argumentos de uma função</a></span><ul class=\"toc-item\"><li><span><a href=\"#Keyword-arguments-e-default-values\" data-toc-modified-id=\"Keyword-arguments-e-default-values-3.1\"><span class=\"toc-item-num\">3.1&nbsp;&nbsp;</span><em>Keyword arguments</em> e <em>default values</em></a></span></li><li><span><a href=\"#Argumentos-arbitrários\" data-toc-modified-id=\"Argumentos-arbitrários-3.2\"><span class=\"toc-item-num\">3.2&nbsp;&nbsp;</span>Argumentos arbitrários</a></span></li><li><span><a href=\"#Elementos-dentro-da-função:-execução-condicional\" data-toc-modified-id=\"Elementos-dentro-da-função:-execução-condicional-3.3\"><span class=\"toc-item-num\">3.3&nbsp;&nbsp;</span>Elementos dentro da função: execução condicional</a></span><ul class=\"toc-item\"><li><span><a href=\"#Aplicação:-Teorema-Central-do-Limite---Parte-1\" data-toc-modified-id=\"Aplicação:-Teorema-Central-do-Limite---Parte-1-3.3.1\"><span class=\"toc-item-num\">3.3.1&nbsp;&nbsp;</span>Aplicação: Teorema Central do Limite - Parte 1</a></span></li></ul></li><li><span><a href=\"#Elementos-dentro-da-função:-iteração\" data-toc-modified-id=\"Elementos-dentro-da-função:-iteração-3.4\"><span class=\"toc-item-num\">3.4&nbsp;&nbsp;</span>Elementos dentro da função: iteração</a></span><ul class=\"toc-item\"><li><span><a href=\"#Aplicação:-Teorema-Central-do-Limite---Parte-2\" data-toc-modified-id=\"Aplicação:-Teorema-Central-do-Limite---Parte-2-3.4.1\"><span class=\"toc-item-num\">3.4.1&nbsp;&nbsp;</span>Aplicação: Teorema Central do Limite - Parte 2</a></span></li></ul></li></ul></li><li><span><a href=\"#Valor-de-retorno-de-uma-função\" data-toc-modified-id=\"Valor-de-retorno-de-uma-função-4\"><span class=\"toc-item-num\">4&nbsp;&nbsp;</span>Valor de retorno de uma função</a></span><ul class=\"toc-item\"><li><span><a href=\"#Expectativa-de-vida-de-variáveis-dentro-da-função\" data-toc-modified-id=\"Expectativa-de-vida-de-variáveis-dentro-da-função-4.1\"><span class=\"toc-item-num\">4.1&nbsp;&nbsp;</span>Expectativa de vida de variáveis dentro da função</a></span><ul class=\"toc-item\"><li><span><a href=\"#Aplicação:-Teorema-Central-do-Limite---Parte-3\" data-toc-modified-id=\"Aplicação:-Teorema-Central-do-Limite---Parte-3-4.1.1\"><span class=\"toc-item-num\">4.1.1&nbsp;&nbsp;</span>Aplicação: Teorema Central do Limite - Parte 3</a></span></li></ul></li></ul></li><li><span><a href=\"#Documentação\" data-toc-modified-id=\"Documentação-5\"><span class=\"toc-item-num\">5&nbsp;&nbsp;</span>Documentação</a></span></li><li><span><a href=\"#Funções-anônimas\" data-toc-modified-id=\"Funções-anônimas-6\"><span class=\"toc-item-num\">6&nbsp;&nbsp;</span>Funções anônimas</a></span></li></ul></div>"
   ]
  },
  {
   "cell_type": "markdown",
   "id": "bf554e99",
   "metadata": {},
   "source": [
    "***"
   ]
  },
  {
   "cell_type": "markdown",
   "id": "fb79dea9",
   "metadata": {},
   "source": [
    "# O que é uma função?\n",
    "\n",
    "No contexto das linguagens de programação, uma função é uma sequência nomeada de instruções, que executa algum tipo de operação específica. A ideia essencial por trás de uma função é a de juntar algumas tarefas comuns ou repetidas e criar uma função para que, em vez de escrever o mesmo código várias vezes, possamos chama-la pelo nome e reutilizar o conjunto de instruções nela contida sempre que necessário.\n",
    "\n",
    "Caso o objetivo de dividir um programa em funções ainda não tenha ficado claro, saiba que:\n",
    "\n",
    "<br>\n",
    "\n",
    "* Criar uma nova função dá a oportunidade de nomear um grupo de instruções, o que deixa o seu programa mais fácil de ler e de depurar\n",
    "\n",
    "* As funções podem tornar um programa menor, eliminando o código repetitivo. Depois, caso precise fazer alguma alteração, basta fazê-la em um lugar só.\n",
    "\n",
    "* Dividir um programa longo em funções permite depurar as partes uma de cada vez e então reuni-las em um conjunto funcional.\n",
    "\n",
    "* As funções bem projetadas muitas vezes são úteis para muitos programas. Uma vez que escreve e depure uma, você pode reutilizá-la em programas fora daquele para o qual a função foi originalmente construída.\n",
    "\n",
    "<br>\n",
    "\n",
    "Existem várias funções nativas no Python (e.g., `type()` para encontrar o tipo de um objeto) e mesmo dentro de bibliotecas com as quais já trabalhamos um pouco (e.g., `numpy.random.uniform()` para sortear números aleatórios de acordo com uma distribuição uniforme). À partir de agora veremos como podemos criar nossas próprias funções dentro da linguagem!\n",
    "\n",
    "No Python, a sintaxe de uma função é dada por:\n",
    "\n",
    "```python\n",
    "def nome_da_funcao(argumentos):\n",
    "    <instruções>    \n",
    "```\n",
    "\n",
    "Assim como nos _loops_, para definir uma nova função no Python é preciso começar com uma palavra-chave, nesse caso `def`. O nome  que daremos à função vem logo em seguida. É através desse nome, `nome_da_funcao`, que chamaremos essa função em outras partes do nosso código. Entre parênteses definimos os `argumentos` que a função recebe para realizar o conjunto de instruções em `<instruções>`.\n",
    "\n",
    "Note, mais uma vez, que todo o bloco de código que estiver **identado** e abaixo da linha de cabeçalho da função fará parte da função. Assim como nos _loops_, a função termina quando passarmos a primeira linha de código não-identada."
   ]
  },
  {
   "cell_type": "markdown",
   "id": "0ad22fc7",
   "metadata": {},
   "source": [
    "# Nossa primeira função\n",
    "\n",
    "Vamos começar criando uma função simples, que tem por objetivo printar uma das frases mais conhecidas da história do cinema:"
   ]
  },
  {
   "cell_type": "code",
   "execution_count": 1,
   "id": "6f9a46cd",
   "metadata": {},
   "outputs": [],
   "source": [
    "def frase_cinema():\n",
    "    print('Que a força esteja com você!')"
   ]
  },
  {
   "cell_type": "markdown",
   "id": "843f5070",
   "metadata": {},
   "source": [
    "Note que nesse caso, o parênteses logo após o nome da função está vazio. Isso quer dizer que essa função não recebe argumentos, apenas printa a frase entre aspas sempre que for chamada. Para chamá-la, basta usar o nome `frase_cinema` seguido dos parênteses vazios:"
   ]
  },
  {
   "cell_type": "code",
   "execution_count": 2,
   "id": "525578db",
   "metadata": {},
   "outputs": [
    {
     "name": "stdout",
     "output_type": "stream",
     "text": [
      "Que a força esteja com você!\n"
     ]
    }
   ],
   "source": [
    "frase_cinema()"
   ]
  },
  {
   "cell_type": "markdown",
   "id": "48208d57",
   "metadata": {},
   "source": [
    "# Argumentos de uma função"
   ]
  },
  {
   "cell_type": "markdown",
   "id": "554d25a6-f339-4f71-a789-adff89f82edc",
   "metadata": {},
   "source": [
    "Na função anterior, não tínhamos nenhum argumento. Ou seja, toda vez que você chamar a função `frase_cinema`, ela vai fazer a mesma coisa. Pode até ser que seja o seu objetivo fazer exatamente isso -- é uma forma de economizar código.\n",
    "\n",
    "O ponto é que a ideia de função é muito mais poderosa do que simplesmente uma \"abreviação\" de um monte de linhas de código. A ideia de abstração implícita no conceito de função é poderosa o suficiente para acomodar a ideia que a função retorne coisas diferentes caso você altere algum **argumento**. Vamos falar disso a seguir."
   ]
  },
  {
   "cell_type": "markdown",
   "id": "c230ef14",
   "metadata": {},
   "source": [
    "## _Keyword arguments_ e _default values_"
   ]
  },
  {
   "cell_type": "markdown",
   "id": "5cfdbb3b-cb66-4117-b0b9-dbe8499f638e",
   "metadata": {},
   "source": [
    "Vamos então criar uma função que tenha argumentos. "
   ]
  },
  {
   "cell_type": "code",
   "execution_count": 8,
   "id": "f3bcdfa6-0642-41c5-8cd5-4dc7664a3afd",
   "metadata": {},
   "outputs": [
    {
     "name": "stdout",
     "output_type": "stream",
     "text": [
      "Olá Jane! Você é de Paris?\n"
     ]
    }
   ],
   "source": [
    "def my_func(name,place):\n",
    "  print(f\"Olá {name}! Você é de {place}?\")\n",
    "\n",
    "my_func(\"Jane\",\"Paris\")"
   ]
  },
  {
   "cell_type": "markdown",
   "id": "9e95a38a-501b-481d-8f94-70c822c19e68",
   "metadata": {},
   "source": [
    "O que acontece se você especificar o `place` primeiro e depois o `name`? Vamos descobrir."
   ]
  },
  {
   "cell_type": "code",
   "execution_count": 3,
   "id": "65144564-b206-4d79-82a0-0f72e5dd58f6",
   "metadata": {},
   "outputs": [
    {
     "name": "stdout",
     "output_type": "stream",
     "text": [
      "Olá Hawaii! Você é de Robert?\n"
     ]
    }
   ],
   "source": [
    "my_func(\"Hawaii\",\"Robert\")\n"
   ]
  },
  {
   "cell_type": "markdown",
   "id": "0377a12f-447c-47f2-8524-f377d2636ea1",
   "metadata": {},
   "source": [
    "Tá meio bizarro, é porque aqui temos os chamados **argumentos posicionais**. Ou seja, ele vai assumir que o primeiro argumento é o `name` e o segundo é o `place` não importa o que. Para lidar com isso, a gente pode atribuir um nome a cada um dos argumentos, ou **palavra-chave**, que aí vai ser a palavra-chave e não a posição que vai determinar o que é qual argumento."
   ]
  },
  {
   "cell_type": "code",
   "execution_count": 9,
   "id": "856d0e62-607e-41ff-a581-a191b6636b64",
   "metadata": {},
   "outputs": [
    {
     "name": "stdout",
     "output_type": "stream",
     "text": [
      "Olá Robert! Você é de Hawaii?\n"
     ]
    }
   ],
   "source": [
    "my_func(place=\"Hawaii\",name=\"Robert\")"
   ]
  },
  {
   "cell_type": "markdown",
   "id": "a598c315-4dba-437a-bf0f-8052ccf90533",
   "metadata": {},
   "source": [
    "Vimos aqui que a posição passou a ser irrelevante pq vc colocou os nomes de cada um dos argumentos. E se quiséssemos dar mais flexibilidade ainda à função, só especificando um subconjunto dos argumentos? Para que isso funciona, nós precisamos especificar os valores-padrão dos argumentos caso eles não sejam fornecidos.\n",
    "Aqui tem uma função que faz isso."
   ]
  },
  {
   "cell_type": "code",
   "execution_count": null,
   "id": "982cabb9-568b-4291-9bb8-859755230ab1",
   "metadata": {},
   "outputs": [],
   "source": [
    "def total_calc(bill_amount,tip_perc=10):\n",
    "  total = bill_amount*(1 + 0.01*tip_perc)\n",
    "  total = round(total,2)\n",
    "  print(f\"Please pay ${total}\")"
   ]
  },
  {
   "cell_type": "markdown",
   "id": "39e8320a-62f6-4bcc-906c-8ed862fbeaba",
   "metadata": {},
   "source": [
    "Nesse caso, o argumento `bill_amount` é obrigatório. Por outro lado, o argumento `tip_perc` vai assumir o valor de 10 toda vez que ele não for explicitamente fornecido na chamada da função."
   ]
  },
  {
   "cell_type": "markdown",
   "id": "2c4e5d74",
   "metadata": {},
   "source": [
    "## Argumentos arbitrários"
   ]
  },
  {
   "cell_type": "markdown",
   "id": "3582e89c-138d-4135-b33f-e597d345940f",
   "metadata": {},
   "source": [
    "Vamos começar fazendo algumas perguntas:\n",
    "* E se não soubermos o número exato de argumentos de antemão?\n",
    "* Podemos criar funções que funcionem com um número variável de argumentos?\n",
    "\n",
    "A resposta é *sim*! E vamos criar essa função imediatamente. Vamos criar uma função simples my_var_sum()que retorna a soma de todos os números passados como argumento. No entanto, o número de argumentos pode ser potencialmente diferente cada vez que chamamos a função. Aqui estou explicitamente colocando uma declaração `return` que devolve o valor de `sum` ao final. Vamos falar mais disso a seguir."
   ]
  },
  {
   "cell_type": "code",
   "execution_count": 11,
   "id": "1db78216-a621-4471-8a54-27a759331226",
   "metadata": {},
   "outputs": [],
   "source": [
    "def my_var_sum(*args):\n",
    "  sum = 0\n",
    "  for arg in args:\n",
    "    sum += arg\n",
    "  print(f\"The numbers that you have add up to {sum}\")"
   ]
  },
  {
   "cell_type": "markdown",
   "id": "2ec9615e-7c39-46ce-ab4d-98e7f89d004e",
   "metadata": {},
   "source": [
    "Observe como a definição da função agora tem `*args` em vez de apenas o nome do parâmetro. No corpo da função, fazemos um loop argsaté usarmos todos os argumentos. A função `my_var_sum` retorna a soma de todos os números passados como argumentos. Olha só o que acontece quando chamamos a função com diferentes números de argumentos:"
   ]
  },
  {
   "cell_type": "code",
   "execution_count": 13,
   "id": "5616a38f-10f5-4412-af8f-86d78e752e87",
   "metadata": {},
   "outputs": [
    {
     "name": "stdout",
     "output_type": "stream",
     "text": [
      "The numbers that you have add up to 186\n",
      "The numbers that you have add up to 141\n",
      "The numbers that you have add up to 251\n"
     ]
    }
   ],
   "source": [
    "my_var_sum(99,10,54,23)\n",
    "my_var_sum(9,87,45)\n",
    "my_var_sum(5,21,36,79,45,65)"
   ]
  },
  {
   "cell_type": "markdown",
   "id": "41bfc0fa-455a-416b-a27a-a8eabb0cc1bf",
   "metadata": {},
   "source": [
    "Mas e se eu quiser passar não apenas uma sequência de valores, mas uma sequência de valores *com nomes*? Não se preocupe, existe uma possibilidade de fazer isso, usando o `**kwargs` na definição dos argumentos. \n",
    "Qual é a diferença entre `*args` e `**kwargs`? A diferença é que você vai passar uma sequência de tamanho arbitrário de parâmetros, cada um deles nomeado.\n",
    "\n",
    "O Python vai entender o `**kwargs` como um dicionário. Cada elemento passado é um par chave-valor, e dentro da função você tem que desempacotar o valor da chave. Vamos seguir alguns exemplos."
   ]
  },
  {
   "cell_type": "code",
   "execution_count": 14,
   "id": "844d2834-316b-466b-9f4b-7d9120861b20",
   "metadata": {},
   "outputs": [
    {
     "name": "stdout",
     "output_type": "stream",
     "text": [
      "first == Geeks\n",
      "mid == for\n",
      "last == Geeks\n"
     ]
    }
   ],
   "source": [
    "def myFun(**kwargs):\n",
    "    for key, value in kwargs.items():\n",
    "        print(\"%s == %s\" % (key, value))\n",
    " \n",
    " \n",
    "myFun(first='Geeks', mid='for', last='Geeks')"
   ]
  },
  {
   "cell_type": "markdown",
   "id": "9fc271e0-b4fc-4142-b187-403f77112726",
   "metadata": {},
   "source": [
    "Podemos misturar os tipos de argumentos (posicionais versus `*args`/`*kwargs`)? Sim, como podemos ver no exemplo seguinte:"
   ]
  },
  {
   "cell_type": "code",
   "execution_count": 17,
   "id": "ad1bc332-0d8b-4e63-8167-4a4c0583e5b4",
   "metadata": {},
   "outputs": [
    {
     "name": "stdout",
     "output_type": "stream",
     "text": [
      "Hi first == Geeks\n",
      "Hi mid == for\n",
      "Hi last == Geeks\n"
     ]
    }
   ],
   "source": [
    "def myFun(arg1, **kwargs):\n",
    "    for key, value in kwargs.items():\n",
    "        print(arg1+\" %s == %s\" % (key, value))\n",
    " \n",
    " \n",
    "myFun(\"Hi\", first='Geeks', mid='for', last='Geeks')"
   ]
  },
  {
   "cell_type": "markdown",
   "id": "8b7db568",
   "metadata": {},
   "source": [
    "## Elementos dentro da função: execução condicional"
   ]
  },
  {
   "cell_type": "markdown",
   "id": "47147c08-77f9-4ca9-8ce2-dd2cc8c6a949",
   "metadata": {},
   "source": [
    "As funções podem retornar booleans, o que pode ser conveniente para esconder testes complicados dentro de funções. Por exemplo:\n"
   ]
  },
  {
   "cell_type": "code",
   "execution_count": 20,
   "id": "ba00ceab-678c-40f2-b2cd-7a6594b39563",
   "metadata": {},
   "outputs": [
    {
     "data": {
      "text/plain": [
       "False"
      ]
     },
     "execution_count": 20,
     "metadata": {},
     "output_type": "execute_result"
    }
   ],
   "source": [
    "def is_divisible(x, y):\n",
    "    if x % y == 0:\n",
    "        return True\n",
    "    else:\n",
    "        return False\n",
    "    \n",
    "is_divisible(6, 4)"
   ]
  },
  {
   "cell_type": "markdown",
   "id": "48ee81ce",
   "metadata": {},
   "source": [
    "### Aplicação: Teorema Central do Limite - Parte 1\n",
    "\n",
    "O primeiro passo para replicarmos, na forma de uma função, a aplicação do Teorema Central do Limite da aula anterior é definir uma função que recebe como argumentos a distribuição da varíavel aleatória X, o intervalo no qual a variável está definida e o número de sorteios que faremos em cada amostra. Com o que aprendemos até agora podemos definir a função `func_tcl` abaixo:"
   ]
  },
  {
   "cell_type": "code",
   "execution_count": 6,
   "id": "f00d1d73",
   "metadata": {},
   "outputs": [],
   "source": [
    "def func_tcl(dist=None,intervalo=(0,1),n=100):\n",
    "    \n",
    "    if dist == None:\n",
    "        print('Você esqueceu de carregar uma função que defina a distribuição de X! Volte 2 casas.')\n",
    "    else:\n",
    "        x = dist(intervalo[0],intervalo[1],n)\n",
    "        print(x)"
   ]
  },
  {
   "cell_type": "markdown",
   "id": "b080cc8c",
   "metadata": {},
   "source": [
    "Para todos os 3 argumentos definimos valores _default_ que, caso não sejam alterados a função vai utilizá-los em suas operações. Vamos rodar a função com todos os valores _default_ e ver o que acontece:"
   ]
  },
  {
   "cell_type": "code",
   "execution_count": 7,
   "id": "72aa122c",
   "metadata": {},
   "outputs": [
    {
     "name": "stdout",
     "output_type": "stream",
     "text": [
      "Você esqueceu de carregar uma função que defina a distribuição de X! Volte 2 casas.\n"
     ]
    }
   ],
   "source": [
    "func_tcl()"
   ]
  },
  {
   "cell_type": "markdown",
   "id": "1f0bd1d7",
   "metadata": {},
   "source": [
    "Nesse caso, a execução condicional `if` dentro da função acende já que não passamos nenhuma distribuição como default, apenas o valor `None`. Vamos então repetir o que fizemos na aula passada e utilizar a distribuição uniforme, no intervalo $[-40,40]$ e sorteando apenas 10 números desta distribuição:"
   ]
  },
  {
   "cell_type": "code",
   "execution_count": 8,
   "id": "5118a9ee",
   "metadata": {},
   "outputs": [
    {
     "name": "stdout",
     "output_type": "stream",
     "text": [
      "[-36.81985365 -31.34903739  -0.05008016  -5.12460943  17.42382393\n",
      "  12.70292251   7.91819873  -9.49411788  10.89606984  -5.97728226]\n"
     ]
    }
   ],
   "source": [
    "func_tcl(dist=np.random.uniform,intervalo=(-40,40),n=10)"
   ]
  },
  {
   "cell_type": "markdown",
   "id": "2f0cbdc1",
   "metadata": {},
   "source": [
    "## Elementos dentro da função: iteração"
   ]
  },
  {
   "cell_type": "markdown",
   "id": "95af41c6-6845-4fcc-81eb-67544e894391",
   "metadata": {},
   "source": [
    "Da mesma forma que podemos ter condições lógicas dentro da função, podemos ter blocos de repetição (`for` e `while`) dentro da função."
   ]
  },
  {
   "cell_type": "markdown",
   "id": "46d9e01e",
   "metadata": {},
   "source": [
    "### Aplicação: Teorema Central do Limite - Parte 2\n",
    "\n",
    "Agora podemos dar mais um passo e incorporar o loop dentro da função, passando como novo argumento da função o número de amostras com o qual queremos trabalhar:"
   ]
  },
  {
   "cell_type": "code",
   "execution_count": 9,
   "id": "cf3a16ac",
   "metadata": {},
   "outputs": [],
   "source": [
    "def func_tcl(dist=None,intervalo=(0,1),n=100, samples=10):\n",
    "    \n",
    "    if dist == None:\n",
    "        print('Você esqueceu de carregar uma função que defina a distribuição de X!')\n",
    "    else:\n",
    "        means = []\n",
    "        for j in range(0,samples):\n",
    "            x_func_tcl = dist(intervalo[0],intervalo[1],n)\n",
    "            mean_x = sum(x_func_tcl)/len(x_func_tcl)\n",
    "            \n",
    "            means.append(mean_x)\n",
    "        \n",
    "        print('Essa é a lista de médias:')\n",
    "        print(means)\n",
    "        print('\\nE essa é a média das médias:')\n",
    "        print(sum(means)/len(means))"
   ]
  },
  {
   "cell_type": "code",
   "execution_count": 10,
   "id": "ac049b7d",
   "metadata": {},
   "outputs": [
    {
     "name": "stdout",
     "output_type": "stream",
     "text": [
      "Essa é a lista de médias:\n",
      "[-2.6419520291841945, 0.382420445207494, -2.2971869003899186, -0.12856511296217676, 3.945331018819081, 4.808427607983528, 1.1596981846490986, 0.4583673137720098, -2.0177969126899638, 2.952952578448611]\n",
      "\n",
      "E essa é a média das médias:\n",
      "0.662169619365357\n"
     ]
    }
   ],
   "source": [
    "# utilizamos a função seed mais uma vez para tornar os resultados previsíveis\n",
    "np.random.seed(1)\n",
    "\n",
    "func_tcl(dist=np.random.uniform,intervalo=(-40,40),n=50,samples=10)"
   ]
  },
  {
   "cell_type": "markdown",
   "id": "a1757136",
   "metadata": {},
   "source": [
    "Que bacana!!!\n",
    "\n",
    "Mas note que o valor da média que nos interessa nesse caso só aparece printado quando chamamos a função. O que podemos fazer para conseguir guardá-lo como uma nova variável, por exemplo?"
   ]
  },
  {
   "cell_type": "markdown",
   "id": "e15de1e8",
   "metadata": {},
   "source": [
    "# Valor de retorno de uma função"
   ]
  },
  {
   "cell_type": "markdown",
   "id": "8cbfc838-3b4e-44f1-9f48-265488054615",
   "metadata": {},
   "source": [
    "O comando `return` é usado para a saída de uma função de volta ao  lugar no código de onde ela foi chamada. A sintaxe desse comando é simples e vocês já viram anteriormente:\n",
    "\n",
    "```python\n",
    "return <expression_list>\n",
    "```\n",
    "\n",
    "Essa declaração pode ter um comando que é executado e o valor resultante devolvido. Se esse comando não for anexado ou não tiver nada além do `return`, a função é devolvida com o valor de `None`. Por exemplo:"
   ]
  },
  {
   "cell_type": "code",
   "execution_count": 21,
   "id": "2d7da13d-3f31-4dce-8016-7470b274578d",
   "metadata": {},
   "outputs": [
    {
     "name": "stdout",
     "output_type": "stream",
     "text": [
      "Olá Jane! Você é de Paris?\n",
      "None\n"
     ]
    }
   ],
   "source": [
    "def my_func(name,place):\n",
    "  print(f\"Olá {name}! Você é de {place}?\")\n",
    "  return\n",
    "\n",
    "print(my_func(\"Jane\",\"Paris\"))"
   ]
  },
  {
   "cell_type": "markdown",
   "id": "f2d1bf7f",
   "metadata": {},
   "source": [
    "## Expectativa de vida (Scoping) de variáveis dentro da função\n",
    "\n",
    "Quando você cria uma variável **dentro** de uma função ela é local, ou seja, só existe dentro da própria função. Por exemplo:"
   ]
  },
  {
   "cell_type": "code",
   "execution_count": 11,
   "id": "b3239bde",
   "metadata": {},
   "outputs": [
    {
     "name": "stdout",
     "output_type": "stream",
     "text": [
      "Que a força esteja com você, jovem Padawan.\n"
     ]
    }
   ],
   "source": [
    "def concat_strings(str1,str2):\n",
    "    \n",
    "    texto_concatenado = str1 + ' ' + str2\n",
    "    print(texto_concatenado)\n",
    "    \n",
    "\n",
    "texto1 = 'Que a força esteja com você,'\n",
    "texto2 = 'jovem Padawan.'\n",
    "\n",
    "concat_strings(texto1,texto2)"
   ]
  },
  {
   "cell_type": "markdown",
   "id": "b993edc4",
   "metadata": {},
   "source": [
    "Essa função recebe dois argumentos, concatena-os e exibe o resultado em uma única linha de texto. No entanto, assim que a função é encerrada, a variável `texto_concatenado` é deletada. O que acontece se tentarmos acessá-la?"
   ]
  },
  {
   "cell_type": "code",
   "execution_count": 12,
   "id": "98049af9",
   "metadata": {},
   "outputs": [
    {
     "ename": "NameError",
     "evalue": "name 'texto_concatenado' is not defined",
     "output_type": "error",
     "traceback": [
      "\u001b[1;31m---------------------------------------------------------------------------\u001b[0m",
      "\u001b[1;31mNameError\u001b[0m                                 Traceback (most recent call last)",
      "Input \u001b[1;32mIn [12]\u001b[0m, in \u001b[0;36m<cell line: 1>\u001b[1;34m()\u001b[0m\n\u001b[1;32m----> 1\u001b[0m \u001b[38;5;28mprint\u001b[39m(\u001b[43mtexto_concatenado\u001b[49m)\n",
      "\u001b[1;31mNameError\u001b[0m: name 'texto_concatenado' is not defined"
     ]
    }
   ],
   "source": [
    "print(texto_concatenado)"
   ]
  },
  {
   "cell_type": "markdown",
   "id": "6bc88a09",
   "metadata": {},
   "source": [
    "### Aplicação: Teorema Central do Limite - Parte 3\n",
    "\n",
    "Retomando a função da parte 2:"
   ]
  },
  {
   "cell_type": "code",
   "execution_count": 13,
   "id": "2df8dd79",
   "metadata": {},
   "outputs": [],
   "source": [
    "def func_tcl(dist=None,intervalo=(0,1),n=100, samples=10):\n",
    "    \n",
    "    if dist == None:\n",
    "        print('Você esqueceu de carregar uma função que defina a distribuição de X!')\n",
    "    else:\n",
    "        means = []\n",
    "        for j in range(0,samples):\n",
    "            x_func_tcl = dist(intervalo[0],intervalo[1],n)\n",
    "            mean_x = sum(x_func_tcl)/len(x_func_tcl)\n",
    "            \n",
    "            means.append(mean_x)\n",
    "            mean_of_means = sum(means)/len(means)\n",
    "        \n",
    "        print('Essa é a lista de médias:')\n",
    "        print(means)\n",
    "        print('\\nE essa é a média das médias:')\n",
    "        print(mean_of_means)"
   ]
  },
  {
   "cell_type": "code",
   "execution_count": 14,
   "id": "3cc89a91",
   "metadata": {},
   "outputs": [
    {
     "name": "stdout",
     "output_type": "stream",
     "text": [
      "Essa é a lista de médias:\n",
      "[-2.6419520291841945, 0.382420445207494, -2.2971869003899186, -0.12856511296217676, 3.945331018819081, 4.808427607983528, 1.1596981846490986, 0.4583673137720098, -2.0177969126899638, 2.952952578448611]\n",
      "\n",
      "E essa é a média das médias:\n",
      "0.662169619365357\n"
     ]
    }
   ],
   "source": [
    "np.random.seed(1)\n",
    "\n",
    "func_tcl(dist=np.random.uniform,intervalo=(-40,40),n=50,samples=10)"
   ]
  },
  {
   "cell_type": "markdown",
   "id": "0ef07b3d",
   "metadata": {},
   "source": [
    "Como acabamos de ver, se quisermos acessar a variável `mean_of_means` o Python retornará um erro. As variáveis definidas dentro de uma função tem vida curta: elas existem apenas dentro da função!"
   ]
  },
  {
   "cell_type": "code",
   "execution_count": 15,
   "id": "8166f0bc",
   "metadata": {},
   "outputs": [
    {
     "ename": "NameError",
     "evalue": "name 'mean_of_means' is not defined",
     "output_type": "error",
     "traceback": [
      "\u001b[1;31m---------------------------------------------------------------------------\u001b[0m",
      "\u001b[1;31mNameError\u001b[0m                                 Traceback (most recent call last)",
      "Input \u001b[1;32mIn [15]\u001b[0m, in \u001b[0;36m<cell line: 1>\u001b[1;34m()\u001b[0m\n\u001b[1;32m----> 1\u001b[0m \u001b[38;5;28mprint\u001b[39m(\u001b[43mmean_of_means\u001b[49m)\n",
      "\u001b[1;31mNameError\u001b[0m: name 'mean_of_means' is not defined"
     ]
    }
   ],
   "source": [
    "print(mean_of_means)"
   ]
  },
  {
   "cell_type": "markdown",
   "id": "12148fa6",
   "metadata": {},
   "source": [
    "No entanto, agora já sabemos o que a palavra-chave `return` faz dentro de uma função. Vamos utilizá-la!"
   ]
  },
  {
   "cell_type": "code",
   "execution_count": 16,
   "id": "f5da5b0f",
   "metadata": {},
   "outputs": [],
   "source": [
    "def func_tcl(dist=None,intervalo=(0,1),n=100, samples=10):\n",
    "    \n",
    "    if dist == None:\n",
    "        print('Você esqueceu de carregar uma função que defina a distribuição de X!')\n",
    "    else:\n",
    "        means = []\n",
    "        for j in range(0,samples):\n",
    "            x_func_tcl = dist(intervalo[0],intervalo[1],n)\n",
    "            mean_x = sum(x_func_tcl)/len(x_func_tcl)\n",
    "            \n",
    "            means.append(mean_x)\n",
    "            mean_of_means = sum(means)/len(means)\n",
    "        \n",
    "        return mean_of_means"
   ]
  },
  {
   "cell_type": "code",
   "execution_count": 17,
   "id": "623d9718",
   "metadata": {},
   "outputs": [
    {
     "data": {
      "text/plain": [
       "0.662169619365357"
      ]
     },
     "execution_count": 17,
     "metadata": {},
     "output_type": "execute_result"
    }
   ],
   "source": [
    "np.random.seed(1)\n",
    "\n",
    "func_tcl(dist=np.random.uniform,intervalo=(-40,40),n=50,samples=10)"
   ]
  },
  {
   "cell_type": "markdown",
   "id": "3e59d0f4",
   "metadata": {},
   "source": [
    "Maravilha, agora a função nos retorna apenas o que é do nosso interesse: a média das médias. Para chegar, finalmente, no mesmo resultado da aula passada basta colocar essa função dentro de um loop e tacar-lhe pau nesse carrinho, Marcos!"
   ]
  },
  {
   "cell_type": "code",
   "execution_count": 18,
   "id": "7676f3b2",
   "metadata": {},
   "outputs": [],
   "source": [
    "expoentes = [1,2,3,4,5,6,7,8,9,10]\n",
    "Y = [2**exp for exp in expoentes]\n",
    "\n",
    "means_of_means = []\n",
    "\n",
    "np.random.seed(1)\n",
    "for y in Y:\n",
    "\n",
    "    mean_of_means = func_tcl(dist=np.random.uniform,intervalo=(-40,40),n=100,samples=y)\n",
    "    means_of_means.append(mean_of_means)"
   ]
  },
  {
   "cell_type": "code",
   "execution_count": 19,
   "id": "7679fe65",
   "metadata": {},
   "outputs": [
    {
     "name": "stdout",
     "output_type": "stream",
     "text": [
      "-1.17\n",
      "0.92\n",
      "0.37\n",
      "-0.25\n",
      "0.31\n",
      "-0.32\n",
      "0.23\n",
      "-0.15\n",
      "-0.06\n",
      "0.03\n"
     ]
    }
   ],
   "source": [
    "import numpy as np\n",
    "for m in means_of_means:\n",
    "    \n",
    "    print(np.round(m,2))"
   ]
  },
  {
   "cell_type": "markdown",
   "id": "2a5bcdb5",
   "metadata": {},
   "source": [
    "_Voilá_!\n",
    "\n",
    "Como exercício para casa, tente fazer alterações nessa função de modo que ela receba não um valor com o número de amostras, mas uma lista de números de amostras. A função deve cuspir como resultado a lista `means_of_means` e não apenas o valor `mean_of_means`. Pratique!"
   ]
  },
  {
   "cell_type": "markdown",
   "id": "9b194c5d",
   "metadata": {},
   "source": [
    "# Documentação\n",
    "\n",
    "Uma **docstring** é uma string no início de uma função, definida pelo usuário, que serve como documentação do que a função faz. A docstring vem logo depois da primeira linha que define a função e é delimitada por aspas triplas, o que permite que a string se estenda por várias linhas, como vocês devem se lembrar.\n",
    "\n",
    "Vamos criar como exemplo uma função que printa o tipo do objeto que é passado como argumento:"
   ]
  },
  {
   "cell_type": "code",
   "execution_count": 20,
   "id": "655c520d",
   "metadata": {},
   "outputs": [],
   "source": [
    "def imprime_tipo(x):\n",
    "    \n",
    "    '''\n",
    "    Função criada para a matéria EAE0308 - Métodos Computacionais para Economia\n",
    "    Objetivo: função simples que imprime o tipo do objeto recebido como argumento.\n",
    "    '''\n",
    "    \n",
    "    print(type(x))"
   ]
  },
  {
   "cell_type": "markdown",
   "id": "5f0e2ffc",
   "metadata": {},
   "source": [
    "Embora opcional, a documentação é uma **boa prática de programação**. A menos que você consiga se lembrar qual foi o cardápio do bandejão na semana passada, sempre documente seu código. Podemos acessar a documentação de determinada função utilizando o atributo `__doc__`."
   ]
  },
  {
   "cell_type": "code",
   "execution_count": 21,
   "id": "452bd7e6",
   "metadata": {},
   "outputs": [
    {
     "name": "stdout",
     "output_type": "stream",
     "text": [
      "\n",
      "    Função criada para a matéria EAE0308 - Métodos Computacionais para Economia\n",
      "    Objetivo: função simples que imprime o tipo do objeto recebido como argumento.\n",
      "    \n"
     ]
    }
   ],
   "source": [
    "print(imprime_tipo.__doc__)"
   ]
  },
  {
   "cell_type": "markdown",
   "id": "1cc350ba",
   "metadata": {},
   "source": [
    "Isso vale também para funções nativas e definidas em outros pacotes do Python. Por exemplo,"
   ]
  },
  {
   "cell_type": "code",
   "execution_count": 22,
   "id": "ef1bd2c9",
   "metadata": {},
   "outputs": [
    {
     "name": "stdout",
     "output_type": "stream",
     "text": [
      "Return the number of items in a container.\n"
     ]
    }
   ],
   "source": [
    "# documentação da função nativa len()\n",
    "print(len.__doc__)"
   ]
  },
  {
   "cell_type": "code",
   "execution_count": 23,
   "id": "5fae075f",
   "metadata": {},
   "outputs": [
    {
     "name": "stdout",
     "output_type": "stream",
     "text": [
      "time() -> floating point number\n",
      "\n",
      "Return the current time in seconds since the Epoch.\n",
      "Fractions of a second may be present if the system clock provides them.\n"
     ]
    }
   ],
   "source": [
    "import time\n",
    "\n",
    "# documentação da função time() dentro do pacote time\n",
    "print(time.time.__doc__)"
   ]
  },
  {
   "cell_type": "code",
   "execution_count": 24,
   "id": "16f49bf0",
   "metadata": {},
   "outputs": [
    {
     "name": "stdout",
     "output_type": "stream",
     "text": [
      "\n",
      "        uniform(low=0.0, high=1.0, size=None)\n",
      "\n",
      "        Draw samples from a uniform distribution.\n",
      "\n",
      "        Samples are uniformly distributed over the half-open interval\n",
      "        ``[low, high)`` (includes low, but excludes high).  In other words,\n",
      "        any value within the given interval is equally likely to be drawn\n",
      "        by `uniform`.\n",
      "\n",
      "        .. note::\n",
      "            New code should use the ``uniform`` method of a ``default_rng()``\n",
      "            instance instead; please see the :ref:`random-quick-start`.\n",
      "\n",
      "        Parameters\n",
      "        ----------\n",
      "        low : float or array_like of floats, optional\n",
      "            Lower boundary of the output interval.  All values generated will be\n",
      "            greater than or equal to low.  The default value is 0.\n",
      "        high : float or array_like of floats\n",
      "            Upper boundary of the output interval.  All values generated will be\n",
      "            less than or equal to high.  The default value is 1.0.\n",
      "        size : int or tuple of ints, optional\n",
      "            Output shape.  If the given shape is, e.g., ``(m, n, k)``, then\n",
      "            ``m * n * k`` samples are drawn.  If size is ``None`` (default),\n",
      "            a single value is returned if ``low`` and ``high`` are both scalars.\n",
      "            Otherwise, ``np.broadcast(low, high).size`` samples are drawn.\n",
      "\n",
      "        Returns\n",
      "        -------\n",
      "        out : ndarray or scalar\n",
      "            Drawn samples from the parameterized uniform distribution.\n",
      "\n",
      "        See Also\n",
      "        --------\n",
      "        randint : Discrete uniform distribution, yielding integers.\n",
      "        random_integers : Discrete uniform distribution over the closed\n",
      "                          interval ``[low, high]``.\n",
      "        random_sample : Floats uniformly distributed over ``[0, 1)``.\n",
      "        random : Alias for `random_sample`.\n",
      "        rand : Convenience function that accepts dimensions as input, e.g.,\n",
      "               ``rand(2,2)`` would generate a 2-by-2 array of floats,\n",
      "               uniformly distributed over ``[0, 1)``.\n",
      "        Generator.uniform: which should be used for new code.\n",
      "\n",
      "        Notes\n",
      "        -----\n",
      "        The probability density function of the uniform distribution is\n",
      "\n",
      "        .. math:: p(x) = \\frac{1}{b - a}\n",
      "\n",
      "        anywhere within the interval ``[a, b)``, and zero elsewhere.\n",
      "\n",
      "        When ``high`` == ``low``, values of ``low`` will be returned.\n",
      "        If ``high`` < ``low``, the results are officially undefined\n",
      "        and may eventually raise an error, i.e. do not rely on this\n",
      "        function to behave when passed arguments satisfying that\n",
      "        inequality condition. The ``high`` limit may be included in the\n",
      "        returned array of floats due to floating-point rounding in the\n",
      "        equation ``low + (high-low) * random_sample()``. For example:\n",
      "\n",
      "        >>> x = np.float32(5*0.99999999)\n",
      "        >>> x\n",
      "        5.0\n",
      "\n",
      "\n",
      "        Examples\n",
      "        --------\n",
      "        Draw samples from the distribution:\n",
      "\n",
      "        >>> s = np.random.uniform(-1,0,1000)\n",
      "\n",
      "        All values are within the given interval:\n",
      "\n",
      "        >>> np.all(s >= -1)\n",
      "        True\n",
      "        >>> np.all(s < 0)\n",
      "        True\n",
      "\n",
      "        Display the histogram of the samples, along with the\n",
      "        probability density function:\n",
      "\n",
      "        >>> import matplotlib.pyplot as plt\n",
      "        >>> count, bins, ignored = plt.hist(s, 15, density=True)\n",
      "        >>> plt.plot(bins, np.ones_like(bins), linewidth=2, color='r')\n",
      "        >>> plt.show()\n",
      "\n",
      "        \n"
     ]
    }
   ],
   "source": [
    "import numpy as np\n",
    "\n",
    "# documentação da função uniform() dentro do pacote NumPy\n",
    "print(np.random.uniform.__doc__)"
   ]
  },
  {
   "cell_type": "markdown",
   "id": "7fc781cf",
   "metadata": {},
   "source": [
    "Note do exemplo acima que uma docstring pode conter uma descrição detalhada do funcionamento de uma função, inclusive com exemplos de aplicação. Legal, né? Note que esse tipo de documentação também está disponível para as bibliotecas como um todo. Isso pode nos ajudar, por exemplo, a conhecer o conteúdo de uma determinada biblioteca."
   ]
  },
  {
   "cell_type": "code",
   "execution_count": 25,
   "id": "9f2ec9dc",
   "metadata": {},
   "outputs": [
    {
     "name": "stdout",
     "output_type": "stream",
     "text": [
      "\n",
      "NumPy\n",
      "=====\n",
      "\n",
      "Provides\n",
      "  1. An array object of arbitrary homogeneous items\n",
      "  2. Fast mathematical operations over arrays\n",
      "  3. Linear Algebra, Fourier Transforms, Random Number Generation\n",
      "\n",
      "How to use the documentation\n",
      "----------------------------\n",
      "Documentation is available in two forms: docstrings provided\n",
      "with the code, and a loose standing reference guide, available from\n",
      "`the NumPy homepage <https://www.scipy.org>`_.\n",
      "\n",
      "We recommend exploring the docstrings using\n",
      "`IPython <https://ipython.org>`_, an advanced Python shell with\n",
      "TAB-completion and introspection capabilities.  See below for further\n",
      "instructions.\n",
      "\n",
      "The docstring examples assume that `numpy` has been imported as `np`::\n",
      "\n",
      "  >>> import numpy as np\n",
      "\n",
      "Code snippets are indicated by three greater-than signs::\n",
      "\n",
      "  >>> x = 42\n",
      "  >>> x = x + 1\n",
      "\n",
      "Use the built-in ``help`` function to view a function's docstring::\n",
      "\n",
      "  >>> help(np.sort)\n",
      "  ... # doctest: +SKIP\n",
      "\n",
      "For some objects, ``np.info(obj)`` may provide additional help.  This is\n",
      "particularly true if you see the line \"Help on ufunc object:\" at the top\n",
      "of the help() page.  Ufuncs are implemented in C, not Python, for speed.\n",
      "The native Python help() does not know how to view their help, but our\n",
      "np.info() function does.\n",
      "\n",
      "To search for documents containing a keyword, do::\n",
      "\n",
      "  >>> np.lookfor('keyword')\n",
      "  ... # doctest: +SKIP\n",
      "\n",
      "General-purpose documents like a glossary and help on the basic concepts\n",
      "of numpy are available under the ``doc`` sub-module::\n",
      "\n",
      "  >>> from numpy import doc\n",
      "  >>> help(doc)\n",
      "  ... # doctest: +SKIP\n",
      "\n",
      "Available subpackages\n",
      "---------------------\n",
      "doc\n",
      "    Topical documentation on broadcasting, indexing, etc.\n",
      "lib\n",
      "    Basic functions used by several sub-packages.\n",
      "random\n",
      "    Core Random Tools\n",
      "linalg\n",
      "    Core Linear Algebra Tools\n",
      "fft\n",
      "    Core FFT routines\n",
      "polynomial\n",
      "    Polynomial tools\n",
      "testing\n",
      "    NumPy testing tools\n",
      "f2py\n",
      "    Fortran to Python Interface Generator.\n",
      "distutils\n",
      "    Enhancements to distutils with support for\n",
      "    Fortran compilers support and more.\n",
      "\n",
      "Utilities\n",
      "---------\n",
      "test\n",
      "    Run numpy unittests\n",
      "show_config\n",
      "    Show numpy build configuration\n",
      "dual\n",
      "    Overwrite certain functions with high-performance SciPy tools.\n",
      "    Note: `numpy.dual` is deprecated.  Use the functions from NumPy or Scipy\n",
      "    directly instead of importing them from `numpy.dual`.\n",
      "matlib\n",
      "    Make everything matrices.\n",
      "__version__\n",
      "    NumPy version string\n",
      "\n",
      "Viewing documentation using IPython\n",
      "-----------------------------------\n",
      "Start IPython with the NumPy profile (``ipython -p numpy``), which will\n",
      "import `numpy` under the alias `np`.  Then, use the ``cpaste`` command to\n",
      "paste examples into the shell.  To see which functions are available in\n",
      "`numpy`, type ``np.<TAB>`` (where ``<TAB>`` refers to the TAB key), or use\n",
      "``np.*cos*?<ENTER>`` (where ``<ENTER>`` refers to the ENTER key) to narrow\n",
      "down the list.  To view the docstring for a function, use\n",
      "``np.cos?<ENTER>`` (to view the docstring) and ``np.cos??<ENTER>`` (to view\n",
      "the source code).\n",
      "\n",
      "Copies vs. in-place operation\n",
      "-----------------------------\n",
      "Most of the functions in `numpy` return a copy of the array argument\n",
      "(e.g., `np.sort`).  In-place versions of these functions are often\n",
      "available as array methods, i.e. ``x = np.array([1,2,3]); x.sort()``.\n",
      "Exceptions to this rule are documented.\n",
      "\n",
      "\n"
     ]
    }
   ],
   "source": [
    "import numpy as np\n",
    "\n",
    "# documentação do NumPy\n",
    "print(np.__doc__)"
   ]
  },
  {
   "cell_type": "markdown",
   "id": "938e3a39",
   "metadata": {},
   "source": [
    "Podemos usar sempre esse atalho caso desejemos conhecer as funcionalidades que uma biblioteca guarda por trás de suas cortinas!"
   ]
  },
  {
   "cell_type": "markdown",
   "id": "69d20a06",
   "metadata": {},
   "source": [
    "# Funções anônimas"
   ]
  },
  {
   "cell_type": "markdown",
   "id": "dcef8d4d-fae5-4d34-bc56-581dee1bb2f5",
   "metadata": {},
   "source": [
    "Em Python, uma função anônima é uma função definida sem nome.\n",
    "\n",
    "Enquanto as funções normais são definidas usando a palavra-chave `def` em Python, as funções anônimas são definidas usando a palavra-chave `lambda`.\n",
    "\n",
    "Portanto, funções anônimas também são chamadas de **funções lambda**. A estrutura usual de uma função lambda é a seguinte: \n",
    "\n",
    "```python\n",
    "lambda <argumentos>: <expressão>\n",
    "```\n",
    "\n",
    "Usualmente a gente precisa de uma função lambda porque precisamos de uma função rápida por um período de tempo E/OU quando a gente usa técnicas mais poderosas que possuem funções como argumento, como `filter` e `map`. Vou fazer um exemplo com cada uma delas.\n",
    "\n",
    "**Usando filter**\n",
    "\n",
    "A função `filter()` em Python recebe uma função e uma lista como argumentos.\n",
    "\n",
    "A função é chamada com todos os itens da lista e uma nova lista é retornada contendo itens para os quais a função avalia `True`.\n",
    "\n",
    "Aqui está um exemplo de uso da função para filtrar apenas números pares de uma lista."
   ]
  },
  {
   "cell_type": "code",
   "execution_count": 22,
   "id": "f03f39f7",
   "metadata": {},
   "outputs": [
    {
     "name": "stdout",
     "output_type": "stream",
     "text": [
      "[4, 6, 8, 12]\n"
     ]
    }
   ],
   "source": [
    "my_list = [1, 5, 4, 6, 8, 11, 3, 12]\n",
    "\n",
    "new_list = list(filter(lambda x: (x%2 == 0) , my_list))\n",
    "\n",
    "print(new_list)"
   ]
  },
  {
   "cell_type": "markdown",
   "id": "facf3cc3-dc0f-41ca-90fc-074cbc512f09",
   "metadata": {},
   "source": [
    "**Usando map**\n",
    "\n",
    "A função `map()` em Python recebe uma função e uma lista.\n",
    "\n",
    "A função é chamada com todos os itens da lista e uma nova lista é retornada contendo os itens retornados por essa função para cada item.\n",
    "\n",
    "Aqui está um exemplo de uso da função `map()` para dobrar todos os itens em uma lista.\n",
    "\n"
   ]
  },
  {
   "cell_type": "code",
   "execution_count": 23,
   "id": "ae439b10-f53f-43b1-8aa3-104218c13c92",
   "metadata": {},
   "outputs": [
    {
     "name": "stdout",
     "output_type": "stream",
     "text": [
      "[2, 10, 8, 12, 16, 22, 6, 24]\n"
     ]
    }
   ],
   "source": [
    "my_list = [1, 5, 4, 6, 8, 11, 3, 12]\n",
    "\n",
    "new_list = list(map(lambda x: x * 2 , my_list))\n",
    "\n",
    "print(new_list)"
   ]
  }
 ],
 "metadata": {
  "kernelspec": {
   "display_name": "Python 3 (ipykernel)",
   "language": "python",
   "name": "python3"
  },
  "language_info": {
   "codemirror_mode": {
    "name": "ipython",
    "version": 3
   },
   "file_extension": ".py",
   "mimetype": "text/x-python",
   "name": "python",
   "nbconvert_exporter": "python",
   "pygments_lexer": "ipython3",
   "version": "3.9.12"
  },
  "toc": {
   "base_numbering": 1,
   "nav_menu": {},
   "number_sections": true,
   "sideBar": true,
   "skip_h1_title": false,
   "title_cell": "Plano de aula",
   "title_sidebar": "Contents",
   "toc_cell": true,
   "toc_position": {
    "height": "calc(100% - 180px)",
    "left": "10px",
    "top": "150px",
    "width": "333.6px"
   },
   "toc_section_display": true,
   "toc_window_display": true
  },
  "varInspector": {
   "cols": {
    "lenName": 16,
    "lenType": 16,
    "lenVar": 40
   },
   "kernels_config": {
    "python": {
     "delete_cmd_postfix": "",
     "delete_cmd_prefix": "del ",
     "library": "var_list.py",
     "varRefreshCmd": "print(var_dic_list())"
    },
    "r": {
     "delete_cmd_postfix": ") ",
     "delete_cmd_prefix": "rm(",
     "library": "var_list.r",
     "varRefreshCmd": "cat(var_dic_list()) "
    }
   },
   "oldHeight": 122.85,
   "position": {
    "height": "40px",
    "left": "1266px",
    "right": "20px",
    "top": "120px",
    "width": "250px"
   },
   "types_to_exclude": [
    "module",
    "function",
    "builtin_function_or_method",
    "instance",
    "_Feature"
   ],
   "varInspector_section_display": "none",
   "window_display": true
  }
 },
 "nbformat": 4,
 "nbformat_minor": 5
}
