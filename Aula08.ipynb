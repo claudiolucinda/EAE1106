{
 "cells": [
  {
   "cell_type": "markdown",
   "id": "eac49fd1",
   "metadata": {},
   "source": [
    "<br>\n",
    "<p style=\"text-align: center;\"><font size=6><b>EAE1106 - Métodos Computacionais para Economistas</b></font></p>\n",
    "\n",
    "<p style=\"text-align: center;\"> Departamento de Economia | Faculdade de Economia, Administração, Contabilidade e Atuaria <br> Universidade de São Paulo <br><br></p>\n",
    "    \n",
    "<p style=\"text-align: center;\"><font size=4>Prof. Danilo Souza e Prof. Claudio Lucinda</font> <br>\n",
    "    <a href=\"https://www.danilosouza.com/teaching/eae1106\">danilosouza.com/teaching/eae1106</a> | <a href=\"https://github.com/claudiolucinda/EAE1106\">github.com/claudiolucinda/EAE1106</a>\n",
    "    <br><br>\n",
    "</p>\n",
    "\n",
    "\n",
    "<p style=\"text-align: center;\">2º semestre de 2022</p>\n",
    "<hr>"
   ]
  },
  {
   "cell_type": "markdown",
   "id": "140b5f62",
   "metadata": {},
   "source": [
    "<font size=6><b>Aula 08 </b></font>\n",
    "<br><br>\n",
    "\n",
    "Depois de passarmos aulas e aulas falando da estrutura e características do Python enquanto linguagem de programação, de apresentar os principais objetos e seus métodos, de estruturar formas de realizar processos iterativos e de aprender a criar nossas próprias funções personalizadas, podemos, finalmente, dar um passo adiante e aplicar de formas mais profunda tudo que aprendemos. \n",
    "\n",
    "À partir da aula de hoje falaremos das principais bibliotecas de comandos para aqueles que estão tendo sua primeira aproximação com a linguagem. Especificamente, falaremos de 4 bibliotecas essenciais: _NumPy_, _SciPy_, _Pandas_ e _Matplotlib_.\n",
    "\n",
    "\n",
    "* O **_NumPy_**, dentre outras coisas, nos permite trabalhar com arrays e operações que os envolvem, por exemplo operações com matrizes.\n",
    "* O **_SciPy_** se utiliza muito da estrutura do _NumPy_ e de como ele lida com arrays para fornecer ferramentas de otimização e integração numérica, por exemplo. \n",
    "* O **_Pandas_** nos permite trabalhar com séries, data frames e bases de dados (inclusive online!).\n",
    "* O **_Matplotlib_** é uma biblioteca de ferramentas gráficas. Existem outras bibliotecas que fazem gráficos mais complexos e interativos, como o [_Bokeh_](https://bokeh.pydata.org/en/latest/), mas o _Matplotlib_ nos dá acesso a vários tipos de gráficos estáticos e nos permite um grau bastante alto de personalização.\n",
    "\n",
    "\n",
    "Começaremos a aula de hoje falando do **_NumPy_**!\n",
    "\n",
    "\n"
   ]
  },
  {
   "cell_type": "markdown",
   "id": "e213193d",
   "metadata": {
    "toc": true
   },
   "source": [
    "<h1>Plano de aula<span class=\"tocSkip\"></span></h1>\n",
    "<div class=\"toc\"><ul class=\"toc-item\"><li><span><a href=\"#O-que-é-o-NumPy?\" data-toc-modified-id=\"O-que-é-o-NumPy?-1\"><span class=\"toc-item-num\">1&nbsp;&nbsp;</span>O que é o NumPy?</a></span></li><li><span><a href=\"#Elementos-básicos-do-NumPy\" data-toc-modified-id=\"Elementos-básicos-do-NumPy-2\"><span class=\"toc-item-num\">2&nbsp;&nbsp;</span>Elementos básicos do NumPy</a></span><ul class=\"toc-item\"><li><span><a href=\"#Arrays-unidimensionais\" data-toc-modified-id=\"Arrays-unidimensionais-2.1\"><span class=\"toc-item-num\">2.1&nbsp;&nbsp;</span>Arrays unidimensionais</a></span></li><li><span><a href=\"#Arrays-multidimensionais\" data-toc-modified-id=\"Arrays-multidimensionais-2.2\"><span class=\"toc-item-num\">2.2&nbsp;&nbsp;</span>Arrays multidimensionais</a></span></li><li><span><a href=\"#Propriedades-de-arrays\" data-toc-modified-id=\"Propriedades-de-arrays-2.3\"><span class=\"toc-item-num\">2.3&nbsp;&nbsp;</span>Propriedades de arrays</a></span></li></ul></li><li><span><a href=\"#Operações-básicas-com-arrays\" data-toc-modified-id=\"Operações-básicas-com-arrays-3\"><span class=\"toc-item-num\">3&nbsp;&nbsp;</span>Operações básicas com arrays</a></span><ul class=\"toc-item\"><li><span><a href=\"#Operações-aritméticas-simples\" data-toc-modified-id=\"Operações-aritméticas-simples-3.1\"><span class=\"toc-item-num\">3.1&nbsp;&nbsp;</span>Operações aritméticas simples</a></span></li><li><span><a href=\"#Funções-universais\" data-toc-modified-id=\"Funções-universais-3.2\"><span class=\"toc-item-num\">3.2&nbsp;&nbsp;</span>Funções universais</a></span></li><li><span><a href=\"#ADENDO:-Arrays-e-listas\" data-toc-modified-id=\"ADENDO:-Arrays-e-listas-3.3\"><span class=\"toc-item-num\">3.3&nbsp;&nbsp;</span>ADENDO: Arrays e listas</a></span></li></ul></li><li><span><a href=\"#Aplicação:-solução-de-sistema-de-equações-lineares\" data-toc-modified-id=\"Aplicação:-solução-de-sistema-de-equações-lineares-4\"><span class=\"toc-item-num\">4&nbsp;&nbsp;</span>Aplicação: solução de sistema de equações lineares</a></span><ul class=\"toc-item\"><li><span><a href=\"#Algoritmo-de-eliminação-de-Gauss-Jordan\" data-toc-modified-id=\"Algoritmo-de-eliminação-de-Gauss-Jordan-4.1\"><span class=\"toc-item-num\">4.1&nbsp;&nbsp;</span>Algoritmo de eliminação de Gauss-Jordan</a></span></li><li><span><a href=\"#Solução-de-sistemas-exatamente-identificados\" data-toc-modified-id=\"Solução-de-sistemas-exatamente-identificados-4.2\"><span class=\"toc-item-num\">4.2&nbsp;&nbsp;</span>Solução de sistemas exatamente identificados</a></span></li></ul></li></ul></div>"
   ]
  },
  {
   "cell_type": "markdown",
   "id": "bf554e99",
   "metadata": {},
   "source": [
    "***"
   ]
  },
  {
   "cell_type": "markdown",
   "id": "fb79dea9",
   "metadata": {},
   "source": [
    "# O que é o NumPy?\n",
    "\n",
    "NumPy (**Num**erical **Py**thon) é o pacote fundamental para computação científica em Python. Essa biblioteca é peça fundamental em outra bibliotecas igualmente importantes como o Pandas e Matplotlib. É uma biblioteca Python que tem como principal objeto o `ndarray`, um array multidimensional que guarda bastante semelhança com a ideia de vetores e matrizes embora seja um objeto específico dentro da linguagem, com suas características e métodos próprios. O pacote contém também uma variedade de rotinas para operações rápidas em arrays, incluindo matemática, lógica, álgebra linear básica, operações estatísticas básicas e muito mais.\n",
    "\n",
    "Mas o que é de fato um `ndarray`? É um objeto multidimensional que nos permite armazenar dados de forma sequencial e que podem ser acessados via indexação. Ué, mas isso é muito parecido com uma lista (ou um conjunto de listas). Qual a diferença então?\n",
    "\n",
    "* NumPy arrays têm um tamanho fixo na criação, ao contrário das listas, que podem crescer. Alterar o tamanho de um ndarray criará um novo array e excluirá o original.\n",
    "\n",
    "* Todos os elementos em um array devem ser do mesmo tipo de dados, diferentemente de listas, que são objetos mais genéricos. Isso facilita a gestão de memória e torna operações com esse tipo de objeto ordens de magnitude mais rápidas do que se utilizássemos listas.\n",
    "\n",
    "* A maior velocidade e eficiência de armazenamento faz do NumPy uma das bibliotecas mais utilizadas em aplicações matemáticas e científicas. Saber apenas as ferramentas nativas do Python, como listas, hoje já não são mais suficientes.\n",
    "\n",
    "São muitas as qualidades do `NumPy` que fazem dele a melhor escolha quanto o assunto é lidar com objetos sequenciais, multidensionais, e com os quais queremos operar tal qual vetores e matrizes. Mas chega de lenga lenga, vamos ao trabalho!"
   ]
  },
  {
   "cell_type": "markdown",
   "id": "4f041e08",
   "metadata": {},
   "source": [
    "# Elementos básicos do NumPy\n",
    "\n",
    "Antes de tudo é preciso importar o `NumPy`, já que se trata de uma biblioteca não-nativa do Python."
   ]
  },
  {
   "cell_type": "code",
   "execution_count": 1,
   "id": "d26e553f",
   "metadata": {},
   "outputs": [],
   "source": [
    "import numpy as np"
   ]
  },
  {
   "cell_type": "markdown",
   "id": "33404e4d",
   "metadata": {},
   "source": [
    "## Arrays unidimensionais\n",
    "\n",
    "Comecemos criando um `numpy.ndarray` do zero, contendo os números 1, 2 e 3. Podemos fazê-lo da seguinte forma"
   ]
  },
  {
   "cell_type": "code",
   "execution_count": 2,
   "id": "09850c88",
   "metadata": {},
   "outputs": [
    {
     "data": {
      "text/plain": [
       "array([1, 2, 3])"
      ]
     },
     "execution_count": 2,
     "metadata": {},
     "output_type": "execute_result"
    }
   ],
   "source": [
    "a = np.array([1, 2, 3])\n",
    "a"
   ]
  },
  {
   "cell_type": "code",
   "execution_count": 3,
   "id": "d8b18e5b",
   "metadata": {},
   "outputs": [
    {
     "name": "stdout",
     "output_type": "stream",
     "text": [
      "<class 'numpy.ndarray'>\n"
     ]
    }
   ],
   "source": [
    "print(type(a))"
   ]
  },
  {
   "cell_type": "markdown",
   "id": "4a72df29",
   "metadata": {},
   "source": [
    "A sintaxe é essa mesmo, de um par de colchetes dentro dos parênteses. Se tentarmos passar sem os colchetes, o Python retornará um erro"
   ]
  },
  {
   "cell_type": "code",
   "execution_count": 4,
   "id": "8c45f461",
   "metadata": {},
   "outputs": [
    {
     "ename": "TypeError",
     "evalue": "array() takes from 1 to 2 positional arguments but 3 were given",
     "output_type": "error",
     "traceback": [
      "\u001b[1;31m---------------------------------------------------------------------------\u001b[0m",
      "\u001b[1;31mTypeError\u001b[0m                                 Traceback (most recent call last)",
      "Input \u001b[1;32mIn [4]\u001b[0m, in \u001b[0;36m<cell line: 1>\u001b[1;34m()\u001b[0m\n\u001b[1;32m----> 1\u001b[0m a \u001b[38;5;241m=\u001b[39m \u001b[43mnp\u001b[49m\u001b[38;5;241;43m.\u001b[39;49m\u001b[43marray\u001b[49m\u001b[43m(\u001b[49m\u001b[38;5;241;43m1\u001b[39;49m\u001b[43m,\u001b[49m\u001b[43m \u001b[49m\u001b[38;5;241;43m2\u001b[39;49m\u001b[43m,\u001b[49m\u001b[43m \u001b[49m\u001b[38;5;241;43m3\u001b[39;49m\u001b[43m)\u001b[49m\n",
      "\u001b[1;31mTypeError\u001b[0m: array() takes from 1 to 2 positional arguments but 3 were given"
     ]
    }
   ],
   "source": [
    "a = np.array(1, 2, 3)"
   ]
  },
  {
   "cell_type": "markdown",
   "id": "3bbf2ec3",
   "metadata": {},
   "source": [
    "Da mesma forma que uma sequência de 3 números inteiros, podemos criar um `numpy.ndarray` que repete 3 vezes o número 0 ou 3 vezes o número um."
   ]
  },
  {
   "cell_type": "code",
   "execution_count": 5,
   "id": "6a0e4ca2",
   "metadata": {},
   "outputs": [
    {
     "data": {
      "text/plain": [
       "array([0., 0., 0.])"
      ]
     },
     "execution_count": 5,
     "metadata": {},
     "output_type": "execute_result"
    }
   ],
   "source": [
    "a = np.zeros(3)\n",
    "a"
   ]
  },
  {
   "cell_type": "code",
   "execution_count": 6,
   "id": "6ac83ee6",
   "metadata": {},
   "outputs": [
    {
     "data": {
      "text/plain": [
       "array([1., 1., 1.])"
      ]
     },
     "execution_count": 6,
     "metadata": {},
     "output_type": "execute_result"
    }
   ],
   "source": [
    "a = np.ones(3)\n",
    "a"
   ]
  },
  {
   "cell_type": "markdown",
   "id": "be50f969",
   "metadata": {},
   "source": [
    "Note que em ambos os casos os números aparecem com o ponto da casa decimal, o que é um indicativo de que estão armazenados como valores do tipo `float`. E se quiséssemos criar esses mesmos arrays, mas especificando que os números são inteiros, i.e., do tipo `int`?"
   ]
  },
  {
   "cell_type": "code",
   "execution_count": 7,
   "id": "691913c8",
   "metadata": {},
   "outputs": [
    {
     "data": {
      "text/plain": [
       "array([0, 0, 0])"
      ]
     },
     "execution_count": 7,
     "metadata": {},
     "output_type": "execute_result"
    }
   ],
   "source": [
    "a = np.zeros(3, dtype=int)\n",
    "a"
   ]
  },
  {
   "cell_type": "code",
   "execution_count": 8,
   "id": "78b75c60",
   "metadata": {},
   "outputs": [
    {
     "data": {
      "text/plain": [
       "array([1, 1, 1])"
      ]
     },
     "execution_count": 8,
     "metadata": {},
     "output_type": "execute_result"
    }
   ],
   "source": [
    "b = np.ones(3, dtype=int)\n",
    "b"
   ]
  },
  {
   "cell_type": "markdown",
   "id": "eab0a0cb",
   "metadata": {},
   "source": [
    "A função `numpy.linspace(x,y,z)` nos permite criar um array que vai de `x` até `y`, com `z` elementos igualmente espaçados."
   ]
  },
  {
   "cell_type": "code",
   "execution_count": 9,
   "id": "e4f4a6f3",
   "metadata": {},
   "outputs": [
    {
     "data": {
      "text/plain": [
       "array([0, 2, 4, 6, 8])"
      ]
     },
     "execution_count": 9,
     "metadata": {},
     "output_type": "execute_result"
    }
   ],
   "source": [
    "a = np.linspace(0,8,5, dtype=int)\n",
    "a"
   ]
  },
  {
   "cell_type": "markdown",
   "id": "bf028168",
   "metadata": {},
   "source": [
    "Podemos acessar os elementos de um array qualquer utilizando a mesma ideia de indexação de listas:"
   ]
  },
  {
   "cell_type": "code",
   "execution_count": 10,
   "id": "13aa4b6c",
   "metadata": {},
   "outputs": [
    {
     "name": "stdout",
     "output_type": "stream",
     "text": [
      "Array a = [0 2 4 6 8]\n",
      "\n",
      "Primeiro elemento de a =  0\n",
      "Segundo elemento de a =  2\n",
      "Último elemento de a =  8\n",
      "Dois primeiros elementos de a =  [0 2]\n"
     ]
    }
   ],
   "source": [
    "print('Array a =',a)\n",
    "print('\\nPrimeiro elemento de a = ',a[0])\n",
    "print('Segundo elemento de a = ',a[1])\n",
    "print('Último elemento de a = ',a[-1])\n",
    "print('Dois primeiros elementos de a = ',a[0:2])"
   ]
  },
  {
   "cell_type": "markdown",
   "id": "6bf1be9a",
   "metadata": {},
   "source": [
    "## Arrays multidimensionais\n",
    "\n",
    "Como falamos anteriormente, um objeto do tipo `numpy.ndarray` é um array _n-dimensional_ (por isso o `nd` em `ndarray`). Até agora trabalhamos apenas com uma dimensão, mas para as nossas aplicações é particularmente interressante o caso em que o número de dimensões é igual a 2, i.e., para o caso em que o array assume a forma de uma **matriz**.\n",
    "\n",
    "Podemos criar esse tipo de array usando a mesma lógica de antes, com pequenas alterações na sintaxe:"
   ]
  },
  {
   "cell_type": "code",
   "execution_count": 11,
   "id": "4f8eee32",
   "metadata": {},
   "outputs": [
    {
     "name": "stdout",
     "output_type": "stream",
     "text": [
      "Matriz A =\n",
      " [[1 2]\n",
      " [3 4]]\n"
     ]
    }
   ],
   "source": [
    "A_22 = np.array([[1, 2], [3, 4]], dtype=int)\n",
    "\n",
    "print('Matriz A =\\n',A_22)"
   ]
  },
  {
   "cell_type": "markdown",
   "id": "f0faa9ba",
   "metadata": {},
   "source": [
    "O NumPy nos oferece algumas funções interessantes para criarmos matrizes específicas:"
   ]
  },
  {
   "cell_type": "code",
   "execution_count": 12,
   "id": "399db52d",
   "metadata": {},
   "outputs": [
    {
     "name": "stdout",
     "output_type": "stream",
     "text": [
      "Matriz identidade 2x2 =\n",
      " [[1 0]\n",
      " [0 1]]\n",
      "\n",
      "Matriz diagonal 3x3 =\n",
      " [[1 0 0]\n",
      " [0 2 0]\n",
      " [0 0 3]]\n"
     ]
    }
   ],
   "source": [
    "print('Matriz identidade 2x2 =\\n',np.eye(2,dtype=int))\n",
    "print('\\nMatriz diagonal 3x3 =\\n',np.diag([1,2,3]))"
   ]
  },
  {
   "cell_type": "markdown",
   "id": "2612b5cb",
   "metadata": {},
   "source": [
    "Podemos criar a matriz **transposta** de uma dada matriz utilizando a função `np.transpose()` (ou apenas o método `.T`):"
   ]
  },
  {
   "cell_type": "code",
   "execution_count": 13,
   "id": "98915e4c",
   "metadata": {},
   "outputs": [
    {
     "name": "stdout",
     "output_type": "stream",
     "text": [
      "Matriz A =\n",
      " [[1 2]\n",
      " [3 4]]\n",
      "\n",
      "Transposta da matriz A =\n",
      " [[1 3]\n",
      " [2 4]]\n",
      "\n",
      "Transposta da matriz A =\n",
      " [[1 3]\n",
      " [2 4]]\n"
     ]
    }
   ],
   "source": [
    "print('Matriz A =\\n',A_22)\n",
    "print('\\nTransposta da matriz A =\\n',np.transpose(A_22))\n",
    "print('\\nTransposta da matriz A =\\n',A_22.T)"
   ]
  },
  {
   "cell_type": "markdown",
   "id": "c18f5a46",
   "metadata": {},
   "source": [
    "Assim como em arrays unidimensionais, podemos acessar os elementos de uma matriz utilizando indexação, mas agora em 2 dimensões:"
   ]
  },
  {
   "cell_type": "code",
   "execution_count": 14,
   "id": "2c5164d3",
   "metadata": {},
   "outputs": [
    {
     "name": "stdout",
     "output_type": "stream",
     "text": [
      "Matriz A =\n",
      " [[1 2 3]\n",
      " [4 5 6]\n",
      " [7 8 9]]\n",
      "\n",
      "Elemento 11 de A =  1\n",
      "Elemento 23 de A =  6\n",
      "Primeira linha de A =  [1 2 3]\n",
      "Segunda coluna de A =  [2 5 8]\n",
      "\n",
      "Submatriz de A delimitada pelos elementos 22 e 33 =\n",
      " [[5 6]\n",
      " [8 9]]\n"
     ]
    }
   ],
   "source": [
    "A = np.array([[1,2,3], [4,5,6], [7,8,9]])\n",
    "\n",
    "print('Matriz A =\\n',A)\n",
    "print('\\nElemento 11 de A = ',A[0,0])\n",
    "print('Elemento 23 de A = ',A[1,2])\n",
    "print('Primeira linha de A = ',A[0,:])\n",
    "print('Segunda coluna de A = ',A[:,1])\n",
    "print('\\nSubmatriz de A delimitada pelos elementos 22 e 33 =\\n',A[1:,1:])"
   ]
  },
  {
   "cell_type": "markdown",
   "id": "343d82ed",
   "metadata": {},
   "source": [
    "## Propriedades de arrays\n",
    "\n",
    "O NumPy fornece algumas funções úteis que, apesar de não receberem nenhum argumento, nos permitem acessar algumas das características dos arrays que criamos.\n",
    "\n",
    "* `ndim` retorna o número de dimensões do array;\n",
    "* `shape` retorna o tamanho do array em cada uma de suas dimensões;\n",
    "* `dtype` retorna o tipo de dado contido no array;\n",
    "* `size` retorna o número total de elementos contido no array."
   ]
  },
  {
   "cell_type": "code",
   "execution_count": 15,
   "id": "2d1aec98",
   "metadata": {},
   "outputs": [
    {
     "name": "stdout",
     "output_type": "stream",
     "text": [
      "Array X1 =\n",
      " [[1 2 3]\n",
      " [4 5 6]\n",
      " [7 8 9]]\n",
      "\n",
      "Dimensões de X1 =  2\n",
      "Shape de X1 =  (3, 3)\n",
      "Tipo de dado em X1 =  int32\n",
      "Número de elementos em X1 =  9\n",
      "\n",
      "\n",
      "Array X2 =\n",
      " [1 2 3 4 5 6 7 8 9]\n",
      "\n",
      "Dimensões de X2 =  1\n",
      "Shape de X2 =  (9,)\n",
      "Tipo de dado em X2 =  int32\n",
      "Número de elementos em X2 =  9\n"
     ]
    }
   ],
   "source": [
    "X1 = np.array([[1,2,3], [4,5,6], [7,8,9]]) \n",
    "X2 = X1.flatten() # O método flatten reduz um array de n-dimensões em um array de uma única dimensão\n",
    "\n",
    "print('Array X1 =\\n',X1)\n",
    "print('\\nDimensões de X1 = ', X1.ndim)\n",
    "print('Shape de X1 = ', X1.shape)\n",
    "print('Tipo de dado em X1 = ', X1.dtype)\n",
    "print('Número de elementos em X1 = ', X1.size)\n",
    "\n",
    "print('\\n\\nArray X2 =\\n',X2)\n",
    "print('\\nDimensões de X2 = ', X2.ndim)\n",
    "print('Shape de X2 = ', X2.shape)\n",
    "print('Tipo de dado em X2 = ', X2.dtype)\n",
    "print('Número de elementos em X2 = ', X2.size)"
   ]
  },
  {
   "cell_type": "markdown",
   "id": "0b2bd879",
   "metadata": {},
   "source": [
    "Um método interessante de arrays é o `reshape(x,y)` que reorganiza um array existente de acordo com os argumentos `x` e `y`:"
   ]
  },
  {
   "cell_type": "code",
   "execution_count": 16,
   "id": "d8801b2a",
   "metadata": {},
   "outputs": [
    {
     "name": "stdout",
     "output_type": "stream",
     "text": [
      "Array X1 4x4 =\n",
      " [[ 1  2  3  4]\n",
      " [ 5  6  7  8]\n",
      " [ 9 10 11 12]\n",
      " [13 14 15 16]]\n",
      "\n",
      " X1 reorganizado em 2x8 =\n",
      " [[ 1  2  3  4  5  6  7  8]\n",
      " [ 9 10 11 12 13 14 15 16]]\n",
      "\n",
      " X1 reorganizado em 8x2 =\n",
      " [[ 1  2]\n",
      " [ 3  4]\n",
      " [ 5  6]\n",
      " [ 7  8]\n",
      " [ 9 10]\n",
      " [11 12]\n",
      " [13 14]\n",
      " [15 16]]\n"
     ]
    }
   ],
   "source": [
    "X = np.array([[1,2,3,4], [5,6,7,8], [9,10,11,12], [13,14,15,16]]) \n",
    "\n",
    "print('Array X1 4x4 =\\n',X)\n",
    "print('\\n X1 reorganizado em 2x8 =\\n',X.reshape(2,8))\n",
    "print('\\n X1 reorganizado em 8x2 =\\n',X.reshape(8,2))"
   ]
  },
  {
   "cell_type": "markdown",
   "id": "dccb124f",
   "metadata": {},
   "source": [
    "# Operações básicas com arrays"
   ]
  },
  {
   "cell_type": "markdown",
   "id": "64003f3d",
   "metadata": {},
   "source": [
    "## Operações aritméticas simples\n",
    "\n",
    "Dois tipos de operações que serão úteis para arrays de qualquer dimensão são:\n",
    "\n",
    "1. Operações entre um array e um único número.\n",
    "\n",
    "2. Operações entre dois arrays da mesma forma.\n",
    "\n",
    "Quando realizamos operações em um array usando um único número, simplesmente aplicamos essa operação a cada elemento do array. Isso vale tanto para arrays unidimensionais (vetores) quanto multidimensionais (por ex., matrizes)."
   ]
  },
  {
   "cell_type": "code",
   "execution_count": 17,
   "id": "e2636af8",
   "metadata": {},
   "outputs": [
    {
     "name": "stdout",
     "output_type": "stream",
     "text": [
      "x =\n",
      " [1 2 3]\n",
      "\n",
      "2 + x =\n",
      " [3 4 5]\n",
      "\n",
      "2 - x =\n",
      " [ 1  0 -1]\n",
      "\n",
      "2 * x =\n",
      " [2 4 6]\n",
      "\n",
      "x / 2 =\n",
      " [0.5 1.  1.5]\n"
     ]
    }
   ],
   "source": [
    "x = np.array([1,2,3], dtype=int)\n",
    "print(\"x =\\n\", x)\n",
    "print(\"\\n2 + x =\\n\", 2 + x)\n",
    "print(\"\\n2 - x =\\n\", 2 - x)\n",
    "print(\"\\n2 * x =\\n\", 2 * x)\n",
    "print(\"\\nx / 2 =\\n\", x / 2)"
   ]
  },
  {
   "cell_type": "code",
   "execution_count": 18,
   "id": "3f8305e3",
   "metadata": {},
   "outputs": [
    {
     "name": "stdout",
     "output_type": "stream",
     "text": [
      "X =\n",
      " [[1 1]\n",
      " [1 1]]\n",
      "\n",
      "2 + X =\n",
      " [[3 3]\n",
      " [3 3]]\n",
      "\n",
      "2 - X =\n",
      " [[1 1]\n",
      " [1 1]]\n",
      "\n",
      "2 * X =\n",
      " [[2 2]\n",
      " [2 2]]\n",
      "\n",
      "X / 2 =\n",
      " [[0.5 0.5]\n",
      " [0.5 0.5]]\n"
     ]
    }
   ],
   "source": [
    "X = np.ones((2, 2), dtype=int)\n",
    "\n",
    "print(\"X =\\n\", X)\n",
    "print(\"\\n2 + X =\\n\", 2 + X)\n",
    "print(\"\\n2 - X =\\n\", 2 - X)\n",
    "print(\"\\n2 * X =\\n\", 2 * X)\n",
    "print(\"\\nX / 2 =\\n\", X / 2)"
   ]
  },
  {
   "cell_type": "markdown",
   "id": "0b39cdf6",
   "metadata": {},
   "source": [
    "Para operações entre dois arrays de mesmo tamanho, basta aplicar a operação elemento a elemento (_elementwise_, em inglês) entre os arrays."
   ]
  },
  {
   "cell_type": "code",
   "execution_count": 20,
   "id": "ef6837fc",
   "metadata": {},
   "outputs": [
    {
     "name": "stdout",
     "output_type": "stream",
     "text": [
      "x =\n",
      " [2 4 6]\n",
      "\n",
      "y =\n",
      " [2 2 1]\n",
      "\n",
      "x + y =\n",
      " [4 6 7]\n",
      "\n",
      "x - y =\n",
      " [0 2 5]\n"
     ]
    }
   ],
   "source": [
    "x = np.array([2, 4, 6], dtype=int)\n",
    "y = np.array([2, 2, 1], dtype=int)\n",
    "\n",
    "print(\"x =\\n\", x)\n",
    "print(\"\\ny =\\n\", y)\n",
    "print(\"\\nx + y =\\n\", x + y)\n",
    "print(\"\\nx - y =\\n\", x - y)"
   ]
  },
  {
   "cell_type": "code",
   "execution_count": 21,
   "id": "936e1f84",
   "metadata": {},
   "outputs": [
    {
     "name": "stdout",
     "output_type": "stream",
     "text": [
      "X =\n",
      " [[2 4]\n",
      " [6 8]]\n",
      "\n",
      "Y =\n",
      " [[2 2]\n",
      " [2 2]]\n",
      "\n",
      "X + Y =\n",
      " [[ 4  6]\n",
      " [ 8 10]]\n",
      "\n",
      "X - Y =\n",
      " [[0 2]\n",
      " [4 6]]\n"
     ]
    }
   ],
   "source": [
    "X = np.array([[2, 4], [6, 8]], dtype=int)\n",
    "Y = np.array([[2, 2], [2, 2]], dtype=int)\n",
    "\n",
    "print(\"X =\\n\", X)\n",
    "print(\"\\nY =\\n\", Y)\n",
    "print(\"\\nX + Y =\\n\", X + Y)\n",
    "print(\"\\nX - Y =\\n\", X - Y)"
   ]
  },
  {
   "cell_type": "markdown",
   "id": "1cb1f082",
   "metadata": {},
   "source": [
    "As operações de multiplicação e divisão entre arrays são um pouco diferentes. São duas as possibilidades: \n",
    "\n",
    "* Multiplicação e divisão elemento a elemento.\n",
    "* Multiplicação entre arrays usando a lógica de matriz e \"divisão\" usando a lógica de matriz inversa.\n",
    "\n",
    "Para realizar as operações _elementwise_ basta utilizar os sinais usuais de `*` e `/`, independentemente do número de dimesões do array."
   ]
  },
  {
   "cell_type": "code",
   "execution_count": 22,
   "id": "f3f78174",
   "metadata": {},
   "outputs": [
    {
     "name": "stdout",
     "output_type": "stream",
     "text": [
      "Vetores x e y:\n",
      "x = [2 4 6]\n",
      "y = [2 2 1]\n",
      "\n",
      " x * y =\n",
      " [4 8 6]\n",
      "\n",
      " x * y =\n",
      " [1. 2. 6.]\n",
      "\n",
      "Matrizes X e Y:\n",
      "X =\n",
      " [[2 4]\n",
      " [6 8]]\n",
      "Y =\n",
      " [[2 2]\n",
      " [2 2]]\n",
      "\n",
      " X * Y =\n",
      " [[ 4  8]\n",
      " [12 16]]\n",
      "\n",
      " X / Y =\n",
      " [[1. 2.]\n",
      " [3. 4.]]\n"
     ]
    }
   ],
   "source": [
    "print('Vetores x e y:')\n",
    "print('x =',x)\n",
    "print('y =',y)\n",
    "print(\"\\n x * y =\\n\", x * y)\n",
    "print(\"\\n x * y =\\n\", x / y)\n",
    "\n",
    "print('\\nMatrizes X e Y:')\n",
    "print('X =\\n',X)\n",
    "print('Y =\\n',Y)\n",
    "print(\"\\n X * Y =\\n\", X * Y)\n",
    "print(\"\\n X / Y =\\n\", X / Y)"
   ]
  },
  {
   "cell_type": "markdown",
   "id": "3fedaf76",
   "metadata": {},
   "source": [
    "A **multiplicação** de matriz com matriz, do jeito que a gente conhece do Ensino Médio é feita usando o símbolo `@` (ou através da função `np.dot()`):"
   ]
  },
  {
   "cell_type": "code",
   "execution_count": 23,
   "id": "9c622698",
   "metadata": {},
   "outputs": [
    {
     "name": "stdout",
     "output_type": "stream",
     "text": [
      "X =\n",
      " [[1 2]\n",
      " [3 4]]\n",
      "Y =\n",
      " [[10 20]\n",
      " [30 40]]\n",
      "\n",
      "X * Y =\n",
      " [[ 70 100]\n",
      " [150 220]]\n",
      "\n",
      "X * Y =\n",
      " [[ 70 100]\n",
      " [150 220]]\n"
     ]
    }
   ],
   "source": [
    "X= np.array([[1, 2], [3, 4]], dtype=int)\n",
    "Y= np.array([[10, 20], [30, 40]], dtype=int)\n",
    "\n",
    "print('X =\\n',X)\n",
    "print('Y =\\n',Y)\n",
    "print('\\nX * Y =\\n', X @ Y)\n",
    "print('\\nX * Y =\\n', np.dot(X,Y))"
   ]
  },
  {
   "cell_type": "markdown",
   "id": "0ecf6615",
   "metadata": {},
   "source": [
    "Para calcular a inversa de uma matriz utilizando o NumPy é preciso um pouco mais de estrutura e de conhecimento acerca do subpacote `linalg` que nos traz funções para realizar operações de álgebra linear. Falaremos disso já já!"
   ]
  },
  {
   "cell_type": "markdown",
   "id": "46c70822",
   "metadata": {},
   "source": [
    "## Funções universais\n",
    "\n",
    "As funções universais no Numpy são funções matemáticas simples. É apenas um termo que demos às funções matemáticas na biblioteca Numpy, que cobrem uma ampla variedade de operações. Essas funções incluem funções trigonométricas padrão, funções para operações aritméticas, manipulação de números complexos, funções estatísticas, etc. Essas funções possuem como características principais:\n",
    "\n",
    "* Elas executam operações de array rápidas elemento por elemento.\n",
    "* Elas suportam vários recursos, como conversão de tipos.\n",
    "* As funções universais são objetos que pertencem à classe `numpy.ufunc`.\n",
    "* As funções do Python também podem ser criadas como uma função universal usando a função da biblioteca `frompyfunc`.\n",
    "* Algumas funções universais são chamadas automaticamente quando o operador aritmético correspondente é usado em arrays. Por exemplo, quando a adição de dois arrays é executada em elementos usando o operador '+', então `np.add()` é chamado internamente.\n",
    "\n",
    "Dentre as principais funções universais matemáticas estão:\n",
    "\n",
    "* `sin`, `cos`, `tan`: calcular seno, cosseno e tangente de ângulos.\n",
    "* `hypot`: calcule a hipotenusa do triângulo retângulo dado.\n",
    "* `arcsinh`, `arcosh`, `arctanh`: calcular seno hiperbólico inverso, cosseno e tangente.\n",
    "* `deg2rad`: converter grau em radianos.\n",
    "* `rad2deg`: converter radianos em graus.\n",
    "\n",
    "Dentre as principais funções universais estatísticas estão:\n",
    "\n",
    "* `amin`, `amax`: retorna o mínimo ou máximo de um array ou ao longo de um eixo.\n",
    "* `ptp`: retorna o intervalo de valores (máximo-mínimo) de um array ou ao longo de um eixo.\n",
    "* `sum`: retorna a soma de valores de um array ao longo de um eixo.\n",
    "* `percentile(a, p, eixo)`: calcular o p-ésimo percentil da matriz ou ao longo do eixo especificado.\n",
    "* `median`: calcular a mediana dos dados ao longo do eixo especificado.\n",
    "* `mean`: calcular a média dos dados ao longo do eixo especificado.\n",
    "* `var`: calcular a variância de dados ao longo do eixo especificado.\n",
    "* `log`: calcular o log dos dados ao longo do eixo especificado.\n",
    "\n",
    "Alguns exemplos:"
   ]
  },
  {
   "cell_type": "code",
   "execution_count": 24,
   "id": "8dbcab02",
   "metadata": {},
   "outputs": [
    {
     "name": "stdout",
     "output_type": "stream",
     "text": [
      "Seno, cosseno e tangente de 30 graus:  0.5 ,  0.87  e  0.58\n",
      "Seno, cosseno e tangente de 45 graus:  0.71 ,  0.71  e  1.0\n",
      "Seno, cosseno e tangente de 60 graus:  0.87 ,  0.5  e  1.73\n"
     ]
    }
   ],
   "source": [
    "angulos_notaveis_deg = np.array([30,45,60])\n",
    "angulos_notaveis_rad = np.deg2rad(angulos_notaveis_deg)\n",
    "\n",
    "seno_notaveis = [np.round(elem,2) for elem in np.sin(angulos_notaveis_rad)]\n",
    "cosseno_notaveis = [np.round(elem,2) for elem in np.cos(angulos_notaveis_rad)]\n",
    "tangente_notaveis = [np.round(elem,2) for elem in np.tan(angulos_notaveis_rad)]\n",
    "\n",
    "print('Seno, cosseno e tangente de 30 graus: ',seno_notaveis[0],', ',cosseno_notaveis[0],' e ',tangente_notaveis[0])\n",
    "print('Seno, cosseno e tangente de 45 graus: ',seno_notaveis[1],', ',cosseno_notaveis[1],' e ',tangente_notaveis[1])\n",
    "print('Seno, cosseno e tangente de 60 graus: ',seno_notaveis[2],', ',cosseno_notaveis[2],' e ',tangente_notaveis[2])"
   ]
  },
  {
   "cell_type": "code",
   "execution_count": 25,
   "id": "ec474dae",
   "metadata": {},
   "outputs": [
    {
     "name": "stdout",
     "output_type": "stream",
     "text": [
      "Array x =  [1 2 3 4 5]\n",
      "\n",
      "Mínimo de x =  1\n",
      "Máximo de x =  5\n",
      "Intervalo de x =  4\n",
      "Soma de x =  15\n",
      "Média de x =  3.0\n",
      "Log de x =  [0.0, 0.69, 1.1, 1.39, 1.61]\n"
     ]
    }
   ],
   "source": [
    "x = np.array([1,2,3,4,5])\n",
    "\n",
    "print('Array x = ',x)\n",
    "print('\\nMínimo de x = ',np.amin(x))\n",
    "print('Máximo de x = ',np.amax(x))\n",
    "print('Intervalo de x = ',np.ptp(x))\n",
    "print('Soma de x = ',np.sum(x))\n",
    "print('Média de x = ',np.mean(x))\n",
    "print('Log de x = ',[np.round(elem,2) for elem in np.log(x)])"
   ]
  },
  {
   "cell_type": "markdown",
   "id": "55c12e65",
   "metadata": {},
   "source": [
    "## ADENDO: Arrays e listas\n",
    "\n",
    "Agora que já vimos um pouco de operações básicas, podemos entender um pouco melhor a diferença de desempenho entre arrays e listas. Considere um array de dez milhões de números inteiros e uma lista equivalente:"
   ]
  },
  {
   "cell_type": "code",
   "execution_count": 26,
   "id": "787ff76d",
   "metadata": {},
   "outputs": [],
   "source": [
    "my_array = np.arange(10000000)\n",
    "my_list = list(range(10000000))"
   ]
  },
  {
   "cell_type": "markdown",
   "id": "a8a7b044",
   "metadata": {},
   "source": [
    "Agora vamos multiplicar, elemento a elemento, todos os números por 2 e salvar o resultado correspondente. Utilizaremos a função `time` do pacote `time`para fazer a medição do tempo utilizado pelos dois métodos."
   ]
  },
  {
   "cell_type": "code",
   "execution_count": 27,
   "id": "83a8ff7c",
   "metadata": {},
   "outputs": [],
   "source": [
    "import time \n",
    "\n",
    "# arrays\n",
    "start_array = time.time()\n",
    "my_array2 = my_array * 2\n",
    "end_array   = time.time()\n",
    "\n",
    "\n",
    "# listas\n",
    "start_lista = time.time()\n",
    "my_list2 = [x * 2 for x in my_list] \n",
    "end_lista   = time.time()\n",
    "\n",
    "ratio = (end_lista - start_lista) / (end_array - start_array)"
   ]
  },
  {
   "cell_type": "markdown",
   "id": "cc0563c3",
   "metadata": {},
   "source": [
    "Qual abordagem será que levou menos tempo?"
   ]
  },
  {
   "cell_type": "code",
   "execution_count": 28,
   "id": "ff6fdf6a",
   "metadata": {},
   "outputs": [
    {
     "name": "stdout",
     "output_type": "stream",
     "text": [
      "Tempo necessário para a realização dos cálculos utilizando arrays: 0.0183 segundos\n",
      "Tempo necessário para a realização dos cálculos utilizando listas: 1.3088 segundos\n",
      "\n",
      "A abordagem de listas demorou 71x mais tempo! Esqueça listas e use arrays ;)\n"
     ]
    }
   ],
   "source": [
    "print('Tempo necessário para a realização dos cálculos utilizando arrays: {:.4f} segundos'.format(end_array - start_array))\n",
    "print('Tempo necessário para a realização dos cálculos utilizando listas: {:.4f} segundos'.format(end_lista - start_lista))\n",
    "print('\\nA abordagem de listas demorou {:.0f}x mais tempo! Esqueça listas e use arrays ;)'.format(ratio - 1))"
   ]
  },
  {
   "cell_type": "markdown",
   "id": "17a844e3",
   "metadata": {},
   "source": [
    "# Aplicação: solução de sistema de equações lineares\n",
    "\n",
    "Chega de exemplos vazios, vamos usar o NumPy para resolver um problema concreto e que nos é muito familiar: a solução de sistemas de equações lineares. Considere o sistema linear de equações dado por\n",
    "\n",
    "$$ A\\cdot \\vec{x} = \\vec{b} $$\n",
    "\n",
    "tal que $A$ é a matriz de coeficientes, $\\vec{x}$ é o vetor de incógnitas e $\\vec{b}$ o vetor de de constantes."
   ]
  },
  {
   "cell_type": "markdown",
   "id": "7809631a",
   "metadata": {},
   "source": [
    "## Algoritmo de eliminação de Gauss-Jordan"
   ]
  },
  {
   "cell_type": "markdown",
   "id": "136ca793",
   "metadata": {},
   "source": [
    "Segundo [Hubbard e Hubbard (2015)](https://matrixeditions.com/5thUnifiedApproach.html), uma matriz de coeficientes $A$ é representada em sua forma escalonada reduzida por linhas (_reduced row echelon form_, em inglês) se\n",
    "\n",
    "* Em toda e qualquer linha, a primeira entrada diferente de zero é igual a 1 (1 _pivotal_).\n",
    "* O 1 _pivotal_ de uma linha mais abaixo está sempre à direita de um outro 1 _pivotal_ de alguma linha acima.\n",
    "* Em toda e qualquer coluna que contém um 1 _pivotal_, todas as outras entradas são iguais a zero.\n",
    "* Toda linha contendo apenas zeros está no fim da matriz.\n",
    "\n",
    "À partir dessa definição, é possível mostrar que para qualquer matriz $A$, existe uma matriz $\\tilde{A}$ na forma escalonada reduzida por linhas que pode ser obtida à partir de operações elementares nas linhas de A. Além disso, é possível mostrar também que $\\tilde{A}$ é única. Ao algoritmo utilizado para encontrar $\\tilde{A}$ é dado o nome de **Algoritmo de Eliminação de Gauss-Jordan**.\n",
    "\n",
    "<br>\n",
    "\n",
    "<div class=\"warning\" style='background-color:#FFFFFF; color: #000000; border: solid #000000 4px; padding:0.7em;'>\n",
    "<b>ALGORITMO DE ELIMINAÇÃO DE GAUSS-JORDAN</b>\n",
    "\n",
    "Para levar uma matriz $A$ a sua forma escalonada reduzida por linhas $\\tilde{A}$ devemos seguir os seguintes passos:\n",
    "\n",
    "<br>\n",
    "\n",
    "1. Encontre a primeira coluna que não é composta apenas de zeros, chame isso de primeira coluna pivotal e chame sua primeira entrada diferente de zero de pivô. Se o pivô não for na primeira linha, mova a linha que a contém para o topo da matriz.\n",
    "\n",
    "<br>\n",
    "\n",
    "2. Divida a primeira linha inteira pelo pivô, de modo que a primeira entrada da primeira coluna pivotal seja igual a 1.\n",
    "\n",
    "<br>\n",
    "\n",
    "3. Adicione múltiplos apropriados da primeira linha às outras linhas para garantir que todas as outras entradas da primeira coluna pivotal sejam iguais a 0. O 1 na primeira coluna é agora um pivô 1.\n",
    "\n",
    "<br>\n",
    "\n",
    "4. Escolha a próxima coluna que contém pelo menos uma entrada diferente de zero abaixo da primeira linha e coloque a linha que contém o novo pivô na posição da segunda linha. Faça do pivô um pivô 1: divida a linha inteira pelo pivô e adicione múltiplos apropriados desta linha às outras linhas abaixo, para tornar todas as outras entradas desta coluna iguais a 0.\n",
    "\n",
    "<br>\n",
    "\n",
    "5. Repita o processo até que a matriz esteja em sua forma escalonada reduzida por linhas. \n",
    "\n",
    "</div>\n",
    "\n",
    "<br>\n",
    "\n",
    "Assuma o caso em que a matriz de coeficiente $A$ e o vetor de constantes $b$ são tais que a matriz ampliada é dada por:\n",
    "\n",
    "$$\\left[\\begin{array}{ccc|c} 2 & 2 & 1 & 1 \\\\ 1 & 3 & 1 & 2 \\\\ 1 & 2 & 2 & -1 \\end{array}\\right] $$\n",
    "\n",
    "* Passo 1: Defina a matriz M"
   ]
  },
  {
   "cell_type": "code",
   "execution_count": 29,
   "id": "8938d321",
   "metadata": {},
   "outputs": [
    {
     "name": "stdout",
     "output_type": "stream",
     "text": [
      "Matriz ampliada =\n",
      " [[ 2.  2.  1.  1.]\n",
      " [ 1.  3.  1.  2.]\n",
      " [ 1.  2.  2. -1.]]\n"
     ]
    }
   ],
   "source": [
    "M = np.array([(2, 2, 1, 1),\n",
    "              (1, 3, 1, 2),\n",
    "              (1, 2, 2, -1)],dtype=float)\n",
    "print('Matriz ampliada =\\n',M)"
   ]
  },
  {
   "cell_type": "markdown",
   "id": "e18659cb",
   "metadata": {},
   "source": [
    "* Passo 2: Divida a linha 1 pelo primeiro elemento da primeira linha"
   ]
  },
  {
   "cell_type": "code",
   "execution_count": 30,
   "id": "39175e90",
   "metadata": {},
   "outputs": [
    {
     "name": "stdout",
     "output_type": "stream",
     "text": [
      "[[ 1.   1.   0.5  0.5]\n",
      " [ 1.   3.   1.   2. ]\n",
      " [ 1.   2.   2.  -1. ]]\n"
     ]
    }
   ],
   "source": [
    "M[0,:] = M[0,:] / M[0,0]\n",
    "\n",
    "print(M)"
   ]
  },
  {
   "cell_type": "markdown",
   "id": "c463adb2",
   "metadata": {},
   "source": [
    "* Passo 3: Subtraia a linha 1 da linha 2 e da linha 3 "
   ]
  },
  {
   "cell_type": "code",
   "execution_count": 31,
   "id": "cd986642",
   "metadata": {},
   "outputs": [
    {
     "name": "stdout",
     "output_type": "stream",
     "text": [
      "[[ 1.   1.   0.5  0.5]\n",
      " [ 0.   2.   0.5  1.5]\n",
      " [ 0.   1.   1.5 -1.5]]\n"
     ]
    }
   ],
   "source": [
    "M[1,:] = M[1,:] - M[0,:]\n",
    "M[2,:] = M[2,:] - M[0,:]\n",
    "\n",
    "print(M)"
   ]
  },
  {
   "cell_type": "markdown",
   "id": "1f24c376",
   "metadata": {},
   "source": [
    "* Passo 4: Divida a linha 2 pelo segundo elemento da segunda linha"
   ]
  },
  {
   "cell_type": "code",
   "execution_count": 32,
   "id": "298ffa73",
   "metadata": {},
   "outputs": [
    {
     "name": "stdout",
     "output_type": "stream",
     "text": [
      "[[ 1.    1.    0.5   0.5 ]\n",
      " [ 0.    1.    0.25  0.75]\n",
      " [ 0.    1.    1.5  -1.5 ]]\n"
     ]
    }
   ],
   "source": [
    "M[1,:] = M[1,:] / M[1,1]\n",
    "\n",
    "print(M)"
   ]
  },
  {
   "cell_type": "markdown",
   "id": "893cad2a",
   "metadata": {},
   "source": [
    "* Passo 5: Subtraia a linha 2 da linha 3"
   ]
  },
  {
   "cell_type": "code",
   "execution_count": 33,
   "id": "ca73dd61",
   "metadata": {},
   "outputs": [
    {
     "name": "stdout",
     "output_type": "stream",
     "text": [
      "[[ 1.    1.    0.5   0.5 ]\n",
      " [ 0.    1.    0.25  0.75]\n",
      " [ 0.    0.    1.25 -2.25]]\n"
     ]
    }
   ],
   "source": [
    "M[2,:] = M[2,:] - M[1,:]\n",
    "\n",
    "print(M)"
   ]
  },
  {
   "cell_type": "markdown",
   "id": "c8185433",
   "metadata": {},
   "source": [
    "* Passo 6: Divida a linha 3 pelo terceiro elemento da terceira linha"
   ]
  },
  {
   "cell_type": "code",
   "execution_count": 34,
   "id": "84571ea7",
   "metadata": {},
   "outputs": [
    {
     "name": "stdout",
     "output_type": "stream",
     "text": [
      "[[ 1.    1.    0.5   0.5 ]\n",
      " [ 0.    1.    0.25  0.75]\n",
      " [ 0.    0.    1.   -1.8 ]]\n"
     ]
    }
   ],
   "source": [
    "M[2,:] = M[2,:] / M[2,2]\n",
    "\n",
    "print(M)"
   ]
  },
  {
   "cell_type": "markdown",
   "id": "b0cfa416",
   "metadata": {},
   "source": [
    "* Passo 7: Multiplique a linha 3 pelo terceiro elemento da segunda linha e subtraia da linha 2"
   ]
  },
  {
   "cell_type": "code",
   "execution_count": 35,
   "id": "b919132d",
   "metadata": {},
   "outputs": [
    {
     "name": "stdout",
     "output_type": "stream",
     "text": [
      "[[ 1.   1.   0.5  0.5]\n",
      " [ 0.   1.   0.   1.2]\n",
      " [ 0.   0.   1.  -1.8]]\n"
     ]
    }
   ],
   "source": [
    "M[1,:] = M[1,:] - M[1,2] * M[2,:]\n",
    "\n",
    "print(M)"
   ]
  },
  {
   "cell_type": "markdown",
   "id": "99898eff",
   "metadata": {},
   "source": [
    "* Passo 8: Multiplique a linha 3 pelo terceiro elemento da primeira linha e subtraia da linha 1"
   ]
  },
  {
   "cell_type": "code",
   "execution_count": 36,
   "id": "f901aa1d",
   "metadata": {},
   "outputs": [
    {
     "name": "stdout",
     "output_type": "stream",
     "text": [
      "[[ 1.   1.   0.   1.4]\n",
      " [ 0.   1.   0.   1.2]\n",
      " [ 0.   0.   1.  -1.8]]\n"
     ]
    }
   ],
   "source": [
    "M[0,:] = M[0,:] - M[0,2] * M[2,:]\n",
    "\n",
    "print(M)"
   ]
  },
  {
   "cell_type": "markdown",
   "id": "7b019c14",
   "metadata": {},
   "source": [
    "* Passo 9: Subtraia a linha 2 da linha 1"
   ]
  },
  {
   "cell_type": "code",
   "execution_count": 37,
   "id": "64d5483b",
   "metadata": {},
   "outputs": [
    {
     "name": "stdout",
     "output_type": "stream",
     "text": [
      "[[ 1.   0.   0.   0.2]\n",
      " [ 0.   1.   0.   1.2]\n",
      " [ 0.   0.   1.  -1.8]]\n"
     ]
    }
   ],
   "source": [
    "M[0,:] = M[0,:] - M[1,:]\n",
    "\n",
    "print(M)"
   ]
  },
  {
   "cell_type": "markdown",
   "id": "f9a3cdd5",
   "metadata": {},
   "source": [
    "Temos a nossa matriz em sua forma escalonada reduzida por linhas! A solução do sistema é tal que:"
   ]
  },
  {
   "cell_type": "code",
   "execution_count": 38,
   "id": "56fcef70",
   "metadata": {},
   "outputs": [
    {
     "name": "stdout",
     "output_type": "stream",
     "text": [
      "A solução de x1 é: 0.20\n",
      "A solução de x2 é: 1.20\n",
      "A solução de x3 é: -1.80\n"
     ]
    }
   ],
   "source": [
    "print('A solução de x1 é: {:.2f}'.format(M[0,3]))\n",
    "print('A solução de x2 é: {:.2f}'.format(M[1,3]))\n",
    "print('A solução de x3 é: {:.2f}'.format(M[2,3]))"
   ]
  },
  {
   "cell_type": "markdown",
   "id": "a248446a",
   "metadata": {},
   "source": [
    "Uma forma mais simples de chegar na forma escalonada reduzida por linhas é através do pacote `SymPy` e das funções `Matrix` e `rref`:"
   ]
  },
  {
   "cell_type": "code",
   "execution_count": 39,
   "id": "b3d6b86a",
   "metadata": {},
   "outputs": [
    {
     "data": {
      "text/latex": [
       "$\\displaystyle \\left[\\begin{matrix}1 & 0 & 0 & \\frac{1}{5}\\\\0 & 1 & 0 & \\frac{6}{5}\\\\0 & 0 & 1 & - \\frac{9}{5}\\end{matrix}\\right]$"
      ],
      "text/plain": [
       "Matrix([\n",
       "[1, 0, 0,  1/5],\n",
       "[0, 1, 0,  6/5],\n",
       "[0, 0, 1, -9/5]])"
      ]
     },
     "execution_count": 39,
     "metadata": {},
     "output_type": "execute_result"
    }
   ],
   "source": [
    "import sympy\n",
    "\n",
    "\n",
    "M_sympy = sympy.Matrix([(2, 2, 1, 1),\n",
    "                        (1, 3, 1, 2),\n",
    "                        (1, 2, 2, -1)])\n",
    "\n",
    "M_sympy.rref()[0]"
   ]
  },
  {
   "cell_type": "markdown",
   "id": "0537d47e",
   "metadata": {},
   "source": [
    "## Solução de sistemas exatamente identificados\n",
    "\n",
    "Uma outra forma de resolver sistemas de equações exatamente identificados, quando o número de incógnitas é igual ao número de equações (i.e., matriz $A$ é quadrada) é através da matriz inversa de $A$. Para o caso em que $A^{-1}$ existe, o sistema é tal que\n",
    "\n",
    "$$ \\vec{x} = A^{-1} \\cdot \\vec{b} $$\n",
    "\n",
    "Para que seja possível fazer dessa forma, $A$ deve ser uma matriz quadrada e seu determinante ser diferente de $0$. Mais uma vez assuma o caso em que $A$ e $\\vec{b}$ são dados por:\n",
    "\n",
    "$$A = \\begin{bmatrix} 2 & 2 & 1 \\\\ 1 & 3 & 1 \\\\ 1 & 2 & 2 \\end{bmatrix} \\quad \\quad \\vec{b} = \\begin{bmatrix} 1 \\\\ 2 \\\\ -1 \\end{bmatrix} $$\n",
    "\n",
    "O primeiro passo é conferir se a matrix $A$ é quadrada. Podemos fazer isso usando a função `numpy.shape()`"
   ]
  },
  {
   "cell_type": "code",
   "execution_count": 40,
   "id": "831062bb",
   "metadata": {},
   "outputs": [
    {
     "data": {
      "text/plain": [
       "True"
      ]
     },
     "execution_count": 40,
     "metadata": {},
     "output_type": "execute_result"
    }
   ],
   "source": [
    "b = np.array([1, 2, -1])\n",
    "A = np.array([(2, 2, 1), (1, 3, 1), (1, 2, 2)])\n",
    "\n",
    "np.shape(A)[0] == np.shape(A)[1]"
   ]
  },
  {
   "cell_type": "markdown",
   "id": "a559ede8",
   "metadata": {},
   "source": [
    "O próximo passo é ver se o determinante da matriz é igual a 0 e para isso usamos um função do subpacote de álgebra linera do numpy, `numpy.linalg.det()`:"
   ]
  },
  {
   "cell_type": "code",
   "execution_count": 41,
   "id": "3d6a1bfb",
   "metadata": {},
   "outputs": [
    {
     "name": "stdout",
     "output_type": "stream",
     "text": [
      "A =\n",
      "[[2 2 1]\n",
      " [1 3 1]\n",
      " [1 2 2]]\n",
      "\n",
      "Determinante =  5.0\n"
     ]
    }
   ],
   "source": [
    "print('A =')\n",
    "print(A)\n",
    "\n",
    "print('\\nDeterminante = ',np.round(np.linalg.det(A)))"
   ]
  },
  {
   "cell_type": "markdown",
   "id": "f2030606",
   "metadata": {},
   "source": [
    "Como ambas as condições são satisfeitas, por fim basta calcular a inversa da matriz $A$ com `numpy.linalg.inv()` e multiplicar por $\\vec{b}$ para chegar nos valores de `x`, `y` e `z` que solucionam o sistema de equações."
   ]
  },
  {
   "cell_type": "code",
   "execution_count": 42,
   "id": "3790cef4",
   "metadata": {},
   "outputs": [
    {
     "name": "stdout",
     "output_type": "stream",
     "text": [
      "A =\n",
      "[[2 2 1]\n",
      " [1 3 1]\n",
      " [1 2 2]]\n",
      "\n",
      "Inversa de A = \n",
      "[[ 0.8 -0.4 -0.2]\n",
      " [-0.2  0.6 -0.2]\n",
      " [-0.2 -0.4  0.8]]\n"
     ]
    }
   ],
   "source": [
    "print('A =')\n",
    "print(A)\n",
    "\n",
    "print(\"\\nInversa de A = \")\n",
    "print(np.linalg.inv(A))"
   ]
  },
  {
   "cell_type": "code",
   "execution_count": 43,
   "id": "522ca7cd",
   "metadata": {},
   "outputs": [
    {
     "data": {
      "text/plain": [
       "array([ 0.2,  1.2, -1.8])"
      ]
     },
     "execution_count": 43,
     "metadata": {},
     "output_type": "execute_result"
    }
   ],
   "source": [
    "solution = np.linalg.inv(A) @ b\n",
    "solution"
   ]
  },
  {
   "cell_type": "code",
   "execution_count": 44,
   "id": "dddac35f",
   "metadata": {},
   "outputs": [
    {
     "name": "stdout",
     "output_type": "stream",
     "text": [
      "A solução de x1 é: 0.20\n",
      "A solução de x2 é: 1.20\n",
      "A solução de x3 é: -1.80\n"
     ]
    }
   ],
   "source": [
    "print('A solução de x1 é: {:.2f}'.format(solution[0]))\n",
    "print('A solução de x2 é: {:.2f}'.format(solution[1]))\n",
    "print('A solução de x3 é: {:.2f}'.format(solution[2]))"
   ]
  },
  {
   "cell_type": "markdown",
   "id": "29214c0e",
   "metadata": {},
   "source": [
    "Para conferir se tudo está do jeito como deveria estar, basta utilizar a função `numpy.linalg.solve()`"
   ]
  },
  {
   "cell_type": "code",
   "execution_count": 45,
   "id": "0369b5bd",
   "metadata": {},
   "outputs": [
    {
     "data": {
      "text/plain": [
       "array([ 0.2,  1.2, -1.8])"
      ]
     },
     "execution_count": 45,
     "metadata": {},
     "output_type": "execute_result"
    }
   ],
   "source": [
    "np.linalg.solve(A,b)"
   ]
  },
  {
   "cell_type": "markdown",
   "id": "f42a6ff1-7b7a-45e8-9094-b35c1a6ad97b",
   "metadata": {},
   "source": [
    "## Solução de Sistemas Sobre-Identificados\n",
    "\n",
    "Agora vou contar algo diferente para vocês. Provavelmente se vocês lembram do Ensino Médio ou do Ensino Fundamental, vocês vão lembrar que existem sistemas (i) sub-identificados, (ii) exatamente identificados e (iii) sobre-identificados, e boa parte da atenção é dedicada ao item (ii). Ou seja, se o sistema é sobre-identificado (mais equações que incógnitas), o máximo que daria pra fazer é ou achar alguma equação redundante - e aí tornar o sistema exatamente identificado - ou levantar as mãos pro céu em frustração.\n",
    "\n",
    "Hoje, vamos falar de como lidar com sistemas sobre-identificados e apresentar algo que, ainda que não seja uma solução exata, é uma aproximação  interessante. Além disso, é um jeito de apresentar algo que vai ser super útil ao longo da sua vida como economista -- o **Método dos Mínimos Quadrados**.\n",
    "\n",
    "Vamos começar com a definição que vimos de um sistema de equações:\n",
    "\n",
    "\n",
    "$$ A\\cdot \\vec{x} = \\vec{b} $$\n",
    "\n",
    "Ou, alternativamente:\n",
    "\n",
    "$$ A \\cdot \\vec{x} - \\vec{b} = \\vec{0} $$\n",
    "\n",
    "O que acontece quando a dimensão linha de $A$ é **maior** que a dimensão coluna de $A$? Nós não temos um vetor $\\vec{x}$ que gere do lado direito da igualdade um vetor de zeros. E essa é uma versão formal do argumento que vocês viram anteriormente sobre um sistema sobreidentificado não ter solução. \n",
    "\n",
    "Contudo, ainda que a gente não tenha como encontrar um vetor $\\vec{x}$ que faça com que surja um vetor de zeros do lado direito da igualdade, podemos encontrar um vetor $\\vec{x}$ que torne o lado esquerdo da igualdade **o menor possível**, no sentido de minimizar a diferença entre o lado esquerdo e o lado direito (que é zero), elevada ao  quadrado (pois você quer que erros negativos e positivos tenham importância igual. \n",
    "\n",
    "A versão chique do que estou dizendo no parágrafo anterior é que podemos encontrar um vetor $\\vec{x}$ que minimiza a norma euclidiana das diferenças (ou resíduos). Outra versão chique é que o vetor $\\vec{x}$ **minimiza a soma dos quadrados dos resíduos**, ou seja, vamos minimizar a seguinte função:\n",
    "\n",
    "$$|| A\\cdot \\vec{x} - \\vec{b} ||_{2} $$\n",
    "\n",
    "Vamos ver isso em um sistema sobreidentificado, que vou gerar de forma aleatória. A função que será utilizada é a `linalg.lstsq`"
   ]
  },
  {
   "cell_type": "code",
   "execution_count": 5,
   "id": "665f2c22-1d04-45cf-a0c7-52c572a0635f",
   "metadata": {},
   "outputs": [
    {
     "name": "stdout",
     "output_type": "stream",
     "text": [
      "[[0.83137848 0.42782815 0.77662423]\n",
      " [0.33143464 0.3582977  0.0620609 ]\n",
      " [0.12869431 0.79545182 0.23614031]\n",
      " [0.53717792 0.18587085 0.95219026]\n",
      " [0.35837596 0.19455789 0.10343805]]\n",
      "[[0.33203092]\n",
      " [0.9901796 ]\n",
      " [0.59786029]\n",
      " [0.85690295]\n",
      " [0.83309295]]\n",
      "[[ 0.96586589]\n",
      " [ 0.7427363 ]\n",
      " [-0.24637333]]\n"
     ]
    }
   ],
   "source": [
    "import numpy as np\n",
    "\n",
    "np.random.seed(20011975)\n",
    "\n",
    "# gerando um sistema sobre identificado, com 5 equações e 3 incógnitas\n",
    "A = np.random.rand(5,3)\n",
    "b = np.random.rand(5,1) \n",
    "\n",
    "print(A)\n",
    "print(b)\n",
    "\n",
    "# Olha aí a solução\n",
    "x_lstsq = np.linalg.lstsq(A,b, rcond=-1)[0] \n",
    "print(x_lstsq)"
   ]
  },
  {
   "cell_type": "markdown",
   "id": "a489f16a-a5d9-4197-be56-dc5e0f838cdd",
   "metadata": {},
   "source": [
    "Uma das coisas mais interessantes, na minha opinião, deste caminho é que a gente vai utilizar esse método em vários contextos em Econometria e nem sempre presta atenção na similaridade com solução de sistemas de equações."
   ]
  }
 ],
 "metadata": {
  "kernelspec": {
   "display_name": "Python 3 (ipykernel)",
   "language": "python",
   "name": "python3"
  },
  "language_info": {
   "codemirror_mode": {
    "name": "ipython",
    "version": 3
   },
   "file_extension": ".py",
   "mimetype": "text/x-python",
   "name": "python",
   "nbconvert_exporter": "python",
   "pygments_lexer": "ipython3",
   "version": "3.9.12"
  },
  "toc": {
   "base_numbering": 1,
   "nav_menu": {},
   "number_sections": true,
   "sideBar": true,
   "skip_h1_title": false,
   "title_cell": "Plano de aula",
   "title_sidebar": "Contents",
   "toc_cell": true,
   "toc_position": {
    "height": "calc(100% - 180px)",
    "left": "10px",
    "top": "150px",
    "width": "333.6px"
   },
   "toc_section_display": true,
   "toc_window_display": true
  },
  "varInspector": {
   "cols": {
    "lenName": 16,
    "lenType": 16,
    "lenVar": 40
   },
   "kernels_config": {
    "python": {
     "delete_cmd_postfix": "",
     "delete_cmd_prefix": "del ",
     "library": "var_list.py",
     "varRefreshCmd": "print(var_dic_list())"
    },
    "r": {
     "delete_cmd_postfix": ") ",
     "delete_cmd_prefix": "rm(",
     "library": "var_list.r",
     "varRefreshCmd": "cat(var_dic_list()) "
    }
   },
   "oldHeight": 122.85,
   "position": {
    "height": "40px",
    "left": "1266px",
    "right": "20px",
    "top": "120px",
    "width": "250px"
   },
   "types_to_exclude": [
    "module",
    "function",
    "builtin_function_or_method",
    "instance",
    "_Feature"
   ],
   "varInspector_section_display": "none",
   "window_display": true
  }
 },
 "nbformat": 4,
 "nbformat_minor": 5
}
