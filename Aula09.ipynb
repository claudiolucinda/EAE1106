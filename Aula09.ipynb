{
 "cells": [
  {
   "cell_type": "markdown",
   "id": "eac49fd1",
   "metadata": {},
   "source": [
    "<br>\n",
    "<p style=\"text-align: center;\"><font size=6><b>EAE1106 - Métodos Computacionais para Economistas</b></font></p>\n",
    "\n",
    "<p style=\"text-align: center;\"> Departamento de Economia | Faculdade de Economia, Administração, Contabilidade e Atuaria <br> Universidade de São Paulo <br><br></p>\n",
    "    \n",
    "<p style=\"text-align: center;\"><font size=4>Prof. Danilo Souza e Prof. Claudio Lucinda</font> <br>\n",
    "    <a href=\"https://www.danilosouza.com/teaching/eae1106\">danilosouza.com/teaching/eae1106</a> | <a href=\"https://github.com/claudiolucinda/EAE1106\">github.com/claudiolucinda/EAE1106</a>\n",
    "    <br><br>\n",
    "</p>\n",
    "\n",
    "\n",
    "<p style=\"text-align: center;\">2º semestre de 2022</p>\n",
    "<hr>"
   ]
  },
  {
   "cell_type": "markdown",
   "id": "140b5f62",
   "metadata": {},
   "source": [
    "<font size=6><b>Aula 09</b></font>\n",
    "<br><br>\n",
    "\n",
    "Agora que já falamos de arrays e toda a ideia de vetores e matrizes com o NumPy, podemos avançar para uma outra biblioteca bastante importante e que nos ajuda em muitas das nossas aplicações numéricas, que é o **_SciPy_**! Na aula de hoje, trabalharemos os comandos e funções desse pacote através de 2 aplicações bastante relevantes na teoria econômica: o **Modelo de Crescimento Econômico de Solow** e o **Modelo de Oferta e Demanda em Mercados Perfeitamente Competitivos**."
   ]
  },
  {
   "cell_type": "markdown",
   "id": "e213193d",
   "metadata": {
    "toc": true
   },
   "source": [
    "<h1>Plano de aula<span class=\"tocSkip\"></span></h1>\n",
    "<div class=\"toc\"><ul class=\"toc-item\"><li><span><a href=\"#O-que-é-o-SciPy?\" data-toc-modified-id=\"O-que-é-o-SciPy?-1\"><span class=\"toc-item-num\">1&nbsp;&nbsp;</span>O que é o SciPy?</a></span></li><li><span><a href=\"#Otimização:-scipy.optimize\" data-toc-modified-id=\"Otimização:-scipy.optimize-2\"><span class=\"toc-item-num\">2&nbsp;&nbsp;</span>Otimização: <em>scipy.optimize</em></a></span><ul class=\"toc-item\"><li><span><a href=\"#Ponto-fixo\" data-toc-modified-id=\"Ponto-fixo-2.1\"><span class=\"toc-item-num\">2.1&nbsp;&nbsp;</span>Ponto fixo</a></span></li><li><span><a href=\"#ADENDO:-mais-velocidade-com-Numba\" data-toc-modified-id=\"ADENDO:-mais-velocidade-com-Numba-2.2\"><span class=\"toc-item-num\">2.2&nbsp;&nbsp;</span>ADENDO: mais velocidade com <em>Numba</em></a></span></li><li><span><a href=\"#Raízes-de-uma-função\" data-toc-modified-id=\"Raízes-de-uma-função-2.3\"><span class=\"toc-item-num\">2.3&nbsp;&nbsp;</span>Raízes de uma função</a></span></li><li><span><a href=\"#Pontos-de-máximo-e-de-mínimo\" data-toc-modified-id=\"Pontos-de-máximo-e-de-mínimo-2.4\"><span class=\"toc-item-num\">2.4&nbsp;&nbsp;</span>Pontos de máximo e de mínimo</a></span></li></ul></li><li><span><a href=\"#Integração-numérica:-scipy.integrate\" data-toc-modified-id=\"Integração-numérica:-scipy.integrate-3\"><span class=\"toc-item-num\">3&nbsp;&nbsp;</span>Integração numérica: <em>scipy.integrate</em></a></span></li></ul></div>"
   ]
  },
  {
   "cell_type": "markdown",
   "id": "bf554e99",
   "metadata": {},
   "source": [
    "***"
   ]
  },
  {
   "cell_type": "markdown",
   "id": "fb79dea9",
   "metadata": {},
   "source": [
    "# O que é o SciPy?\n",
    "\n",
    "SciPy (**Sci**entific **Py**thon) é uma biblioteca que se baseia no NumPy para fornecer ferramentas comuns para programação científica como otimização, integração, álgebra linear, ferramentas estatísticas, etc. Ao adicionar o SciPy ao nosso amplo conjunto de ferramentas, o Python se torna um ambiente de processamento de dados que rivaliza com sistemas como MATLAB, Octave, etc. \n",
    "\n",
    "Assim como vimos no NumPy, o SciPy é composto por vários módulos que nos permitem trabalhar com todas as suas funcionalidades. Nessa aula, no entanto, iremos trabalhar com apenas dois deles: `scipy.optimize` e `scipy.integrate`. Esses módulos nos trazem ferramentas bastante úteis e eficientes de otimização e integração numérica, respectivamente. Para aqueles que estiverem interessados em conhecer mais das funcionalidades do SciPy, a [documentação oficial](https://docs.scipy.org/doc/scipy/tutorial/index.html#user-guide) é um ótimo primeiro passo.\n",
    "\n",
    "Mas vamos direito ao que interessa. _Let's code_!"
   ]
  },
  {
   "cell_type": "markdown",
   "id": "34000c0f",
   "metadata": {},
   "source": [
    "# Otimização: _scipy.optimize_"
   ]
  },
  {
   "cell_type": "markdown",
   "id": "71ceb544",
   "metadata": {},
   "source": [
    "## Ponto fixo"
   ]
  },
  {
   "cell_type": "markdown",
   "id": "736403ce",
   "metadata": {},
   "source": [
    "**Por que alguns países são tão pobres e outros tão ricos?**\n",
    "\n",
    "É difícil imaginar uma pergunta que tenha gerado mais debate e controvérsia entre economistas ao longo do tempo. Foi apenas com as contribuições de Robert Solow no começo dos anos 1950, no entanto, que a literatura de crescimento econômico floreceu como a conhecemos hoje. As teorias de Solow ajudaram a elucidar o papel da acumulação de capital físico e destacaram a importância do progresso tecnológico como força motriz fundamental do crescimento econômico sustentado.\n",
    "\n",
    "Não vamos resolver o modelo de Solow completo aqui (vocês farão isso com calma no 5º semestre do curso), mas vamos utilizar a equação que descreve a evolução do estoque de capital na economia ao longo do tempo. Defina $K_t$ como sendo o estoque de capital da economia no instante $t$, $I_t$ o investimento e $\\delta$ a taxa de depreciação do capital. Assim, o estoque de capital no instante $t+1$ é dado por:\n",
    "\n",
    "$$ K_{t+1} = I_t + (1-\\delta) K_t $$\n",
    "\n",
    "Assuma agora que o investimento é uma parcela fixa $s$ do produto da economia $Y_t$ e que o produto seja descrito por uma função Cobb-Douglas do tipo $Y_t = K_t^\\alpha L_t^{1-\\alpha}$. Assuma também que não há crescimento populacional ($L_t = L$) e reescreva a equação acima em sua forma por trabalhador (tente em casa!):\n",
    "\n",
    "$$ k_{t+1} = s k_t^\\alpha + (1-\\delta)k_t $$\n",
    "\n",
    "em que $k_t = K_t / L$.\n",
    "\n",
    "Definimos o equilíbrio de estado estacionário desse modelo como sendo o ponto em que o capital por trabalhador $k_t$ é constante, tal que $k_{t+1}=k_t=k^\\star$. Para encontrarmos esse $k^\\star$ podemos usar a ideia de **ponto fixo**. \n",
    "\n",
    "O **ponto fixo** de uma função $f(x)$ no intervalo $[a,b]$ é um $x^\\star \\in [a,b]$ tal que $f(x^\\star)=x^\\star$. Note que, no caso do modelo de Solow, $k_{t+1}$ é uma função apenas de parâmetros fixos e de $k_t$, tal que $k_{t+1}=f(k_t)$. Dessa forma, em equilíbrio de estado-estacionário, $f(k_t)=k_{t+1}=k_t=k^\\star$ e $k^\\star$ é um ponto fixo!\n",
    "\n",
    "<br>\n",
    "\n",
    "Vamos utilizar o **SciPy** para resolver esse problema. Comecemos importando a parte do pacote SciPy que nos interessa, definindo o valor dos parâmetros e a função que representa $k_{t+1}$:"
   ]
  },
  {
   "cell_type": "code",
   "execution_count": 1,
   "id": "0ba5134c",
   "metadata": {},
   "outputs": [],
   "source": [
    "from scipy.optimize import fixed_point\n",
    "\n",
    "s = 0.2\n",
    "alpha = 1/3\n",
    "delta = 0.05\n",
    "\n",
    "def k_tp1(k_t,s,alpha,delta):\n",
    "    return s*(k_t**alpha) + (1-delta)*k_t"
   ]
  },
  {
   "cell_type": "markdown",
   "id": "83b0ef04",
   "metadata": {},
   "source": [
    "Agora basta utilizarmos a função `fixed_point`, passar `k_tp1` como argumento juntamente com um chute inicial para o que seria $k^\\star$ e os valores dos parâmetros exógenos da função `k_tp1`:"
   ]
  },
  {
   "cell_type": "code",
   "execution_count": 2,
   "id": "b900504b",
   "metadata": {},
   "outputs": [
    {
     "data": {
      "text/plain": [
       "array(8.)"
      ]
     },
     "execution_count": 2,
     "metadata": {},
     "output_type": "execute_result"
    }
   ],
   "source": [
    "fixed_point(k_tp1, x0=2, args=(s,alpha,delta))"
   ]
  },
  {
   "cell_type": "markdown",
   "id": "c764d806",
   "metadata": {},
   "source": [
    "Que fácil, não é mesmo? \n",
    "\n",
    "Note, porém, que para essa função que encontra o ponto fixo, chutar um valor razoável para o que você acha que pode ser $k^\\star$ é essencial. E se tentássemos $k^\\star=1$?"
   ]
  },
  {
   "cell_type": "code",
   "execution_count": 3,
   "id": "84c916bc",
   "metadata": {},
   "outputs": [
    {
     "name": "stderr",
     "output_type": "stream",
     "text": [
      "<ipython-input-1-fe56cabc0b27>:8: RuntimeWarning: invalid value encountered in power\n",
      "  return s*(k_t**alpha) + (1-delta)*k_t\n"
     ]
    },
    {
     "ename": "RuntimeError",
     "evalue": "Failed to converge after 500 iterations, value is nan",
     "output_type": "error",
     "traceback": [
      "\u001b[1;31m---------------------------------------------------------------------------\u001b[0m",
      "\u001b[1;31mRuntimeError\u001b[0m                              Traceback (most recent call last)",
      "Input \u001b[1;32mIn [3]\u001b[0m, in \u001b[0;36m<cell line: 1>\u001b[1;34m()\u001b[0m\n\u001b[1;32m----> 1\u001b[0m \u001b[43mfixed_point\u001b[49m\u001b[43m(\u001b[49m\u001b[43mk_tp1\u001b[49m\u001b[43m,\u001b[49m\u001b[43m \u001b[49m\u001b[43mx0\u001b[49m\u001b[38;5;241;43m=\u001b[39;49m\u001b[38;5;241;43m1\u001b[39;49m\u001b[43m,\u001b[49m\u001b[43m \u001b[49m\u001b[43margs\u001b[49m\u001b[38;5;241;43m=\u001b[39;49m\u001b[43m(\u001b[49m\u001b[43ms\u001b[49m\u001b[43m,\u001b[49m\u001b[43malpha\u001b[49m\u001b[43m,\u001b[49m\u001b[43mdelta\u001b[49m\u001b[43m)\u001b[49m\u001b[43m)\u001b[49m\n",
      "File \u001b[1;32mC:\\ProgramData\\Anaconda3\\lib\\site-packages\\scipy\\optimize\\minpack.py:942\u001b[0m, in \u001b[0;36mfixed_point\u001b[1;34m(func, x0, args, xtol, maxiter, method)\u001b[0m\n\u001b[0;32m    940\u001b[0m use_accel \u001b[38;5;241m=\u001b[39m {\u001b[38;5;124m'\u001b[39m\u001b[38;5;124mdel2\u001b[39m\u001b[38;5;124m'\u001b[39m: \u001b[38;5;28;01mTrue\u001b[39;00m, \u001b[38;5;124m'\u001b[39m\u001b[38;5;124miteration\u001b[39m\u001b[38;5;124m'\u001b[39m: \u001b[38;5;28;01mFalse\u001b[39;00m}[method]\n\u001b[0;32m    941\u001b[0m x0 \u001b[38;5;241m=\u001b[39m _asarray_validated(x0, as_inexact\u001b[38;5;241m=\u001b[39m\u001b[38;5;28;01mTrue\u001b[39;00m)\n\u001b[1;32m--> 942\u001b[0m \u001b[38;5;28;01mreturn\u001b[39;00m \u001b[43m_fixed_point_helper\u001b[49m\u001b[43m(\u001b[49m\u001b[43mfunc\u001b[49m\u001b[43m,\u001b[49m\u001b[43m \u001b[49m\u001b[43mx0\u001b[49m\u001b[43m,\u001b[49m\u001b[43m \u001b[49m\u001b[43margs\u001b[49m\u001b[43m,\u001b[49m\u001b[43m \u001b[49m\u001b[43mxtol\u001b[49m\u001b[43m,\u001b[49m\u001b[43m \u001b[49m\u001b[43mmaxiter\u001b[49m\u001b[43m,\u001b[49m\u001b[43m \u001b[49m\u001b[43muse_accel\u001b[49m\u001b[43m)\u001b[49m\n",
      "File \u001b[1;32mC:\\ProgramData\\Anaconda3\\lib\\site-packages\\scipy\\optimize\\minpack.py:896\u001b[0m, in \u001b[0;36m_fixed_point_helper\u001b[1;34m(func, x0, args, xtol, maxiter, use_accel)\u001b[0m\n\u001b[0;32m    894\u001b[0m     p0 \u001b[38;5;241m=\u001b[39m p\n\u001b[0;32m    895\u001b[0m msg \u001b[38;5;241m=\u001b[39m \u001b[38;5;124m\"\u001b[39m\u001b[38;5;124mFailed to converge after \u001b[39m\u001b[38;5;132;01m%d\u001b[39;00m\u001b[38;5;124m iterations, value is \u001b[39m\u001b[38;5;132;01m%s\u001b[39;00m\u001b[38;5;124m\"\u001b[39m \u001b[38;5;241m%\u001b[39m (maxiter, p)\n\u001b[1;32m--> 896\u001b[0m \u001b[38;5;28;01mraise\u001b[39;00m \u001b[38;5;167;01mRuntimeError\u001b[39;00m(msg)\n",
      "\u001b[1;31mRuntimeError\u001b[0m: Failed to converge after 500 iterations, value is nan"
     ]
    }
   ],
   "source": [
    "fixed_point(k_tp1, x0=1, args=(s,alpha,delta))"
   ]
  },
  {
   "cell_type": "markdown",
   "id": "92b36c68",
   "metadata": {},
   "source": [
    "Nesse caso o algoritmo interno da função `fixed_point` não é capaz de encontrar um ponto fixo mesmo após 500 tentativas. O problema nesse caso não **converge** para uma solução estável. Esse problema de encontrar o estado estacionário em Solow é apenas um dos vários problemas de convergência com os quais você irá de deparar no seu curso de economia. Tenha o SciPy do seu lado!"
   ]
  },
  {
   "cell_type": "markdown",
   "id": "59a5c499",
   "metadata": {},
   "source": [
    "## ADENDO: mais velocidade com _Numba_"
   ]
  },
  {
   "cell_type": "markdown",
   "id": "3bc302f1",
   "metadata": {},
   "source": [
    "Problemas de convergência como o problema acima são também conhecidos como problemas de valor inicial. Uma forma de ver a convergência ao longo do tempo, à medida que $t\\rightarrow \\infty$, é através da simulação dessa **equação à diferenças** para um grande número de períodos. Retome a equação de movimento do capital por trabalhador,\n",
    "\n",
    "$$ k_{t+1} = s k_t^\\alpha + (1-\\delta)k_t $$\n",
    "\n",
    "Para calcular a série de $k_t$ partindo de um dado valor inicial, basta encapsular a função que define a equação acima dentro de um loop `for`. Para tornar o código mais direto, faremos isso dentro de uma nova função:"
   ]
  },
  {
   "cell_type": "code",
   "execution_count": 4,
   "id": "69a6c247",
   "metadata": {},
   "outputs": [],
   "source": [
    "import numpy as np\n",
    "\n",
    "def serie_kt(k_0,s,alpha,delta,n):\n",
    "    kt = np.empty(n+1) # array do numpy com elementos vazios e de tamanho n+1\n",
    "    \n",
    "    kt[0] = k_0\n",
    "    \n",
    "    for t in range(0,n):\n",
    "        kt[t+1] = s*(kt[t]**alpha) + (1-delta)*kt[t]\n",
    "    \n",
    "    return kt        "
   ]
  },
  {
   "cell_type": "markdown",
   "id": "c6e2fc19",
   "metadata": {},
   "source": [
    "Vamos aplicar essa função para um número suficientemente grande de períodos e calcular o tempo que o Python demora para realizar essa operação."
   ]
  },
  {
   "cell_type": "code",
   "execution_count": 5,
   "id": "51c9083f",
   "metadata": {},
   "outputs": [
    {
     "name": "stdout",
     "output_type": "stream",
     "text": [
      "Tempo necessário para a criação da série com 10,000,000 elementos: 15.0558 segundos\n"
     ]
    }
   ],
   "source": [
    "import time\n",
    "\n",
    "T = 10000000 \n",
    "k_0 = 0.1\n",
    "s = 0.2\n",
    "alpha = 1/3\n",
    "delta = 0.05\n",
    "\n",
    "\n",
    "start_func = time.time()\n",
    "kt_func = serie_kt(k_0,s,alpha,delta,T)\n",
    "end_func   = time.time()\n",
    "\n",
    "print('Tempo necessário para a criação da série com {:,.0f} elementos: {:.4f} segundos'.format(T,end_func - start_func))"
   ]
  },
  {
   "cell_type": "markdown",
   "id": "478699ec",
   "metadata": {},
   "source": [
    "Pareceu um pouco lento para um processo simples, não? \n",
    "\n",
    "Lembre que uma das principais qualidades do Python, em sendo uma linguagem interpretada e de alto-nível, é a facilidade de escrever e interpretar o código, sem precisar, por exemplo, dizer quanto alocar de memória para cada processo e variável criada.  Além disso, no Python não é preciso dizer qual o tipo de dado de cada nova variável, a linguagem deixa isso para o intérprete do código.\n",
    "\n",
    "Essas qualidades, no entanto, implicam em uma das principais fraquezas da linguagem: atividades intensivas em tempo de máquina, como problemas de valor inicial, são realizadas de forma muito ineficiente no Python. Linguagens mais de baixo nível como o C++ seriam mais indicadas nesse caso. \n",
    "\n",
    "Felizmente, o Python fornece alguns pacotes bastante interessantes que nos permitem compilar parte do nosso código em linguagens mais eficientes. O pacote **Numba** é um deles! São necessárias poucas linhas de código para atingir tempo de execução similar ao obtido em linguagens como o C++ e Fortran. Esse [artigo](https://www.sas.upenn.edu/~jesusfv/Update_March_23_2018.pdf) resume, para alguma aplicações econômicas, como o nosso código em Python pode ser otimizado com a utilização do Numba.\n",
    "\n",
    "Mas como aplicar o Numba? Aqui que está a beleza, basta importar a função `jit` e encapsular a nossa função `series_kt`!"
   ]
  },
  {
   "cell_type": "code",
   "execution_count": 6,
   "id": "ad246805",
   "metadata": {},
   "outputs": [
    {
     "name": "stdout",
     "output_type": "stream",
     "text": [
      "Tempo necessário para a criação da série com 10,000,000 elementos usando o Numba: 1.5538 segundos\n"
     ]
    }
   ],
   "source": [
    "from numba import jit\n",
    "\n",
    "serie_kt_numba = jit(serie_kt)\n",
    "\n",
    "start_numba = time.time()\n",
    "kt_func = serie_kt_numba(k_0,s,alpha,delta,T)\n",
    "end_numba   = time.time()\n",
    "\n",
    "print('Tempo necessário para a criação da série com {:,.0f} elementos usando o Numba: {:.4f} segundos'.format(T,end_numba - start_numba))"
   ]
  },
  {
   "cell_type": "markdown",
   "id": "3c2f154e",
   "metadata": {},
   "source": [
    "Uau! Esse é um ganho bastante significativo em cima de arrays do NumPy, que já são ordens de magnitude mais rápidos do que listas.\n",
    "\n",
    "E se rodarmos a função de novo teremos um ganho ainda maior de velocidade, já que essa função já foi compilada e armazenada na memória."
   ]
  },
  {
   "cell_type": "code",
   "execution_count": 7,
   "id": "f5099bc6",
   "metadata": {},
   "outputs": [
    {
     "name": "stdout",
     "output_type": "stream",
     "text": [
      "Tempo necessário para a criação da série com 10,000,000 elementos usando o Numba: 0.6772 segundos\n"
     ]
    }
   ],
   "source": [
    "start_numba = time.time()\n",
    "kt_func = serie_kt_numba(k_0,s,alpha,delta,T)\n",
    "end_numba   = time.time()\n",
    "\n",
    "print('Tempo necessário para a criação da série com {:,.0f} elementos usando o Numba: {:.4f} segundos'.format(T,end_numba - start_numba))"
   ]
  },
  {
   "cell_type": "markdown",
   "id": "69fcc0a3",
   "metadata": {},
   "source": [
    "No fim, qual foi o ganho de tempo que tivemos nesse exercício com a utilização do Numba?"
   ]
  },
  {
   "cell_type": "code",
   "execution_count": 8,
   "id": "b25e004a",
   "metadata": {},
   "outputs": [
    {
     "name": "stdout",
     "output_type": "stream",
     "text": [
      "A abordagem de arrays puros demorou 21x mais tempo do que a abordagem que utiliza o Numba!\n"
     ]
    }
   ],
   "source": [
    "ratio = (end_func - start_func) / (end_numba - start_numba)\n",
    "print('A abordagem de arrays puros demorou {:.0f}x mais tempo do que a abordagem que utiliza o Numba!'.format(ratio - 1))"
   ]
  },
  {
   "cell_type": "markdown",
   "id": "50c0d22a",
   "metadata": {},
   "source": [
    "Note por fim que, por se tratar de um problema de convergência em essência, o último elemento dessa série de $k_t$ deve ser igual ao ponto fixo $k^\\star$ que encontramos anteriormente. Será que esse é de fato o caso?"
   ]
  },
  {
   "cell_type": "code",
   "execution_count": 9,
   "id": "b562a5be",
   "metadata": {},
   "outputs": [
    {
     "data": {
      "text/plain": [
       "7.999999999999974"
      ]
     },
     "execution_count": 9,
     "metadata": {},
     "output_type": "execute_result"
    }
   ],
   "source": [
    "kt_func[-1]"
   ]
  },
  {
   "cell_type": "markdown",
   "id": "486c85f5",
   "metadata": {},
   "source": [
    "## Raízes de uma função\n",
    "\n",
    "O problema de ponto fixo (ou convergência) acima, de encontrar um $k^\\star$ tal que $k_{t+1}=k_t=k^\\star$ pode ser reescrito como um problema para encontrar raízes de um função. Defina nesse caso uma função $G()$ tal que $G(k^\\star)=f(k^\\star) - k^\\star=0$. Escrito dessa forma, encontrar $k^\\star$ é equivalente a encontrar as raízes da função $G()$.\n",
    "\n",
    "Vamos começar definindo a função $G$:"
   ]
  },
  {
   "cell_type": "code",
   "execution_count": 10,
   "id": "659d19e8",
   "metadata": {},
   "outputs": [],
   "source": [
    "def G(kstar,s,alpha,delta):\n",
    "    return s*(kstar**alpha) + (1-delta)*kstar - kstar"
   ]
  },
  {
   "cell_type": "markdown",
   "id": "577d0492",
   "metadata": {},
   "source": [
    "O SciPy possui alguns algoritmos para encontrar raízes de uma função. Uma das primeiras abordagens possíveis seria utilizar um algoritmo como descrito abaixo:\n",
    "\n",
    "1. Jogador A pensa em um número de 1 a 100\n",
    "2. Jogador B pergunta se esse número está acima ou abaixo de 50.\n",
    "3. Caso esteja abaixo de 50, jogador B pergunta se está acima ou abaixo de 25. Caso esteja acima de 50, jogador B pergunta se está acima ou abaixo de 75.\n",
    "\n",
    "E assim por diante, até atingir o número escolhido pelo jogador A. A esse algoritmo dá-se o nome **método de bissecção**. Esse algoritmo explora o fato de que uma função contínua $f: [a,b] \\rightarrow \\mathbb{R}$ com $f(a) \\cdot f(b) < 0$ tem um zero no intervalo $[a,b]$. Para aplicá-lo à nossa função $G$ basta utilizar a função `bisect` do `scipy.optimize` e passar como argumentos a função $G$, seus parâmetros e o intervalo no qual se deseja buscar uma raiz:"
   ]
  },
  {
   "cell_type": "code",
   "execution_count": 11,
   "id": "98610335",
   "metadata": {},
   "outputs": [
    {
     "data": {
      "text/plain": [
       "8.0"
      ]
     },
     "execution_count": 11,
     "metadata": {},
     "output_type": "execute_result"
    }
   ],
   "source": [
    "from scipy.optimize import bisect\n",
    "\n",
    "bisect(G,a=7,b=15, args=(s,alpha,delta))"
   ]
  },
  {
   "cell_type": "markdown",
   "id": "502b731f",
   "metadata": {},
   "source": [
    "Existem outros vários algoritmos, mais e menos robustos/eficientes, para encontrar raízes no Python (e.g, `brentq` e `newton`). Um dos mais comuns e gerais é o `fsolve`, para o qual é preciso dar um chute inicial para as raízes (que podem ser múltiplas) e não definir um intervalo de busca. Vamos usá-lo para resolver esse nosso problema:"
   ]
  },
  {
   "cell_type": "code",
   "execution_count": 12,
   "id": "a757986a",
   "metadata": {},
   "outputs": [
    {
     "data": {
      "text/plain": [
       "array([8.])"
      ]
     },
     "execution_count": 12,
     "metadata": {},
     "output_type": "execute_result"
    }
   ],
   "source": [
    "from scipy.optimize import fsolve\n",
    "\n",
    "fsolve(G, x0=7, args=(s,alpha,delta))"
   ]
  },
  {
   "cell_type": "markdown",
   "id": "dd2b2852",
   "metadata": {},
   "source": [
    "## Pontos de máximo e de mínimo\n",
    "\n",
    "À partir de agora vamos trabalhar com o **Modelo de Oferta e Demanda** para o caso de mercados em competição perfeita. Vamos começar com a análise da produção e dos determinantes da oferta das firmas.\n",
    "\n",
    "Vocês já viram no semestre passado em Princípios de Microeconomia, que as firmas em geral são representadas como agentes econômicos que visam maximizar seu nível de lucro. Em um ambiente com infinitos concorrentes, a decisão de uma firma individual leva em consideração sua estrutura de custos, mas toma o preço de mercado como dado, já que qualquer desvio em relação ao preço que é cobrado por seus concorrentes fará com que essa firma ou tenha prejuízo ou não consiga vender uma unidade sequer do produto.\n",
    "\n",
    "Seja $q_s$ a quantidade produzida do bem X por uma firma individual e $p$ o preço de mercado de X. Assuma o caso em que uma firma opera em mercado perfeitamente competitivos e que seu nível de lucro e custos totais sejam dados por:\n",
    "\n",
    "$$ \\Pi = p\\cdot q_s - CT(q_s) \\quad\\quad e \\quad\\quad CT(q_s) = \\frac{q_s^2}{30} - \\frac{q_s}{3} $$\n",
    "\n",
    "Note que maximizar $\\Pi$ é equivalente a minimizar $-\\Pi$. Podemos então resolver o problema de maximização do lucro $\\Pi$ dessa firma utilizando a função `minimize` do `scipy.optimize` que busca o ponto de mínimo da função passada como argumento. Mais uma vez começamos por definir em linguagem de código a função $-\\Pi$."
   ]
  },
  {
   "cell_type": "code",
   "execution_count": 13,
   "id": "f87d9ebc",
   "metadata": {},
   "outputs": [],
   "source": [
    "def neg_pi(q,p):\n",
    "    \n",
    "    CT = (q**2)/30 - q/3\n",
    "    \n",
    "    return -(p*q - CT)"
   ]
  },
  {
   "cell_type": "code",
   "execution_count": 14,
   "id": "fdd21564",
   "metadata": {},
   "outputs": [
    {
     "name": "stdout",
     "output_type": "stream",
     "text": [
      "      fun: -13.33333333333326\n",
      " hess_inv: array([[15.00000149]])\n",
      "      jac: array([1.1920929e-07])\n",
      "  message: 'Optimization terminated successfully.'\n",
      "     nfev: 10\n",
      "      nit: 3\n",
      "     njev: 5\n",
      "   status: 0\n",
      "  success: True\n",
      "        x: array([20.0000015])\n"
     ]
    }
   ],
   "source": [
    "from scipy.optimize import minimize\n",
    "\n",
    "result = minimize(neg_pi, x0=1, args=(1))\n",
    "print(result)"
   ]
  },
  {
   "cell_type": "markdown",
   "id": "c39314a4",
   "metadata": {},
   "source": [
    "Note que a função `minimize` salva vários objetos que remetem a várias das etapas do processo de otimização, como o número de iterações necessárias para se chegar no ponto de mínimo e se o algoritmo obteve sucesso ou não em sua busca. O valor de $q_s$ que minimiza a função $-\\Pi$ no nosso caso é dado pelo objeto `x`."
   ]
  },
  {
   "cell_type": "code",
   "execution_count": 15,
   "id": "3225ba46",
   "metadata": {},
   "outputs": [
    {
     "name": "stdout",
     "output_type": "stream",
     "text": [
      "A quantidade a ser produzida do bem X que maximiza o lucro da firma é igual a: 20.0\n"
     ]
    }
   ],
   "source": [
    "print('A quantidade a ser produzida do bem X que maximiza o lucro da firma é igual a:',np.round(result.x[0],2))"
   ]
  },
  {
   "cell_type": "markdown",
   "id": "fd4fe835",
   "metadata": {},
   "source": [
    "O valor da função $\\Pi$ nesse ponto de ótimo pode ser acessado através do objeto `fun` (lembrando sempre que a função otimizada foi $-\\Pi$ e não $\\Pi$)."
   ]
  },
  {
   "cell_type": "code",
   "execution_count": 16,
   "id": "c61c5a7a",
   "metadata": {},
   "outputs": [
    {
     "name": "stdout",
     "output_type": "stream",
     "text": [
      "O lucro máximo nesse exemplo é igual a: 13.33\n"
     ]
    }
   ],
   "source": [
    "print('O lucro máximo nesse exemplo é igual a:',-np.round(result.fun,2))"
   ]
  },
  {
   "cell_type": "markdown",
   "id": "244f4a70",
   "metadata": {},
   "source": [
    "Imagine agora o caso em que o bem X é produzido utilizando capital e trabalho através de uma função de produção logarítmica e que em seu problema de maximização de lucro a firma individual escolha quanto utilizar de cada um dos insumos, tomando o valor do salário $w$ e da taxa de aluguel do capital $r$ como dados. O problema de maximização será dado por:\n",
    "\n",
    "$$ \\Pi = p \\cdot (\\alpha \\cdot ln(K) + (1-\\alpha) \\cdot ln(L)) - CT(K,L) \\quad\\quad e \\quad\\quad CT(K,L) = rK + wL$$\n",
    "\n",
    "Mais uma vez é preciso definir primeiro a função $-\\Pi$:"
   ]
  },
  {
   "cell_type": "code",
   "execution_count": 17,
   "id": "8c3be340",
   "metadata": {},
   "outputs": [],
   "source": [
    "def neg_pi2(vec_insumos,alpha,p,w,r):\n",
    "    \n",
    "    Y = alpha*np.log(vec_insumos[0]) + (1-alpha)*np.log(vec_insumos[1])\n",
    "    CT = r*vec_insumos[0] + w*vec_insumos[1]\n",
    "    \n",
    "    return -(p*Y - CT)"
   ]
  },
  {
   "cell_type": "markdown",
   "id": "600a8b79",
   "metadata": {},
   "source": [
    "Assuma agora que $p$ seja igual a 3 e que $\\alpha=1/3$, $w=1/3$ e $r=2/3$. Basta utilizar a função `minimize` mais uma vez, mas agora passando um array (ou uma lista) de chutes para os valores ótimos de $K$ e $L$."
   ]
  },
  {
   "cell_type": "code",
   "execution_count": 18,
   "id": "62a07ce3",
   "metadata": {},
   "outputs": [
    {
     "name": "stdout",
     "output_type": "stream",
     "text": [
      "      fun: -0.9889840465641297\n",
      " hess_inv: array([[ 2.19110392, -0.11296851],\n",
      "       [-0.11296851, 17.77462142]])\n",
      "      jac: array([-3.27825546e-07, -5.96046448e-08])\n",
      "  message: 'Optimization terminated successfully.'\n",
      "     nfev: 36\n",
      "      nit: 11\n",
      "     njev: 12\n",
      "   status: 0\n",
      "  success: True\n",
      "        x: array([1.49999927, 5.99999902])\n"
     ]
    }
   ],
   "source": [
    "alpha = 1/3\n",
    "p = 3\n",
    "w = 1/3\n",
    "r = 2/3\n",
    "\n",
    "result = minimize(neg_pi2, x0=[1,2], args=(alpha,p,w,r))\n",
    "print(result)"
   ]
  },
  {
   "cell_type": "code",
   "execution_count": 19,
   "id": "aa8ad86e",
   "metadata": {},
   "outputs": [
    {
     "name": "stdout",
     "output_type": "stream",
     "text": [
      "A quantidade de capital maximiza o lucro da firma é igual a: 1.5\n",
      "A quantidade de trabalho maximiza o lucro da firma é igual a: 6.0\n"
     ]
    }
   ],
   "source": [
    "print('A quantidade de capital maximiza o lucro da firma é igual a:',np.round(result.x[0],2))\n",
    "print('A quantidade de trabalho maximiza o lucro da firma é igual a:',np.round(result.x[1],2))"
   ]
  },
  {
   "cell_type": "code",
   "execution_count": 20,
   "id": "83e28625",
   "metadata": {},
   "outputs": [
    {
     "name": "stdout",
     "output_type": "stream",
     "text": [
      "O lucro máximo nesse exemplo é igual a: 0.99\n"
     ]
    }
   ],
   "source": [
    "print('O lucro máximo nesse exemplo é igual a:',-np.round(result.fun,2))"
   ]
  },
  {
   "cell_type": "markdown",
   "id": "4b035e4d",
   "metadata": {},
   "source": [
    "# Integração numérica: _scipy.integrate_\n",
    "\n",
    "Um dos elementos que fazem do caso de mercados perfeitamente competitivos e sem falhas tão relevante para a teoria econômica é o fato de que indivíduos e firmas fazendo suas escolhas de forma individual e decentralizada chegam a um ponto de equilíbrio em que o excedente total da economia é maximizado, a famosa **mão-invisível** do mercado de _Adam Smith_.\n",
    "\n",
    "O excedente total (excedente do consumidor e excedente do produtor) pode ser calculado como a área delimitada pelas curvas de demanda inversa e oferta inversa de mercado no intervalo $[0,Q^\\star]$ em que $Q^\\star$ é quantidade de equilíbrio de mercado. A figura abaixo mostra as áreas dos excedentes para o caso de oferta e demanda lineares.\n",
    "\n",
    "<img src=\"https://drive.google.com/uc?export=view&id=10n04rPzvn-PKrN0KLWHwwhqLw07hTB0i\" style=\"width: 700px; max-width: 100%; height: auto\"/>\n",
    "\n",
    "<br>\n",
    "\n",
    "E como calcular esses excedentes na prática? **Usando o SciPy**!\n",
    "\n",
    "Assuma que para o mercado do bem X as curvas de oferta e demanda sejam lineares e dadas pelas funções abaixo:\n",
    "\n",
    "$$ Q_S = 5 + 15 P_S $$\n",
    "$$ Q_D = 25 - 5 P_D $$\n",
    "\n",
    "Dessa forma, as curvas oferta inversa e demanda inversa são dadas por\n",
    "\n",
    "$$ P_S = \\frac{Q_S}{15} - \\frac{1}{3} $$\n",
    "$$ P_D = 5 - \\frac{Q_D}{5} $$\n",
    "\n",
    "tal que em equilíbrio $P_S = P_D = P^\\star = 1$ e $Q_S = Q_D = Q^\\star = 20$.\n",
    "\n",
    "Antes de calcular o excedente total nesse caso simples precisamos definir as funções que representam essas curvas:"
   ]
  },
  {
   "cell_type": "code",
   "execution_count": 21,
   "id": "2ec2b757",
   "metadata": {},
   "outputs": [],
   "source": [
    "def PS(Q):\n",
    "    return Q/15 - 1/3\n",
    "\n",
    "def PD(Q):\n",
    "    return 5 - Q/5"
   ]
  },
  {
   "cell_type": "markdown",
   "id": "46229774",
   "metadata": {},
   "source": [
    "Primeiro passo: **Excedente do consumidor**\n",
    "\n",
    "Note que para calcular o excedente do consumidor (EC) basta calcular a área abaixo da curva de demanda no intervalo $[0,20]$, mas acima da reta horizontal em $p^\\star = 1$. Como fazer isso?\n",
    "\n",
    "$$ EC = \\int_0^{20} P_D(Q_D) dQ_D - 20$$\n",
    "\n",
    "Para calcular essa integral definida numericamente utilizamos a função `quad` do `scipy.integrate`. Essa função nos permite calcular a integral de uma dada função univariada definida no intervalo $[a,b]$. Nesse nosso caso,"
   ]
  },
  {
   "cell_type": "code",
   "execution_count": 22,
   "id": "0c7122bf",
   "metadata": {},
   "outputs": [
    {
     "name": "stdout",
     "output_type": "stream",
     "text": [
      "(60.0, 6.661338147750939e-13)\n"
     ]
    }
   ],
   "source": [
    "from scipy.integrate import quad\n",
    "\n",
    "result = quad(PD,0,20)\n",
    "print(result)"
   ]
  },
  {
   "cell_type": "markdown",
   "id": "641d4a3f",
   "metadata": {},
   "source": [
    "O primeiro valor da tupla resultante da função `quad` é o valor da integral avaliada no intervalo passado como argumento. O segundo elemento da tupla representa o erro calculado pelo algoritmo no cálculo da integral."
   ]
  },
  {
   "cell_type": "code",
   "execution_count": 23,
   "id": "4eed3c9a",
   "metadata": {},
   "outputs": [
    {
     "name": "stdout",
     "output_type": "stream",
     "text": [
      "O EC no nosso caso será igual a: 40.0\n"
     ]
    }
   ],
   "source": [
    "EC = result[0]\n",
    "print('O EC no nosso caso será igual a:',np.round(EC-20,1))"
   ]
  },
  {
   "cell_type": "markdown",
   "id": "8ce1e8d8",
   "metadata": {},
   "source": [
    "Primeiro passo: **Excedente do produtor**\n",
    "\n",
    "Para calcular o excedente do produtor (EP) devemos calcular a área do retângulo delimitado pela reta horizontal $p^\\star = 1$ e pela quantidade de equilíbrio $Q^\\star = 20$ e subtrair a área abaixo da curva de oferta de mercado. Especificamente,\n",
    "\n",
    "$$ EP = 20 - \\int_0^{20} P_S(Q_S) dQ_S$$\n",
    "\n",
    "Usando a função `quad` mais uma vez,"
   ]
  },
  {
   "cell_type": "code",
   "execution_count": 24,
   "id": "1754d70b",
   "metadata": {},
   "outputs": [
    {
     "name": "stdout",
     "output_type": "stream",
     "text": [
      "(6.666666666666668, 9.262225602689734e-14)\n"
     ]
    }
   ],
   "source": [
    "from scipy.integrate import quad\n",
    "\n",
    "result = quad(PS,0,20)\n",
    "print(result)"
   ]
  },
  {
   "cell_type": "code",
   "execution_count": 25,
   "id": "b6275245",
   "metadata": {},
   "outputs": [
    {
     "name": "stdout",
     "output_type": "stream",
     "text": [
      "O EP no nosso caso será igual a: 13.3\n"
     ]
    }
   ],
   "source": [
    "EP = result[0]\n",
    "print('O EP no nosso caso será igual a:',np.round(20 - EP,1))"
   ]
  },
  {
   "cell_type": "markdown",
   "id": "0664c39c",
   "metadata": {},
   "source": [
    "Portanto, o excedente total será dado por:"
   ]
  },
  {
   "cell_type": "code",
   "execution_count": 26,
   "id": "e4acf9b3",
   "metadata": {},
   "outputs": [
    {
     "name": "stdout",
     "output_type": "stream",
     "text": [
      "O excedente total no mercado do bem X é igual a: 66.7\n"
     ]
    }
   ],
   "source": [
    "print('O excedente total no mercado do bem X é igual a:',np.round(EC + EP,1))"
   ]
  }
 ],
 "metadata": {
  "kernelspec": {
   "display_name": "Python 3 (ipykernel)",
   "language": "python",
   "name": "python3"
  },
  "language_info": {
   "codemirror_mode": {
    "name": "ipython",
    "version": 3
   },
   "file_extension": ".py",
   "mimetype": "text/x-python",
   "name": "python",
   "nbconvert_exporter": "python",
   "pygments_lexer": "ipython3",
   "version": "3.9.12"
  },
  "toc": {
   "base_numbering": 1,
   "nav_menu": {},
   "number_sections": true,
   "sideBar": true,
   "skip_h1_title": false,
   "title_cell": "Plano de aula",
   "title_sidebar": "Contents",
   "toc_cell": true,
   "toc_position": {
    "height": "calc(100% - 180px)",
    "left": "10px",
    "top": "150px",
    "width": "333.6px"
   },
   "toc_section_display": true,
   "toc_window_display": true
  },
  "varInspector": {
   "cols": {
    "lenName": 16,
    "lenType": 16,
    "lenVar": 40
   },
   "kernels_config": {
    "python": {
     "delete_cmd_postfix": "",
     "delete_cmd_prefix": "del ",
     "library": "var_list.py",
     "varRefreshCmd": "print(var_dic_list())"
    },
    "r": {
     "delete_cmd_postfix": ") ",
     "delete_cmd_prefix": "rm(",
     "library": "var_list.r",
     "varRefreshCmd": "cat(var_dic_list()) "
    }
   },
   "oldHeight": 122.85,
   "position": {
    "height": "40px",
    "left": "1266px",
    "right": "20px",
    "top": "120px",
    "width": "250px"
   },
   "types_to_exclude": [
    "module",
    "function",
    "builtin_function_or_method",
    "instance",
    "_Feature"
   ],
   "varInspector_section_display": "none",
   "window_display": true
  }
 },
 "nbformat": 4,
 "nbformat_minor": 5
}
